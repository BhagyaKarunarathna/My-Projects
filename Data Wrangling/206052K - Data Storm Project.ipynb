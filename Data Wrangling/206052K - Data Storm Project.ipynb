{
 "cells": [
  {
   "cell_type": "markdown",
   "id": "f5fb2f10",
   "metadata": {},
   "source": [
    "# 206052K - Bhagya Karunarathna\n",
    "# Data Storm Project"
   ]
  },
  {
   "cell_type": "markdown",
   "id": "6dbd5525",
   "metadata": {},
   "source": [
    "Beverage Company XYZ manufactures and distributes over 40 beverage goods to over 100 retailers. However, when it comes to making crucial decisions like resource allocation, distribution, and launching new beverage items, they lack a data-driven decision-making process. Instead of employing data to optimize these judgments, the corporation makes them qualitatively based on experience. These methodologies have recently been shown to be inefficient, and the corporation wishes to enhance its decision-making process using sophisticated analytics and machine learning techniques, such as automated store profiling on current and new locations based on sales and consumer behavior. \n",
    "\n",
    "Thus, the aim of this project is to design and implement an advanced analytics system that Beverages Company XYZ can utilize to undertake store profiling and analytics."
   ]
  },
  {
   "cell_type": "markdown",
   "id": "92e73166",
   "metadata": {},
   "source": [
    "### Import the numpy, pandas and matplot libraries"
   ]
  },
  {
   "cell_type": "code",
   "execution_count": 1,
   "id": "ad3e433b",
   "metadata": {},
   "outputs": [],
   "source": [
    "import numpy as np\n",
    "import pandas as pd\n",
    "import matplotlib.pyplot as plt"
   ]
  },
  {
   "cell_type": "markdown",
   "id": "de3d809d",
   "metadata": {},
   "source": [
    "### Provide the path as a string file"
   ]
  },
  {
   "cell_type": "markdown",
   "id": "f19aa6d2",
   "metadata": {},
   "source": [
    "The historical transactions data frame contains the historical transaction data of stores with 488,788 records collected from each customer purchase. The respective data frame is imported to gather data for the analysis of the performance of stores based on their sales and customer behavior."
   ]
  },
  {
   "cell_type": "code",
   "execution_count": 2,
   "id": "0f8a7f5b",
   "metadata": {},
   "outputs": [],
   "source": [
    "path_transactions = r'C:\\Users\\acer\\OneDrive - University of Moratuwa\\UOM\\Semester 5 - CA\\S5 - Data Wrangling DA3110\\Data Storm - 15.06.2023\\Tables\\Historical-transaction-data.csv'\n",
    "filename_transactions = 'Historical-transaction-data.csv'"
   ]
  },
  {
   "cell_type": "markdown",
   "id": "40f047b6",
   "metadata": {},
   "source": [
    "To identify stores that are performing well and that are not, the 'Store info' data frame is imported. So that recommendations could be made to improve low-rated stores, to allocate resources, and to optimize the process of item range decisions.  "
   ]
  },
  {
   "cell_type": "code",
   "execution_count": 3,
   "id": "deedc8a9",
   "metadata": {},
   "outputs": [],
   "source": [
    "path_stores = r'C:\\Users\\acer\\OneDrive - University of Moratuwa\\UOM\\Semester 5 - CA\\S5 - Data Wrangling DA3110\\Data Storm - 15.06.2023\\Tables\\Store-info.csv'\n",
    "filename_stores = 'Store-info.csv'"
   ]
  },
  {
   "cell_type": "markdown",
   "id": "600b1401",
   "metadata": {},
   "source": [
    "### Read the 'Historical Transactions data set' using pd.read_csv(path)"
   ]
  },
  {
   "cell_type": "code",
   "execution_count": 143,
   "id": "53732478",
   "metadata": {},
   "outputs": [
    {
     "data": {
      "text/html": [
       "<div>\n",
       "<style scoped>\n",
       "    .dataframe tbody tr th:only-of-type {\n",
       "        vertical-align: middle;\n",
       "    }\n",
       "\n",
       "    .dataframe tbody tr th {\n",
       "        vertical-align: top;\n",
       "    }\n",
       "\n",
       "    .dataframe thead th {\n",
       "        text-align: right;\n",
       "    }\n",
       "</style>\n",
       "<table border=\"1\" class=\"dataframe\">\n",
       "  <thead>\n",
       "    <tr style=\"text-align: right;\">\n",
       "      <th></th>\n",
       "      <th>item_description</th>\n",
       "      <th>transaction_date</th>\n",
       "      <th>invoice_id</th>\n",
       "      <th>customer_id</th>\n",
       "      <th>shop_id</th>\n",
       "      <th>item_price</th>\n",
       "      <th>quantity_sold</th>\n",
       "    </tr>\n",
       "  </thead>\n",
       "  <tbody>\n",
       "    <tr>\n",
       "      <th>0</th>\n",
       "      <td>ORANGE BARLEY 1.5L</td>\n",
       "      <td>2021-12-11T00:00:00.000Z</td>\n",
       "      <td>147.0</td>\n",
       "      <td>BGXA</td>\n",
       "      <td>SHOP008</td>\n",
       "      <td>220</td>\n",
       "      <td>2</td>\n",
       "    </tr>\n",
       "    <tr>\n",
       "      <th>1</th>\n",
       "      <td>GINGER BEER 1.5L</td>\n",
       "      <td>2021-10-17T00:00:00.000Z</td>\n",
       "      <td>371.0</td>\n",
       "      <td>IA25</td>\n",
       "      <td>SHOP112</td>\n",
       "      <td>220</td>\n",
       "      <td>2</td>\n",
       "    </tr>\n",
       "    <tr>\n",
       "      <th>2</th>\n",
       "      <td>TONIC PET 500ML</td>\n",
       "      <td>2021-12-13T00:00:00.000Z</td>\n",
       "      <td>484.0</td>\n",
       "      <td>VN7V</td>\n",
       "      <td>SHOP008</td>\n",
       "      <td>160</td>\n",
       "      <td>2</td>\n",
       "    </tr>\n",
       "    <tr>\n",
       "      <th>3</th>\n",
       "      <td>CREAM SODA 1L</td>\n",
       "      <td>2021-12-13T00:00:00.000Z</td>\n",
       "      <td>484.0</td>\n",
       "      <td>VN7V</td>\n",
       "      <td>SHOP008</td>\n",
       "      <td>150</td>\n",
       "      <td>2</td>\n",
       "    </tr>\n",
       "    <tr>\n",
       "      <th>4</th>\n",
       "      <td>STRAWBERRY MILK 180ML</td>\n",
       "      <td>2021-10-23T00:00:00.000Z</td>\n",
       "      <td>1310.0</td>\n",
       "      <td>7S00</td>\n",
       "      <td>SHOP112</td>\n",
       "      <td>210</td>\n",
       "      <td>5</td>\n",
       "    </tr>\n",
       "    <tr>\n",
       "      <th>...</th>\n",
       "      <td>...</td>\n",
       "      <td>...</td>\n",
       "      <td>...</td>\n",
       "      <td>...</td>\n",
       "      <td>...</td>\n",
       "      <td>...</td>\n",
       "      <td>...</td>\n",
       "    </tr>\n",
       "    <tr>\n",
       "      <th>473969</th>\n",
       "      <td>NECTO 1.5L</td>\n",
       "      <td>2021-12-09T00:00:00.000Z</td>\n",
       "      <td>NaN</td>\n",
       "      <td>X21A</td>\n",
       "      <td>SHOP056</td>\n",
       "      <td>440</td>\n",
       "      <td>3</td>\n",
       "    </tr>\n",
       "    <tr>\n",
       "      <th>473970</th>\n",
       "      <td>LEMONADE 1.5L</td>\n",
       "      <td>2021-12-02T00:00:00.000Z</td>\n",
       "      <td>NaN</td>\n",
       "      <td>LV2L</td>\n",
       "      <td>SHOP018</td>\n",
       "      <td>220</td>\n",
       "      <td>2</td>\n",
       "    </tr>\n",
       "    <tr>\n",
       "      <th>473971</th>\n",
       "      <td>FIT O ORANGE 200ML</td>\n",
       "      <td>2021-11-19T00:00:00.000Z</td>\n",
       "      <td>NaN</td>\n",
       "      <td>VC4O</td>\n",
       "      <td>SHOP077</td>\n",
       "      <td>210</td>\n",
       "      <td>4</td>\n",
       "    </tr>\n",
       "    <tr>\n",
       "      <th>473972</th>\n",
       "      <td>CREAM SODA 1.5L</td>\n",
       "      <td>2021-12-03T00:00:00.000Z</td>\n",
       "      <td>NaN</td>\n",
       "      <td>MSBQ</td>\n",
       "      <td>SHOP077</td>\n",
       "      <td>440</td>\n",
       "      <td>3</td>\n",
       "    </tr>\n",
       "    <tr>\n",
       "      <th>473973</th>\n",
       "      <td>CREAM SODA APPLE POP 1L</td>\n",
       "      <td>2021-12-03T00:00:00.000Z</td>\n",
       "      <td>NaN</td>\n",
       "      <td>MSBQ</td>\n",
       "      <td>SHOP077</td>\n",
       "      <td>150</td>\n",
       "      <td>1</td>\n",
       "    </tr>\n",
       "  </tbody>\n",
       "</table>\n",
       "<p>473974 rows × 7 columns</p>\n",
       "</div>"
      ],
      "text/plain": [
       "               item_description          transaction_date  invoice_id  \\\n",
       "0            ORANGE BARLEY 1.5L  2021-12-11T00:00:00.000Z       147.0   \n",
       "1              GINGER BEER 1.5L  2021-10-17T00:00:00.000Z       371.0   \n",
       "2               TONIC PET 500ML  2021-12-13T00:00:00.000Z       484.0   \n",
       "3                 CREAM SODA 1L  2021-12-13T00:00:00.000Z       484.0   \n",
       "4         STRAWBERRY MILK 180ML  2021-10-23T00:00:00.000Z      1310.0   \n",
       "...                         ...                       ...         ...   \n",
       "473969               NECTO 1.5L  2021-12-09T00:00:00.000Z         NaN   \n",
       "473970            LEMONADE 1.5L  2021-12-02T00:00:00.000Z         NaN   \n",
       "473971       FIT O ORANGE 200ML  2021-11-19T00:00:00.000Z         NaN   \n",
       "473972          CREAM SODA 1.5L  2021-12-03T00:00:00.000Z         NaN   \n",
       "473973  CREAM SODA APPLE POP 1L  2021-12-03T00:00:00.000Z         NaN   \n",
       "\n",
       "       customer_id  shop_id  item_price  quantity_sold  \n",
       "0             BGXA  SHOP008         220              2  \n",
       "1             IA25  SHOP112         220              2  \n",
       "2             VN7V  SHOP008         160              2  \n",
       "3             VN7V  SHOP008         150              2  \n",
       "4             7S00  SHOP112         210              5  \n",
       "...            ...      ...         ...            ...  \n",
       "473969        X21A  SHOP056         440              3  \n",
       "473970        LV2L  SHOP018         220              2  \n",
       "473971        VC4O  SHOP077         210              4  \n",
       "473972        MSBQ  SHOP077         440              3  \n",
       "473973        MSBQ  SHOP077         150              1  \n",
       "\n",
       "[473974 rows x 7 columns]"
      ]
     },
     "execution_count": 143,
     "metadata": {},
     "output_type": "execute_result"
    }
   ],
   "source": [
    "df_transactions = pd.read_csv(path_transactions)\n",
    "df_transactions"
   ]
  },
  {
   "cell_type": "markdown",
   "id": "5a0d2bad",
   "metadata": {},
   "source": [
    "### Inspect the number of rows and columns in the Historical Transaction data set"
   ]
  },
  {
   "cell_type": "code",
   "execution_count": 5,
   "id": "ddb7c19a",
   "metadata": {},
   "outputs": [
    {
     "name": "stdout",
     "output_type": "stream",
     "text": [
      "rows: 473974 columns: 7\n"
     ]
    }
   ],
   "source": [
    "rows = df_transactions.shape[0]  \n",
    "columns = df_transactions.shape[1]\n",
    "print('rows:',rows,'columns:',columns)"
   ]
  },
  {
   "cell_type": "markdown",
   "id": "d78724c7",
   "metadata": {},
   "source": [
    "There are 473974 transactions with item description, transaction date, invoice id, customer id, shop id, item price, and quantity sold in the historical transaction data set."
   ]
  },
  {
   "cell_type": "markdown",
   "id": "b84ab657",
   "metadata": {},
   "source": [
    "### Displaying the variables of Historical Transaction data set"
   ]
  },
  {
   "cell_type": "code",
   "execution_count": 24,
   "id": "a6471a60",
   "metadata": {},
   "outputs": [
    {
     "data": {
      "text/plain": [
       "Index(['item_description', 'transaction_date', 'invoice_id', 'customer_id',\n",
       "       'shop_id', 'item_price', 'quantity_sold'],\n",
       "      dtype='object')"
      ]
     },
     "execution_count": 24,
     "metadata": {},
     "output_type": "execute_result"
    }
   ],
   "source": [
    "df_transactions.columns"
   ]
  },
  {
   "cell_type": "markdown",
   "id": "2bf1dbed",
   "metadata": {},
   "source": [
    "### Displaying the data types of the variables"
   ]
  },
  {
   "cell_type": "code",
   "execution_count": 25,
   "id": "f7c7360f",
   "metadata": {},
   "outputs": [
    {
     "data": {
      "text/plain": [
       "item_description     object\n",
       "transaction_date     object\n",
       "invoice_id          float64\n",
       "customer_id          object\n",
       "shop_id              object\n",
       "item_price            int64\n",
       "quantity_sold         int64\n",
       "dtype: object"
      ]
     },
     "execution_count": 25,
     "metadata": {},
     "output_type": "execute_result"
    }
   ],
   "source": [
    "df_transactions.dtypes"
   ]
  },
  {
   "cell_type": "markdown",
   "id": "17b78f8c",
   "metadata": {},
   "source": [
    "Considering the above data types, the 'invoice_id' can not be a float. It is an object. \n",
    "\n",
    "Also for more precise store profiling and data analysis, it is more appropriate to represent the price of an item as a float. Beacuse prices are continuous values and often has decimal values. Using an integer will decrease precision since any decimal values would be truncated. In this data set, the 'item_price' is represented as an integer. It should be converted to float to get more precise analyses. \n",
    "\n",
    "Thus, the aforementioned variable data types have been converted as follows. "
   ]
  },
  {
   "cell_type": "code",
   "execution_count": 174,
   "id": "1f9e5dd0",
   "metadata": {},
   "outputs": [
    {
     "data": {
      "text/plain": [
       "0             147.0\n",
       "1             371.0\n",
       "2             484.0\n",
       "3             484.0\n",
       "4            1310.0\n",
       "            ...    \n",
       "432104    8014206.0\n",
       "432105    8304754.0\n",
       "432106    8304807.0\n",
       "432107    8313570.0\n",
       "432108    8325631.0\n",
       "Name: invoice_id, Length: 432109, dtype: object"
      ]
     },
     "execution_count": 174,
     "metadata": {},
     "output_type": "execute_result"
    }
   ],
   "source": [
    "# Convert column 'invoice_id' to object\n",
    "df_transactions['invoice_id'] = df_transactions['invoice_id'].astype(object)\n",
    "df_transactions['invoice_id']"
   ]
  },
  {
   "cell_type": "code",
   "execution_count": 175,
   "id": "171b8822",
   "metadata": {},
   "outputs": [
    {
     "data": {
      "text/plain": [
       "0         220.0\n",
       "1         220.0\n",
       "2         160.0\n",
       "3         150.0\n",
       "4         210.0\n",
       "          ...  \n",
       "432104     60.0\n",
       "432105     35.0\n",
       "432106    220.0\n",
       "432107     35.0\n",
       "432108    220.0\n",
       "Name: item_price, Length: 432109, dtype: float64"
      ]
     },
     "execution_count": 175,
     "metadata": {},
     "output_type": "execute_result"
    }
   ],
   "source": [
    "# Convert coulmn 'item_price' to float\n",
    "df_transactions['item_price'] = df_transactions['item_price'].astype(float)\n",
    "df_transactions['item_price']"
   ]
  },
  {
   "cell_type": "code",
   "execution_count": 176,
   "id": "53481b45",
   "metadata": {},
   "outputs": [
    {
     "data": {
      "text/plain": [
       "item_description     object\n",
       "transaction_date     object\n",
       "invoice_id           object\n",
       "customer_id          object\n",
       "shop_id              object\n",
       "item_price          float64\n",
       "quantity_sold         int64\n",
       "dtype: object"
      ]
     },
     "execution_count": 176,
     "metadata": {},
     "output_type": "execute_result"
    }
   ],
   "source": [
    "# Displaying the resulting data types of variables \n",
    "df_transactions.dtypes"
   ]
  },
  {
   "cell_type": "markdown",
   "id": "8cea1920",
   "metadata": {},
   "source": [
    "### Check for negative values in the 'quantity sold' column"
   ]
  },
  {
   "cell_type": "code",
   "execution_count": 63,
   "id": "663bb0b9",
   "metadata": {},
   "outputs": [
    {
     "name": "stdout",
     "output_type": "stream",
     "text": [
      "                    item_description          transaction_date invoice_id  \\\n",
      "5016               GINGER BEER 500ML  2021-11-26T00:00:00.000Z  1453866.0   \n",
      "20896               CREAM SODA 500ML  2021-12-02T00:00:00.000Z  3109501.0   \n",
      "46371                    NECTO 500ML  2021-10-24T00:00:00.000Z  4013203.0   \n",
      "57703                 FIT O MANGO 1L  2021-12-02T00:00:00.000Z  3596802.0   \n",
      "67227               GINGER BEER 1.5L  2021-10-23T00:00:00.000Z  2428573.0   \n",
      "98031                 GINGER BEER 1L  2021-10-22T00:00:00.000Z  1120071.0   \n",
      "124439       CREAM SODA APPLE POP 1L  2021-10-18T00:00:00.000Z  2127500.0   \n",
      "136437              GINGER BEER 1.5L  2021-12-13T00:00:00.000Z  2148619.0   \n",
      "181365                GINGER BEER 1L  2021-11-26T00:00:00.000Z  1282080.0   \n",
      "215038          FIT O MIXED FRUIT 1L  2021-11-19T00:00:00.000Z   466077.0   \n",
      "279383  BOTTLED DRINKING WATER 500ML  2021-11-16T00:00:00.000Z  2349620.0   \n",
      "314634       CREAM SODA APPLE POP 1L  2021-10-18T00:00:00.000Z  2266881.0   \n",
      "\n",
      "       customer_id  shop_id  item_price  quantity_sold  \n",
      "5016          P54J  SHOP084       100.0             -1  \n",
      "20896         YRPV  SHOP088       100.0             -1  \n",
      "46371         BV67  SHOP036       100.0             -1  \n",
      "57703         4RYV  SHOP056       290.0             -1  \n",
      "67227         BP1R  SHOP056       220.0             -1  \n",
      "98031         37GH  SHOP037       150.0             -1  \n",
      "124439        Z3JV  SHOP067       150.0             -1  \n",
      "136437        D2AN  SHOP117       220.0             -1  \n",
      "181365        4S7G  SHOP063       150.0             -1  \n",
      "215038        XS5T  SHOP069       290.0             -1  \n",
      "279383        JGJK  SHOP060        35.0             -1  \n",
      "314634        5FOH  SHOP074       150.0             -1  \n"
     ]
    }
   ],
   "source": [
    "negative_qty = df_transactions[df_transactions['quantity_sold'] < 0]\n",
    "\n",
    "# Display the resulting dataframe\n",
    "print(negative_qty)"
   ]
  },
  {
   "cell_type": "markdown",
   "id": "841c086f",
   "metadata": {},
   "source": [
    "Records of 'quantity sold' column can not be negative. The negative values could be an error or mistake in the data. Else, it is possible that they represent a return or refund. The salesperson might have mistakenly record the quantity sold as '-1' when recording returns or refunds of items instead of decreasing the total quantity sold by 1 to reflect the return.\n",
    "\n",
    "Assuming that negative values represent a return or refund and since all the negative values for each item equals '-1', it has been decided to replace '-1' with '0' to indicate no sales on respective items. "
   ]
  },
  {
   "cell_type": "code",
   "execution_count": 64,
   "id": "ecf9a063",
   "metadata": {},
   "outputs": [],
   "source": [
    "df_transactions['quantity_sold'] = df_transactions['quantity_sold'].apply(lambda x: max(0, x))"
   ]
  },
  {
   "cell_type": "code",
   "execution_count": 66,
   "id": "1dfe66bd",
   "metadata": {},
   "outputs": [
    {
     "name": "stdout",
     "output_type": "stream",
     "text": [
      "Empty DataFrame\n",
      "Columns: [item_description, transaction_date, invoice_id, customer_id, shop_id, item_price, quantity_sold]\n",
      "Index: []\n"
     ]
    }
   ],
   "source": [
    "# Checking the resulting dataframe\n",
    "negative_qty = df_transactions[df_transactions['quantity_sold'] < 0]\n",
    "print(negative_qty)"
   ]
  },
  {
   "cell_type": "markdown",
   "id": "e42ae7e7",
   "metadata": {},
   "source": [
    "### Checking the null values in the Historical Transaction data set"
   ]
  },
  {
   "cell_type": "markdown",
   "id": "8db402eb",
   "metadata": {},
   "source": [
    "##### Checking the null values in the columns"
   ]
  },
  {
   "cell_type": "code",
   "execution_count": 52,
   "id": "188cd8f0",
   "metadata": {},
   "outputs": [
    {
     "data": {
      "text/plain": [
       "item_description     True\n",
       "transaction_date    False\n",
       "invoice_id           True\n",
       "customer_id         False\n",
       "shop_id             False\n",
       "item_price          False\n",
       "quantity_sold       False\n",
       "dtype: bool"
      ]
     },
     "execution_count": 52,
     "metadata": {},
     "output_type": "execute_result"
    }
   ],
   "source": [
    "df_transactions.isnull().any()"
   ]
  },
  {
   "cell_type": "markdown",
   "id": "d2ba2bbf",
   "metadata": {},
   "source": [
    "##### Counting the number of rows with missing values in a given column"
   ]
  },
  {
   "cell_type": "code",
   "execution_count": 53,
   "id": "5bc4e5d5",
   "metadata": {},
   "outputs": [
    {
     "data": {
      "text/plain": [
       "item_description    35928\n",
       "transaction_date        0\n",
       "invoice_id           6320\n",
       "customer_id             0\n",
       "shop_id                 0\n",
       "item_price              0\n",
       "quantity_sold           0\n",
       "dtype: int64"
      ]
     },
     "execution_count": 53,
     "metadata": {},
     "output_type": "execute_result"
    }
   ],
   "source": [
    "df_transactions.isnull().sum()"
   ]
  },
  {
   "cell_type": "markdown",
   "id": "4d6f4176",
   "metadata": {},
   "source": [
    "##### The percentage of missing values for each of the variables"
   ]
  },
  {
   "cell_type": "code",
   "execution_count": 71,
   "id": "aef541b7",
   "metadata": {},
   "outputs": [
    {
     "data": {
      "text/plain": [
       "item_description    7.580163\n",
       "transaction_date    0.000000\n",
       "invoice_id          1.333406\n",
       "customer_id         0.000000\n",
       "shop_id             0.000000\n",
       "item_price          0.000000\n",
       "quantity_sold       0.000000\n",
       "dtype: float64"
      ]
     },
     "execution_count": 71,
     "metadata": {},
     "output_type": "execute_result"
    }
   ],
   "source": [
    "missing_transactions = df_transactions.isnull().sum() / len(df_transactions) * 100\n",
    "missing_transactions"
   ]
  },
  {
   "cell_type": "markdown",
   "id": "e61e2ad1",
   "metadata": {},
   "source": [
    "In this data set, missing values can be found in 'item description' and 'invoice id' columns. \n",
    "\n",
    "These missing values can not be filled with a specific value such as mode. Because 'invoice id' is a unique string and differs from one sale to another. And we can not manipulate the missing values in 'item description' with a specific value like mode because it would give false insights on sales. In this project, the aim is to analyze the performance of stores based on sales and customer behaviour. Hence, the analyses could be misleading if the missing values in the 'item description' are filled with the mode. \n",
    "\n",
    "Also the percentage of missing values for 'item description' and 'invoice id' columns are less than 10%. Therefore, we could drop the null values to analyze the 'Historical transaction' data set. "
   ]
  },
  {
   "cell_type": "code",
   "execution_count": 146,
   "id": "fa4cc0fd",
   "metadata": {},
   "outputs": [],
   "source": [
    "# Drop the null values in 'item description'\n",
    "df_transactions.dropna(subset = ['item_description'],axis=0, inplace = True) "
   ]
  },
  {
   "cell_type": "code",
   "execution_count": 147,
   "id": "ca114e66",
   "metadata": {},
   "outputs": [],
   "source": [
    "# Drop the null values in 'invoice_id'\n",
    "df_transactions.dropna(subset = ['invoice_id'],axis=0, inplace = True) "
   ]
  },
  {
   "cell_type": "code",
   "execution_count": 148,
   "id": "91e5d111",
   "metadata": {},
   "outputs": [
    {
     "data": {
      "text/plain": [
       "432109"
      ]
     },
     "execution_count": 148,
     "metadata": {},
     "output_type": "execute_result"
    }
   ],
   "source": [
    "after_drop = df_transactions.shape[0]\n",
    "after_drop "
   ]
  },
  {
   "cell_type": "code",
   "execution_count": 144,
   "id": "45721c7a",
   "metadata": {},
   "outputs": [
    {
     "name": "stdout",
     "output_type": "stream",
     "text": [
      "Number of dropped rows 41865\n"
     ]
    }
   ],
   "source": [
    "print(\"Number of dropped rows {}\".format(len(df_transactions) - after_drop))"
   ]
  },
  {
   "cell_type": "markdown",
   "id": "d563ad62",
   "metadata": {},
   "source": [
    "41865 transactions with null values have been dropped from the 'Historical transactions' data set."
   ]
  },
  {
   "cell_type": "markdown",
   "id": "9b232b4d",
   "metadata": {},
   "source": [
    "##### Reset the index values after dropping NaN rows."
   ]
  },
  {
   "cell_type": "code",
   "execution_count": 151,
   "id": "e2501513",
   "metadata": {},
   "outputs": [
    {
     "data": {
      "text/plain": [
       "(432109, 7)"
      ]
     },
     "execution_count": 151,
     "metadata": {},
     "output_type": "execute_result"
    }
   ],
   "source": [
    "df_transactions.reset_index(drop = True, inplace = True)\n",
    "df_transactions.shape"
   ]
  },
  {
   "cell_type": "markdown",
   "id": "4b446c17",
   "metadata": {},
   "source": [
    "### Read the 'Store info data set' using pd.read_csv(path) "
   ]
  },
  {
   "cell_type": "code",
   "execution_count": 95,
   "id": "2a5a5875",
   "metadata": {},
   "outputs": [
    {
     "data": {
      "text/html": [
       "<div>\n",
       "<style scoped>\n",
       "    .dataframe tbody tr th:only-of-type {\n",
       "        vertical-align: middle;\n",
       "    }\n",
       "\n",
       "    .dataframe tbody tr th {\n",
       "        vertical-align: top;\n",
       "    }\n",
       "\n",
       "    .dataframe thead th {\n",
       "        text-align: right;\n",
       "    }\n",
       "</style>\n",
       "<table border=\"1\" class=\"dataframe\">\n",
       "  <thead>\n",
       "    <tr style=\"text-align: right;\">\n",
       "      <th></th>\n",
       "      <th>shop_id</th>\n",
       "      <th>shop_area_sq_ft</th>\n",
       "      <th>shop_profile</th>\n",
       "    </tr>\n",
       "  </thead>\n",
       "  <tbody>\n",
       "    <tr>\n",
       "      <th>0</th>\n",
       "      <td>SHOP047</td>\n",
       "      <td>528</td>\n",
       "      <td>Moderate</td>\n",
       "    </tr>\n",
       "    <tr>\n",
       "      <th>1</th>\n",
       "      <td>SHOP009</td>\n",
       "      <td>676</td>\n",
       "      <td>High</td>\n",
       "    </tr>\n",
       "    <tr>\n",
       "      <th>2</th>\n",
       "      <td>SHOP083</td>\n",
       "      <td>676</td>\n",
       "      <td>Low</td>\n",
       "    </tr>\n",
       "    <tr>\n",
       "      <th>3</th>\n",
       "      <td>SHOP117</td>\n",
       "      <td>676</td>\n",
       "      <td>Low</td>\n",
       "    </tr>\n",
       "    <tr>\n",
       "      <th>4</th>\n",
       "      <td>SHOP042</td>\n",
       "      <td>676</td>\n",
       "      <td>Low</td>\n",
       "    </tr>\n",
       "    <tr>\n",
       "      <th>...</th>\n",
       "      <td>...</td>\n",
       "      <td>...</td>\n",
       "      <td>...</td>\n",
       "    </tr>\n",
       "    <tr>\n",
       "      <th>119</th>\n",
       "      <td>SHOP087</td>\n",
       "      <td>527</td>\n",
       "      <td>NaN</td>\n",
       "    </tr>\n",
       "    <tr>\n",
       "      <th>120</th>\n",
       "      <td>SHOP050</td>\n",
       "      <td>411</td>\n",
       "      <td>NaN</td>\n",
       "    </tr>\n",
       "    <tr>\n",
       "      <th>121</th>\n",
       "      <td>SHOP061</td>\n",
       "      <td>699</td>\n",
       "      <td>NaN</td>\n",
       "    </tr>\n",
       "    <tr>\n",
       "      <th>122</th>\n",
       "      <td>SHOP056</td>\n",
       "      <td>597</td>\n",
       "      <td>NaN</td>\n",
       "    </tr>\n",
       "    <tr>\n",
       "      <th>123</th>\n",
       "      <td>SHOP070</td>\n",
       "      <td>676</td>\n",
       "      <td>NaN</td>\n",
       "    </tr>\n",
       "  </tbody>\n",
       "</table>\n",
       "<p>124 rows × 3 columns</p>\n",
       "</div>"
      ],
      "text/plain": [
       "     shop_id  shop_area_sq_ft shop_profile\n",
       "0    SHOP047              528     Moderate\n",
       "1    SHOP009              676         High\n",
       "2    SHOP083              676          Low\n",
       "3    SHOP117              676          Low\n",
       "4    SHOP042              676          Low\n",
       "..       ...              ...          ...\n",
       "119  SHOP087              527          NaN\n",
       "120  SHOP050              411          NaN\n",
       "121  SHOP061              699          NaN\n",
       "122  SHOP056              597          NaN\n",
       "123  SHOP070              676          NaN\n",
       "\n",
       "[124 rows x 3 columns]"
      ]
     },
     "execution_count": 95,
     "metadata": {},
     "output_type": "execute_result"
    }
   ],
   "source": [
    "df_stores = pd.read_csv(path_stores)\n",
    "df_stores"
   ]
  },
  {
   "cell_type": "markdown",
   "id": "5109416d",
   "metadata": {},
   "source": [
    "### Inspect the number of rows and columns in the Store Info data set"
   ]
  },
  {
   "cell_type": "code",
   "execution_count": 45,
   "id": "c165a8a0",
   "metadata": {},
   "outputs": [
    {
     "name": "stdout",
     "output_type": "stream",
     "text": [
      "rows: 124 columns: 3\n"
     ]
    }
   ],
   "source": [
    "rows = df_stores.shape[0]  \n",
    "columns = df_stores.shape[1]\n",
    "print('rows:',rows,'columns:',columns)"
   ]
  },
  {
   "cell_type": "markdown",
   "id": "25dfa388",
   "metadata": {},
   "source": [
    "There are 124 stores with shops space and store profile in the 'Store Info data set'. "
   ]
  },
  {
   "cell_type": "markdown",
   "id": "04814b77",
   "metadata": {},
   "source": [
    "### Displaying the variables of Store Info data set"
   ]
  },
  {
   "cell_type": "code",
   "execution_count": 46,
   "id": "cdf2b841",
   "metadata": {},
   "outputs": [
    {
     "data": {
      "text/plain": [
       "Index(['shop_id', 'shop_area_sq_ft', 'shop_profile'], dtype='object')"
      ]
     },
     "execution_count": 46,
     "metadata": {},
     "output_type": "execute_result"
    }
   ],
   "source": [
    "df_stores.columns"
   ]
  },
  {
   "cell_type": "markdown",
   "id": "42a793e8",
   "metadata": {},
   "source": [
    "### Displaying the data types of the variables"
   ]
  },
  {
   "cell_type": "code",
   "execution_count": 107,
   "id": "601ec742",
   "metadata": {},
   "outputs": [
    {
     "data": {
      "text/plain": [
       "shop_id            object\n",
       "shop_area_sq_ft     int64\n",
       "shop_profile       object\n",
       "dtype: object"
      ]
     },
     "execution_count": 107,
     "metadata": {},
     "output_type": "execute_result"
    }
   ],
   "source": [
    "df_stores.dtypes"
   ]
  },
  {
   "cell_type": "markdown",
   "id": "10f0307c",
   "metadata": {},
   "source": [
    "In this data set, the 'shop_area_sq_ft' is represented as an integer. However, floor areas are continuous values and often has decimal values. Using an integer will decrease precision since any decimal values would be truncated. \n",
    "\n",
    "Since the analysis is done to evaluate the performance of stores and to allocate resources, such as equipment, marketing, and staffing, to improve the performance of low-rated stores, using the most precised data type would give better analyses. Hence, the 'shop area' should be converted to float as follows."
   ]
  },
  {
   "cell_type": "code",
   "execution_count": 180,
   "id": "68300453",
   "metadata": {},
   "outputs": [
    {
     "data": {
      "text/plain": [
       "0      528.0\n",
       "1      676.0\n",
       "2      676.0\n",
       "3      676.0\n",
       "4      676.0\n",
       "       ...  \n",
       "119    527.0\n",
       "120    411.0\n",
       "121    699.0\n",
       "122    597.0\n",
       "123    676.0\n",
       "Name: shop_area_sq_ft, Length: 124, dtype: float64"
      ]
     },
     "execution_count": 180,
     "metadata": {},
     "output_type": "execute_result"
    }
   ],
   "source": [
    "df_stores['shop_area_sq_ft'] = df_stores['shop_area_sq_ft'].astype(float)\n",
    "df_stores['shop_area_sq_ft']"
   ]
  },
  {
   "cell_type": "code",
   "execution_count": 181,
   "id": "f2b6e3ac",
   "metadata": {},
   "outputs": [
    {
     "data": {
      "text/plain": [
       "shop_id             object\n",
       "shop_area_sq_ft    float64\n",
       "shop_profile        object\n",
       "dtype: object"
      ]
     },
     "execution_count": 181,
     "metadata": {},
     "output_type": "execute_result"
    }
   ],
   "source": [
    "# Displaying the resulting data types of variables \n",
    "df_stores.dtypes"
   ]
  },
  {
   "cell_type": "markdown",
   "id": "5f3ce1ac",
   "metadata": {},
   "source": [
    "### Checking the null values in the Store Info data set"
   ]
  },
  {
   "cell_type": "markdown",
   "id": "bfa7a2d8",
   "metadata": {},
   "source": [
    "##### Checking the null values in the columns"
   ]
  },
  {
   "cell_type": "code",
   "execution_count": 69,
   "id": "c2c03a1d",
   "metadata": {},
   "outputs": [
    {
     "data": {
      "text/plain": [
       "shop_id            False\n",
       "shop_area_sq_ft    False\n",
       "shop_profile        True\n",
       "dtype: bool"
      ]
     },
     "execution_count": 69,
     "metadata": {},
     "output_type": "execute_result"
    }
   ],
   "source": [
    "df_stores.isnull().any()"
   ]
  },
  {
   "cell_type": "markdown",
   "id": "33cb0248",
   "metadata": {},
   "source": [
    "##### Counting the number of rows with missing values in a given column"
   ]
  },
  {
   "cell_type": "code",
   "execution_count": 96,
   "id": "ab435aa2",
   "metadata": {},
   "outputs": [
    {
     "data": {
      "text/plain": [
       "shop_id             0\n",
       "shop_area_sq_ft     0\n",
       "shop_profile       24\n",
       "dtype: int64"
      ]
     },
     "execution_count": 96,
     "metadata": {},
     "output_type": "execute_result"
    }
   ],
   "source": [
    "df_stores.isnull().sum()"
   ]
  },
  {
   "cell_type": "markdown",
   "id": "6d0a9866",
   "metadata": {},
   "source": [
    "##### The percentage of missing values for each of the variables"
   ]
  },
  {
   "cell_type": "code",
   "execution_count": 72,
   "id": "79959d6d",
   "metadata": {},
   "outputs": [
    {
     "data": {
      "text/plain": [
       "shop_id             0.000000\n",
       "shop_area_sq_ft     0.000000\n",
       "shop_profile       19.354839\n",
       "dtype: float64"
      ]
     },
     "execution_count": 72,
     "metadata": {},
     "output_type": "execute_result"
    }
   ],
   "source": [
    "missing_stores = df_stores.isnull().sum() / len(df_stores) * 100\n",
    "missing_stores"
   ]
  },
  {
   "cell_type": "markdown",
   "id": "91401b9f",
   "metadata": {},
   "source": [
    "19.35% of 'store profile' data is missing in the 'Store info' data set."
   ]
  },
  {
   "cell_type": "markdown",
   "id": "3d6b3273",
   "metadata": {},
   "source": [
    "### Provide the path to 'Evaluation-data' as a string file"
   ]
  },
  {
   "cell_type": "code",
   "execution_count": 73,
   "id": "5be2342f",
   "metadata": {},
   "outputs": [],
   "source": [
    "path_evaluation = r'C:\\Users\\acer\\OneDrive - University of Moratuwa\\UOM\\Semester 5 - CA\\S5 - Data Wrangling DA3110\\Data Storm - 15.06.2023\\Tables\\Evaluation-data.csv'\n",
    "filename_evaluation = 'Evaluation-data.csv'"
   ]
  },
  {
   "cell_type": "markdown",
   "id": "05f7760b",
   "metadata": {},
   "source": [
    "### Read the 'Evaluation data set' using pd.read_csv(path) "
   ]
  },
  {
   "cell_type": "code",
   "execution_count": 179,
   "id": "74afdf32",
   "metadata": {},
   "outputs": [
    {
     "data": {
      "text/html": [
       "<div>\n",
       "<style scoped>\n",
       "    .dataframe tbody tr th:only-of-type {\n",
       "        vertical-align: middle;\n",
       "    }\n",
       "\n",
       "    .dataframe tbody tr th {\n",
       "        vertical-align: top;\n",
       "    }\n",
       "\n",
       "    .dataframe thead th {\n",
       "        text-align: right;\n",
       "    }\n",
       "</style>\n",
       "<table border=\"1\" class=\"dataframe\">\n",
       "  <thead>\n",
       "    <tr style=\"text-align: right;\">\n",
       "      <th></th>\n",
       "      <th>shop_id</th>\n",
       "      <th>shop_profile</th>\n",
       "    </tr>\n",
       "  </thead>\n",
       "  <tbody>\n",
       "    <tr>\n",
       "      <th>0</th>\n",
       "      <td>SHOP046</td>\n",
       "      <td>Low</td>\n",
       "    </tr>\n",
       "    <tr>\n",
       "      <th>1</th>\n",
       "      <td>SHOP024</td>\n",
       "      <td>Low</td>\n",
       "    </tr>\n",
       "    <tr>\n",
       "      <th>2</th>\n",
       "      <td>SHOP023</td>\n",
       "      <td>Low</td>\n",
       "    </tr>\n",
       "    <tr>\n",
       "      <th>3</th>\n",
       "      <td>SHOP097</td>\n",
       "      <td>Moderate</td>\n",
       "    </tr>\n",
       "    <tr>\n",
       "      <th>4</th>\n",
       "      <td>SHOP044</td>\n",
       "      <td>Moderate</td>\n",
       "    </tr>\n",
       "  </tbody>\n",
       "</table>\n",
       "</div>"
      ],
      "text/plain": [
       "   shop_id shop_profile\n",
       "0  SHOP046          Low\n",
       "1  SHOP024          Low\n",
       "2  SHOP023          Low\n",
       "3  SHOP097     Moderate\n",
       "4  SHOP044     Moderate"
      ]
     },
     "execution_count": 179,
     "metadata": {},
     "output_type": "execute_result"
    }
   ],
   "source": [
    "df_evaluation = pd.read_csv(path_evaluation)\n",
    "df_evaluation.head()"
   ]
  },
  {
   "cell_type": "markdown",
   "id": "969adbd2",
   "metadata": {},
   "source": [
    "### Displaying the variables of Store Info data set"
   ]
  },
  {
   "cell_type": "code",
   "execution_count": 76,
   "id": "524d9c45",
   "metadata": {},
   "outputs": [
    {
     "data": {
      "text/plain": [
       "Index(['shop_id', 'shop_profile'], dtype='object')"
      ]
     },
     "execution_count": 76,
     "metadata": {},
     "output_type": "execute_result"
    }
   ],
   "source": [
    "df_evaluation.columns"
   ]
  },
  {
   "cell_type": "markdown",
   "id": "5e604fe4",
   "metadata": {},
   "source": [
    "### Inspect the number of rows and columns in the Evaluation data set"
   ]
  },
  {
   "cell_type": "code",
   "execution_count": 75,
   "id": "37e11285",
   "metadata": {},
   "outputs": [
    {
     "name": "stdout",
     "output_type": "stream",
     "text": [
      "rows: 24 columns: 2\n"
     ]
    }
   ],
   "source": [
    "rows = df_evaluation.shape[0]  \n",
    "columns = df_evaluation.shape[1]\n",
    "print('rows:',rows,'columns:',columns)"
   ]
  },
  {
   "cell_type": "markdown",
   "id": "2badf311",
   "metadata": {},
   "source": [
    "There are 24 stores with store profile in the 'Evaluation data set'. The number of rows in this data set matches the missing values count of the 'Store Info data set'."
   ]
  },
  {
   "cell_type": "markdown",
   "id": "b89bb069",
   "metadata": {},
   "source": [
    "It appears that the data in the csv file named 'Evaluation-data' consists of the missing values for shop profile. Hence, it is appropriate to merge two csv files using an 'outer join'. Because this method includes all rows from both data sets. Also, this method results in the least amount of data loss. The csv file named 'Evaluation-data' consists the rows that have matching 'shop id' with respective 'shop profile' which are missing in the 'Store-info' data set.\n",
    "\n",
    "Therefore, the two data sets could be merged using an 'outer join' as below."
   ]
  },
  {
   "cell_type": "code",
   "execution_count": 110,
   "id": "8ea87cd7",
   "metadata": {},
   "outputs": [
    {
     "data": {
      "text/html": [
       "<div>\n",
       "<style scoped>\n",
       "    .dataframe tbody tr th:only-of-type {\n",
       "        vertical-align: middle;\n",
       "    }\n",
       "\n",
       "    .dataframe tbody tr th {\n",
       "        vertical-align: top;\n",
       "    }\n",
       "\n",
       "    .dataframe thead th {\n",
       "        text-align: right;\n",
       "    }\n",
       "</style>\n",
       "<table border=\"1\" class=\"dataframe\">\n",
       "  <thead>\n",
       "    <tr style=\"text-align: right;\">\n",
       "      <th></th>\n",
       "      <th>shop_id</th>\n",
       "      <th>shop_area_sq_ft</th>\n",
       "      <th>shop_profile_x</th>\n",
       "      <th>shop_profile_y</th>\n",
       "    </tr>\n",
       "  </thead>\n",
       "  <tbody>\n",
       "    <tr>\n",
       "      <th>0</th>\n",
       "      <td>SHOP047</td>\n",
       "      <td>528.0</td>\n",
       "      <td>Moderate</td>\n",
       "      <td>NaN</td>\n",
       "    </tr>\n",
       "    <tr>\n",
       "      <th>1</th>\n",
       "      <td>SHOP009</td>\n",
       "      <td>676.0</td>\n",
       "      <td>High</td>\n",
       "      <td>NaN</td>\n",
       "    </tr>\n",
       "    <tr>\n",
       "      <th>2</th>\n",
       "      <td>SHOP083</td>\n",
       "      <td>676.0</td>\n",
       "      <td>Low</td>\n",
       "      <td>NaN</td>\n",
       "    </tr>\n",
       "    <tr>\n",
       "      <th>3</th>\n",
       "      <td>SHOP117</td>\n",
       "      <td>676.0</td>\n",
       "      <td>Low</td>\n",
       "      <td>NaN</td>\n",
       "    </tr>\n",
       "    <tr>\n",
       "      <th>4</th>\n",
       "      <td>SHOP042</td>\n",
       "      <td>676.0</td>\n",
       "      <td>Low</td>\n",
       "      <td>NaN</td>\n",
       "    </tr>\n",
       "    <tr>\n",
       "      <th>...</th>\n",
       "      <td>...</td>\n",
       "      <td>...</td>\n",
       "      <td>...</td>\n",
       "      <td>...</td>\n",
       "    </tr>\n",
       "    <tr>\n",
       "      <th>119</th>\n",
       "      <td>SHOP087</td>\n",
       "      <td>527.0</td>\n",
       "      <td>NaN</td>\n",
       "      <td>Moderate</td>\n",
       "    </tr>\n",
       "    <tr>\n",
       "      <th>120</th>\n",
       "      <td>SHOP050</td>\n",
       "      <td>411.0</td>\n",
       "      <td>NaN</td>\n",
       "      <td>Low</td>\n",
       "    </tr>\n",
       "    <tr>\n",
       "      <th>121</th>\n",
       "      <td>SHOP061</td>\n",
       "      <td>699.0</td>\n",
       "      <td>NaN</td>\n",
       "      <td>Moderate</td>\n",
       "    </tr>\n",
       "    <tr>\n",
       "      <th>122</th>\n",
       "      <td>SHOP056</td>\n",
       "      <td>597.0</td>\n",
       "      <td>NaN</td>\n",
       "      <td>High</td>\n",
       "    </tr>\n",
       "    <tr>\n",
       "      <th>123</th>\n",
       "      <td>SHOP070</td>\n",
       "      <td>676.0</td>\n",
       "      <td>NaN</td>\n",
       "      <td>Low</td>\n",
       "    </tr>\n",
       "  </tbody>\n",
       "</table>\n",
       "<p>124 rows × 4 columns</p>\n",
       "</div>"
      ],
      "text/plain": [
       "     shop_id  shop_area_sq_ft shop_profile_x shop_profile_y\n",
       "0    SHOP047            528.0       Moderate            NaN\n",
       "1    SHOP009            676.0           High            NaN\n",
       "2    SHOP083            676.0            Low            NaN\n",
       "3    SHOP117            676.0            Low            NaN\n",
       "4    SHOP042            676.0            Low            NaN\n",
       "..       ...              ...            ...            ...\n",
       "119  SHOP087            527.0            NaN       Moderate\n",
       "120  SHOP050            411.0            NaN            Low\n",
       "121  SHOP061            699.0            NaN       Moderate\n",
       "122  SHOP056            597.0            NaN           High\n",
       "123  SHOP070            676.0            NaN            Low\n",
       "\n",
       "[124 rows x 4 columns]"
      ]
     },
     "execution_count": 110,
     "metadata": {},
     "output_type": "execute_result"
    }
   ],
   "source": [
    "merged_stores = pd.merge(df_stores, df_evaluation, on='shop_id', how='outer')\n",
    "merged_stores"
   ]
  },
  {
   "cell_type": "code",
   "execution_count": 111,
   "id": "65f100ed",
   "metadata": {},
   "outputs": [
    {
     "name": "stdout",
     "output_type": "stream",
     "text": [
      "     shop_id  shop_area_sq_ft shop_profile\n",
      "0    SHOP047            528.0     Moderate\n",
      "1    SHOP009            676.0         High\n",
      "2    SHOP083            676.0          Low\n",
      "3    SHOP117            676.0          Low\n",
      "4    SHOP042            676.0          Low\n",
      "..       ...              ...          ...\n",
      "119  SHOP087            527.0     Moderate\n",
      "120  SHOP050            411.0          Low\n",
      "121  SHOP061            699.0     Moderate\n",
      "122  SHOP056            597.0         High\n",
      "123  SHOP070            676.0          Low\n",
      "\n",
      "[124 rows x 3 columns]\n"
     ]
    }
   ],
   "source": [
    "# Create a new 'shop_profile' column by combining 'shop_profile_x' and 'shop_profile_y'\n",
    "merged_stores['shop_profile'] = merged_stores['shop_profile_x'].combine_first(merged_stores['shop_profile_y'])\n",
    "\n",
    "# Drop 'shop_profile_x' and 'shop_profile_y' columns\n",
    "merged_stores = merged_stores.drop(['shop_profile_x', 'shop_profile_y'], axis=1)\n",
    "\n",
    "# Display the resulting dataframe\n",
    "print(merged_stores)"
   ]
  },
  {
   "cell_type": "markdown",
   "id": "b10390f4",
   "metadata": {},
   "source": [
    "### Inspect the number of rows and columns in the merged store data set"
   ]
  },
  {
   "cell_type": "code",
   "execution_count": 112,
   "id": "3498319d",
   "metadata": {},
   "outputs": [
    {
     "name": "stdout",
     "output_type": "stream",
     "text": [
      "rows: 124 columns: 3\n"
     ]
    }
   ],
   "source": [
    "rows = merged_stores.shape[0]  \n",
    "columns = merged_stores.shape[1]\n",
    "print('rows:',rows,'columns:',columns)"
   ]
  },
  {
   "cell_type": "markdown",
   "id": "f1d10320",
   "metadata": {},
   "source": [
    "### Displaying the variables of merged store data set"
   ]
  },
  {
   "cell_type": "code",
   "execution_count": 113,
   "id": "4cfcd420",
   "metadata": {},
   "outputs": [
    {
     "data": {
      "text/plain": [
       "Index(['shop_id', 'shop_area_sq_ft', 'shop_profile'], dtype='object')"
      ]
     },
     "execution_count": 113,
     "metadata": {},
     "output_type": "execute_result"
    }
   ],
   "source": [
    "merged_stores.columns"
   ]
  },
  {
   "cell_type": "markdown",
   "id": "ac581241",
   "metadata": {},
   "source": [
    "### Displaying the data types of the variables"
   ]
  },
  {
   "cell_type": "code",
   "execution_count": 114,
   "id": "59f0f650",
   "metadata": {},
   "outputs": [
    {
     "data": {
      "text/plain": [
       "shop_id             object\n",
       "shop_area_sq_ft    float64\n",
       "shop_profile        object\n",
       "dtype: object"
      ]
     },
     "execution_count": 114,
     "metadata": {},
     "output_type": "execute_result"
    }
   ],
   "source": [
    "merged_stores.dtypes"
   ]
  },
  {
   "cell_type": "markdown",
   "id": "0c0f5615",
   "metadata": {},
   "source": [
    "### Checking the null values in the merged store data set"
   ]
  },
  {
   "cell_type": "markdown",
   "id": "a06968d0",
   "metadata": {},
   "source": [
    "##### Checking the null values in the columns"
   ]
  },
  {
   "cell_type": "code",
   "execution_count": 115,
   "id": "f8ffc396",
   "metadata": {},
   "outputs": [
    {
     "data": {
      "text/plain": [
       "shop_id            False\n",
       "shop_area_sq_ft    False\n",
       "shop_profile       False\n",
       "dtype: bool"
      ]
     },
     "execution_count": 115,
     "metadata": {},
     "output_type": "execute_result"
    }
   ],
   "source": [
    "merged_stores.isnull().any()"
   ]
  },
  {
   "cell_type": "code",
   "execution_count": 116,
   "id": "d4ea20cc",
   "metadata": {},
   "outputs": [],
   "source": [
    "# Save the dataset as csv file\n",
    "merged_stores.to_csv('Store-info-new.csv', index = True)"
   ]
  },
  {
   "cell_type": "markdown",
   "id": "067fb56a",
   "metadata": {},
   "source": [
    "Inspecting the number of rows and columns in the merged store data set, there are 124 stores with shop space and store profile. This equals the number of rows and columns in the 'Store info data set' which has some null values. After the merge, there are no null values in the resulting 'merged stores data set'. It appears that the 'Store info' data set and 'Evaluation' data set are merged accurately. "
   ]
  },
  {
   "cell_type": "markdown",
   "id": "7515eb5b",
   "metadata": {},
   "source": [
    "Since the missing value problem in 'Store info' data set is handled, we could merge 'Historical transaction' data set and the 'merged stores' data set to analyze the performance of stores and to automate store profiling ."
   ]
  },
  {
   "cell_type": "markdown",
   "id": "1f0f9e9f",
   "metadata": {},
   "source": [
    "### Merging 'Historical transaction data' and 'merged stores data'"
   ]
  },
  {
   "cell_type": "code",
   "execution_count": 275,
   "id": "72efe9e1",
   "metadata": {},
   "outputs": [
    {
     "data": {
      "text/html": [
       "<div>\n",
       "<style scoped>\n",
       "    .dataframe tbody tr th:only-of-type {\n",
       "        vertical-align: middle;\n",
       "    }\n",
       "\n",
       "    .dataframe tbody tr th {\n",
       "        vertical-align: top;\n",
       "    }\n",
       "\n",
       "    .dataframe thead th {\n",
       "        text-align: right;\n",
       "    }\n",
       "</style>\n",
       "<table border=\"1\" class=\"dataframe\">\n",
       "  <thead>\n",
       "    <tr style=\"text-align: right;\">\n",
       "      <th></th>\n",
       "      <th>item_description</th>\n",
       "      <th>transaction_date</th>\n",
       "      <th>invoice_id</th>\n",
       "      <th>customer_id</th>\n",
       "      <th>shop_id</th>\n",
       "      <th>item_price</th>\n",
       "      <th>quantity_sold</th>\n",
       "      <th>shop_area_sq_ft</th>\n",
       "      <th>shop_profile</th>\n",
       "    </tr>\n",
       "  </thead>\n",
       "  <tbody>\n",
       "    <tr>\n",
       "      <th>0</th>\n",
       "      <td>ORANGE BARLEY 1.5L</td>\n",
       "      <td>2021-12-11T00:00:00.000Z</td>\n",
       "      <td>147.0</td>\n",
       "      <td>BGXA</td>\n",
       "      <td>SHOP008</td>\n",
       "      <td>220.0</td>\n",
       "      <td>2</td>\n",
       "      <td>678.0</td>\n",
       "      <td>Moderate</td>\n",
       "    </tr>\n",
       "    <tr>\n",
       "      <th>1</th>\n",
       "      <td>TONIC PET 500ML</td>\n",
       "      <td>2021-12-13T00:00:00.000Z</td>\n",
       "      <td>484.0</td>\n",
       "      <td>VN7V</td>\n",
       "      <td>SHOP008</td>\n",
       "      <td>160.0</td>\n",
       "      <td>2</td>\n",
       "      <td>678.0</td>\n",
       "      <td>Moderate</td>\n",
       "    </tr>\n",
       "    <tr>\n",
       "      <th>2</th>\n",
       "      <td>CREAM SODA 1L</td>\n",
       "      <td>2021-12-13T00:00:00.000Z</td>\n",
       "      <td>484.0</td>\n",
       "      <td>VN7V</td>\n",
       "      <td>SHOP008</td>\n",
       "      <td>150.0</td>\n",
       "      <td>2</td>\n",
       "      <td>678.0</td>\n",
       "      <td>Moderate</td>\n",
       "    </tr>\n",
       "    <tr>\n",
       "      <th>3</th>\n",
       "      <td>GINGER BEER 1.5L</td>\n",
       "      <td>2021-12-10T00:00:00.000Z</td>\n",
       "      <td>1000053.0</td>\n",
       "      <td>VT9C</td>\n",
       "      <td>SHOP008</td>\n",
       "      <td>220.0</td>\n",
       "      <td>1</td>\n",
       "      <td>678.0</td>\n",
       "      <td>Moderate</td>\n",
       "    </tr>\n",
       "    <tr>\n",
       "      <th>4</th>\n",
       "      <td>GINGER BEER 1.5L</td>\n",
       "      <td>2021-12-10T00:00:00.000Z</td>\n",
       "      <td>1000057.0</td>\n",
       "      <td>8QLS</td>\n",
       "      <td>SHOP008</td>\n",
       "      <td>440.0</td>\n",
       "      <td>1</td>\n",
       "      <td>678.0</td>\n",
       "      <td>Moderate</td>\n",
       "    </tr>\n",
       "    <tr>\n",
       "      <th>...</th>\n",
       "      <td>...</td>\n",
       "      <td>...</td>\n",
       "      <td>...</td>\n",
       "      <td>...</td>\n",
       "      <td>...</td>\n",
       "      <td>...</td>\n",
       "      <td>...</td>\n",
       "      <td>...</td>\n",
       "      <td>...</td>\n",
       "    </tr>\n",
       "    <tr>\n",
       "      <th>432104</th>\n",
       "      <td>FIT O ORANGE 1L</td>\n",
       "      <td>2021-11-28T00:00:00.000Z</td>\n",
       "      <td>7027965.0</td>\n",
       "      <td>8XOU</td>\n",
       "      <td>SHOP072</td>\n",
       "      <td>290.0</td>\n",
       "      <td>2</td>\n",
       "      <td>617.0</td>\n",
       "      <td>High</td>\n",
       "    </tr>\n",
       "    <tr>\n",
       "      <th>432105</th>\n",
       "      <td>NECTO 1.5L</td>\n",
       "      <td>2021-12-03T00:00:00.000Z</td>\n",
       "      <td>7029132.0</td>\n",
       "      <td>0YBY</td>\n",
       "      <td>SHOP072</td>\n",
       "      <td>440.0</td>\n",
       "      <td>3</td>\n",
       "      <td>617.0</td>\n",
       "      <td>High</td>\n",
       "    </tr>\n",
       "    <tr>\n",
       "      <th>432106</th>\n",
       "      <td>GINGER BEER 400ML</td>\n",
       "      <td>2021-12-08T00:00:00.000Z</td>\n",
       "      <td>7030122.0</td>\n",
       "      <td>CTB0</td>\n",
       "      <td>SHOP072</td>\n",
       "      <td>100.0</td>\n",
       "      <td>2</td>\n",
       "      <td>617.0</td>\n",
       "      <td>High</td>\n",
       "    </tr>\n",
       "    <tr>\n",
       "      <th>432107</th>\n",
       "      <td>FIT O ORANGE 200ML</td>\n",
       "      <td>2021-12-11T00:00:00.000Z</td>\n",
       "      <td>7030809.0</td>\n",
       "      <td>HXMG</td>\n",
       "      <td>SHOP072</td>\n",
       "      <td>140.0</td>\n",
       "      <td>2</td>\n",
       "      <td>617.0</td>\n",
       "      <td>High</td>\n",
       "    </tr>\n",
       "    <tr>\n",
       "      <th>432108</th>\n",
       "      <td>BOTTLED DRINKING WATER 500ML</td>\n",
       "      <td>2021-12-11T00:00:00.000Z</td>\n",
       "      <td>7030820.0</td>\n",
       "      <td>OUH2</td>\n",
       "      <td>SHOP072</td>\n",
       "      <td>35.0</td>\n",
       "      <td>1</td>\n",
       "      <td>617.0</td>\n",
       "      <td>High</td>\n",
       "    </tr>\n",
       "  </tbody>\n",
       "</table>\n",
       "<p>432109 rows × 9 columns</p>\n",
       "</div>"
      ],
      "text/plain": [
       "                    item_description          transaction_date invoice_id  \\\n",
       "0                 ORANGE BARLEY 1.5L  2021-12-11T00:00:00.000Z      147.0   \n",
       "1                    TONIC PET 500ML  2021-12-13T00:00:00.000Z      484.0   \n",
       "2                      CREAM SODA 1L  2021-12-13T00:00:00.000Z      484.0   \n",
       "3                   GINGER BEER 1.5L  2021-12-10T00:00:00.000Z  1000053.0   \n",
       "4                   GINGER BEER 1.5L  2021-12-10T00:00:00.000Z  1000057.0   \n",
       "...                              ...                       ...        ...   \n",
       "432104               FIT O ORANGE 1L  2021-11-28T00:00:00.000Z  7027965.0   \n",
       "432105                    NECTO 1.5L  2021-12-03T00:00:00.000Z  7029132.0   \n",
       "432106             GINGER BEER 400ML  2021-12-08T00:00:00.000Z  7030122.0   \n",
       "432107            FIT O ORANGE 200ML  2021-12-11T00:00:00.000Z  7030809.0   \n",
       "432108  BOTTLED DRINKING WATER 500ML  2021-12-11T00:00:00.000Z  7030820.0   \n",
       "\n",
       "       customer_id  shop_id  item_price  quantity_sold  shop_area_sq_ft  \\\n",
       "0             BGXA  SHOP008       220.0              2            678.0   \n",
       "1             VN7V  SHOP008       160.0              2            678.0   \n",
       "2             VN7V  SHOP008       150.0              2            678.0   \n",
       "3             VT9C  SHOP008       220.0              1            678.0   \n",
       "4             8QLS  SHOP008       440.0              1            678.0   \n",
       "...            ...      ...         ...            ...              ...   \n",
       "432104        8XOU  SHOP072       290.0              2            617.0   \n",
       "432105        0YBY  SHOP072       440.0              3            617.0   \n",
       "432106        CTB0  SHOP072       100.0              2            617.0   \n",
       "432107        HXMG  SHOP072       140.0              2            617.0   \n",
       "432108        OUH2  SHOP072        35.0              1            617.0   \n",
       "\n",
       "       shop_profile  \n",
       "0          Moderate  \n",
       "1          Moderate  \n",
       "2          Moderate  \n",
       "3          Moderate  \n",
       "4          Moderate  \n",
       "...             ...  \n",
       "432104         High  \n",
       "432105         High  \n",
       "432106         High  \n",
       "432107         High  \n",
       "432108         High  \n",
       "\n",
       "[432109 rows x 9 columns]"
      ]
     },
     "execution_count": 275,
     "metadata": {},
     "output_type": "execute_result"
    }
   ],
   "source": [
    "merged_df = pd.merge(df_transactions, merged_stores, on='shop_id')\n",
    "merged_df"
   ]
  },
  {
   "cell_type": "code",
   "execution_count": 197,
   "id": "c46e60d7",
   "metadata": {},
   "outputs": [
    {
     "data": {
      "text/plain": [
       "item_description    0\n",
       "transaction_date    0\n",
       "invoice_id          0\n",
       "customer_id         0\n",
       "shop_id             0\n",
       "item_price          0\n",
       "quantity_sold       0\n",
       "shop_area_sq_ft     0\n",
       "shop_profile        0\n",
       "dtype: int64"
      ]
     },
     "execution_count": 197,
     "metadata": {},
     "output_type": "execute_result"
    }
   ],
   "source": [
    "merged_df.isnull().sum()"
   ]
  },
  {
   "cell_type": "markdown",
   "id": "122a85d9",
   "metadata": {},
   "source": [
    "There are no null values in the merged data frame."
   ]
  },
  {
   "cell_type": "markdown",
   "id": "9d473507",
   "metadata": {},
   "source": [
    "### Identify and handle outliers"
   ]
  },
  {
   "cell_type": "code",
   "execution_count": 154,
   "id": "4ff9ecb7",
   "metadata": {},
   "outputs": [],
   "source": [
    "import seaborn as sns"
   ]
  },
  {
   "cell_type": "markdown",
   "id": "055db524",
   "metadata": {},
   "source": [
    "##### Identify duplicate values"
   ]
  },
  {
   "cell_type": "code",
   "execution_count": 276,
   "id": "7de3140f",
   "metadata": {},
   "outputs": [
    {
     "data": {
      "text/html": [
       "<div>\n",
       "<style scoped>\n",
       "    .dataframe tbody tr th:only-of-type {\n",
       "        vertical-align: middle;\n",
       "    }\n",
       "\n",
       "    .dataframe tbody tr th {\n",
       "        vertical-align: top;\n",
       "    }\n",
       "\n",
       "    .dataframe thead th {\n",
       "        text-align: right;\n",
       "    }\n",
       "</style>\n",
       "<table border=\"1\" class=\"dataframe\">\n",
       "  <thead>\n",
       "    <tr style=\"text-align: right;\">\n",
       "      <th></th>\n",
       "      <th>item_description</th>\n",
       "      <th>transaction_date</th>\n",
       "      <th>invoice_id</th>\n",
       "      <th>customer_id</th>\n",
       "      <th>shop_id</th>\n",
       "      <th>item_price</th>\n",
       "      <th>quantity_sold</th>\n",
       "      <th>shop_area_sq_ft</th>\n",
       "      <th>shop_profile</th>\n",
       "    </tr>\n",
       "  </thead>\n",
       "  <tbody>\n",
       "    <tr>\n",
       "      <th>25</th>\n",
       "      <td>CREAM SODA 500ML</td>\n",
       "      <td>2021-12-11T00:00:00.000Z</td>\n",
       "      <td>1000231.0</td>\n",
       "      <td>TUP7</td>\n",
       "      <td>SHOP008</td>\n",
       "      <td>100.0</td>\n",
       "      <td>1</td>\n",
       "      <td>678.0</td>\n",
       "      <td>Moderate</td>\n",
       "    </tr>\n",
       "    <tr>\n",
       "      <th>26</th>\n",
       "      <td>CREAM SODA 500ML</td>\n",
       "      <td>2021-12-11T00:00:00.000Z</td>\n",
       "      <td>1000231.0</td>\n",
       "      <td>TUP7</td>\n",
       "      <td>SHOP008</td>\n",
       "      <td>100.0</td>\n",
       "      <td>1</td>\n",
       "      <td>678.0</td>\n",
       "      <td>Moderate</td>\n",
       "    </tr>\n",
       "    <tr>\n",
       "      <th>30</th>\n",
       "      <td>CREAM SODA 500ML</td>\n",
       "      <td>2021-12-12T00:00:00.000Z</td>\n",
       "      <td>4000320.0</td>\n",
       "      <td>U4X4</td>\n",
       "      <td>SHOP008</td>\n",
       "      <td>100.0</td>\n",
       "      <td>2</td>\n",
       "      <td>678.0</td>\n",
       "      <td>Moderate</td>\n",
       "    </tr>\n",
       "    <tr>\n",
       "      <th>31</th>\n",
       "      <td>CREAM SODA 500ML</td>\n",
       "      <td>2021-12-12T00:00:00.000Z</td>\n",
       "      <td>4000320.0</td>\n",
       "      <td>U4X4</td>\n",
       "      <td>SHOP008</td>\n",
       "      <td>100.0</td>\n",
       "      <td>1</td>\n",
       "      <td>678.0</td>\n",
       "      <td>Moderate</td>\n",
       "    </tr>\n",
       "    <tr>\n",
       "      <th>39</th>\n",
       "      <td>GINGER BEER 1L</td>\n",
       "      <td>2021-12-11T00:00:00.000Z</td>\n",
       "      <td>4000175.0</td>\n",
       "      <td>86JZ</td>\n",
       "      <td>SHOP008</td>\n",
       "      <td>150.0</td>\n",
       "      <td>2</td>\n",
       "      <td>678.0</td>\n",
       "      <td>Moderate</td>\n",
       "    </tr>\n",
       "    <tr>\n",
       "      <th>...</th>\n",
       "      <td>...</td>\n",
       "      <td>...</td>\n",
       "      <td>...</td>\n",
       "      <td>...</td>\n",
       "      <td>...</td>\n",
       "      <td>...</td>\n",
       "      <td>...</td>\n",
       "      <td>...</td>\n",
       "      <td>...</td>\n",
       "    </tr>\n",
       "    <tr>\n",
       "      <th>432002</th>\n",
       "      <td>CREAM SODA 500ML</td>\n",
       "      <td>2021-11-12T00:00:00.000Z</td>\n",
       "      <td>7024867.0</td>\n",
       "      <td>MCC9</td>\n",
       "      <td>SHOP072</td>\n",
       "      <td>200.0</td>\n",
       "      <td>2</td>\n",
       "      <td>617.0</td>\n",
       "      <td>High</td>\n",
       "    </tr>\n",
       "    <tr>\n",
       "      <th>432081</th>\n",
       "      <td>GINGER BEER 1L</td>\n",
       "      <td>2021-10-30T00:00:00.000Z</td>\n",
       "      <td>4285552.0</td>\n",
       "      <td>SDVY</td>\n",
       "      <td>SHOP072</td>\n",
       "      <td>150.0</td>\n",
       "      <td>1</td>\n",
       "      <td>617.0</td>\n",
       "      <td>High</td>\n",
       "    </tr>\n",
       "    <tr>\n",
       "      <th>432082</th>\n",
       "      <td>GINGER BEER 1L</td>\n",
       "      <td>2021-10-30T00:00:00.000Z</td>\n",
       "      <td>4285552.0</td>\n",
       "      <td>SDVY</td>\n",
       "      <td>SHOP072</td>\n",
       "      <td>150.0</td>\n",
       "      <td>1</td>\n",
       "      <td>617.0</td>\n",
       "      <td>High</td>\n",
       "    </tr>\n",
       "    <tr>\n",
       "      <th>432096</th>\n",
       "      <td>CREAM SODA 500ML</td>\n",
       "      <td>2021-10-21T00:00:00.000Z</td>\n",
       "      <td>7020454.0</td>\n",
       "      <td>MDLP</td>\n",
       "      <td>SHOP072</td>\n",
       "      <td>100.0</td>\n",
       "      <td>1</td>\n",
       "      <td>617.0</td>\n",
       "      <td>High</td>\n",
       "    </tr>\n",
       "    <tr>\n",
       "      <th>432098</th>\n",
       "      <td>CREAM SODA 500ML</td>\n",
       "      <td>2021-10-21T00:00:00.000Z</td>\n",
       "      <td>7020454.0</td>\n",
       "      <td>MDLP</td>\n",
       "      <td>SHOP072</td>\n",
       "      <td>100.0</td>\n",
       "      <td>1</td>\n",
       "      <td>617.0</td>\n",
       "      <td>High</td>\n",
       "    </tr>\n",
       "  </tbody>\n",
       "</table>\n",
       "<p>29808 rows × 9 columns</p>\n",
       "</div>"
      ],
      "text/plain": [
       "        item_description          transaction_date invoice_id customer_id  \\\n",
       "25      CREAM SODA 500ML  2021-12-11T00:00:00.000Z  1000231.0        TUP7   \n",
       "26      CREAM SODA 500ML  2021-12-11T00:00:00.000Z  1000231.0        TUP7   \n",
       "30      CREAM SODA 500ML  2021-12-12T00:00:00.000Z  4000320.0        U4X4   \n",
       "31      CREAM SODA 500ML  2021-12-12T00:00:00.000Z  4000320.0        U4X4   \n",
       "39        GINGER BEER 1L  2021-12-11T00:00:00.000Z  4000175.0        86JZ   \n",
       "...                  ...                       ...        ...         ...   \n",
       "432002  CREAM SODA 500ML  2021-11-12T00:00:00.000Z  7024867.0        MCC9   \n",
       "432081    GINGER BEER 1L  2021-10-30T00:00:00.000Z  4285552.0        SDVY   \n",
       "432082    GINGER BEER 1L  2021-10-30T00:00:00.000Z  4285552.0        SDVY   \n",
       "432096  CREAM SODA 500ML  2021-10-21T00:00:00.000Z  7020454.0        MDLP   \n",
       "432098  CREAM SODA 500ML  2021-10-21T00:00:00.000Z  7020454.0        MDLP   \n",
       "\n",
       "        shop_id  item_price  quantity_sold  shop_area_sq_ft shop_profile  \n",
       "25      SHOP008       100.0              1            678.0     Moderate  \n",
       "26      SHOP008       100.0              1            678.0     Moderate  \n",
       "30      SHOP008       100.0              2            678.0     Moderate  \n",
       "31      SHOP008       100.0              1            678.0     Moderate  \n",
       "39      SHOP008       150.0              2            678.0     Moderate  \n",
       "...         ...         ...            ...              ...          ...  \n",
       "432002  SHOP072       200.0              2            617.0         High  \n",
       "432081  SHOP072       150.0              1            617.0         High  \n",
       "432082  SHOP072       150.0              1            617.0         High  \n",
       "432096  SHOP072       100.0              1            617.0         High  \n",
       "432098  SHOP072       100.0              1            617.0         High  \n",
       "\n",
       "[29808 rows x 9 columns]"
      ]
     },
     "execution_count": 276,
     "metadata": {},
     "output_type": "execute_result"
    }
   ],
   "source": [
    "merged_df[merged_df.duplicated()]"
   ]
  },
  {
   "cell_type": "markdown",
   "id": "2e125318",
   "metadata": {},
   "source": [
    "In the merged data frame, there are 29808 duplicated transactions. These duplicated values need to be dropped."
   ]
  },
  {
   "cell_type": "code",
   "execution_count": 277,
   "id": "0a5db8e0",
   "metadata": {},
   "outputs": [
    {
     "data": {
      "text/html": [
       "<div>\n",
       "<style scoped>\n",
       "    .dataframe tbody tr th:only-of-type {\n",
       "        vertical-align: middle;\n",
       "    }\n",
       "\n",
       "    .dataframe tbody tr th {\n",
       "        vertical-align: top;\n",
       "    }\n",
       "\n",
       "    .dataframe thead th {\n",
       "        text-align: right;\n",
       "    }\n",
       "</style>\n",
       "<table border=\"1\" class=\"dataframe\">\n",
       "  <thead>\n",
       "    <tr style=\"text-align: right;\">\n",
       "      <th></th>\n",
       "      <th>item_description</th>\n",
       "      <th>transaction_date</th>\n",
       "      <th>invoice_id</th>\n",
       "      <th>customer_id</th>\n",
       "      <th>shop_id</th>\n",
       "      <th>item_price</th>\n",
       "      <th>quantity_sold</th>\n",
       "      <th>shop_area_sq_ft</th>\n",
       "      <th>shop_profile</th>\n",
       "    </tr>\n",
       "  </thead>\n",
       "  <tbody>\n",
       "    <tr>\n",
       "      <th>0</th>\n",
       "      <td>ORANGE BARLEY 1.5L</td>\n",
       "      <td>2021-12-11T00:00:00.000Z</td>\n",
       "      <td>147.0</td>\n",
       "      <td>BGXA</td>\n",
       "      <td>SHOP008</td>\n",
       "      <td>220.0</td>\n",
       "      <td>2</td>\n",
       "      <td>678.0</td>\n",
       "      <td>Moderate</td>\n",
       "    </tr>\n",
       "    <tr>\n",
       "      <th>1</th>\n",
       "      <td>TONIC PET 500ML</td>\n",
       "      <td>2021-12-13T00:00:00.000Z</td>\n",
       "      <td>484.0</td>\n",
       "      <td>VN7V</td>\n",
       "      <td>SHOP008</td>\n",
       "      <td>160.0</td>\n",
       "      <td>2</td>\n",
       "      <td>678.0</td>\n",
       "      <td>Moderate</td>\n",
       "    </tr>\n",
       "    <tr>\n",
       "      <th>2</th>\n",
       "      <td>CREAM SODA 1L</td>\n",
       "      <td>2021-12-13T00:00:00.000Z</td>\n",
       "      <td>484.0</td>\n",
       "      <td>VN7V</td>\n",
       "      <td>SHOP008</td>\n",
       "      <td>150.0</td>\n",
       "      <td>2</td>\n",
       "      <td>678.0</td>\n",
       "      <td>Moderate</td>\n",
       "    </tr>\n",
       "    <tr>\n",
       "      <th>3</th>\n",
       "      <td>GINGER BEER 1.5L</td>\n",
       "      <td>2021-12-10T00:00:00.000Z</td>\n",
       "      <td>1000053.0</td>\n",
       "      <td>VT9C</td>\n",
       "      <td>SHOP008</td>\n",
       "      <td>220.0</td>\n",
       "      <td>1</td>\n",
       "      <td>678.0</td>\n",
       "      <td>Moderate</td>\n",
       "    </tr>\n",
       "    <tr>\n",
       "      <th>4</th>\n",
       "      <td>GINGER BEER 1.5L</td>\n",
       "      <td>2021-12-10T00:00:00.000Z</td>\n",
       "      <td>1000057.0</td>\n",
       "      <td>8QLS</td>\n",
       "      <td>SHOP008</td>\n",
       "      <td>440.0</td>\n",
       "      <td>1</td>\n",
       "      <td>678.0</td>\n",
       "      <td>Moderate</td>\n",
       "    </tr>\n",
       "    <tr>\n",
       "      <th>...</th>\n",
       "      <td>...</td>\n",
       "      <td>...</td>\n",
       "      <td>...</td>\n",
       "      <td>...</td>\n",
       "      <td>...</td>\n",
       "      <td>...</td>\n",
       "      <td>...</td>\n",
       "      <td>...</td>\n",
       "      <td>...</td>\n",
       "    </tr>\n",
       "    <tr>\n",
       "      <th>432104</th>\n",
       "      <td>FIT O ORANGE 1L</td>\n",
       "      <td>2021-11-28T00:00:00.000Z</td>\n",
       "      <td>7027965.0</td>\n",
       "      <td>8XOU</td>\n",
       "      <td>SHOP072</td>\n",
       "      <td>290.0</td>\n",
       "      <td>2</td>\n",
       "      <td>617.0</td>\n",
       "      <td>High</td>\n",
       "    </tr>\n",
       "    <tr>\n",
       "      <th>432105</th>\n",
       "      <td>NECTO 1.5L</td>\n",
       "      <td>2021-12-03T00:00:00.000Z</td>\n",
       "      <td>7029132.0</td>\n",
       "      <td>0YBY</td>\n",
       "      <td>SHOP072</td>\n",
       "      <td>440.0</td>\n",
       "      <td>3</td>\n",
       "      <td>617.0</td>\n",
       "      <td>High</td>\n",
       "    </tr>\n",
       "    <tr>\n",
       "      <th>432106</th>\n",
       "      <td>GINGER BEER 400ML</td>\n",
       "      <td>2021-12-08T00:00:00.000Z</td>\n",
       "      <td>7030122.0</td>\n",
       "      <td>CTB0</td>\n",
       "      <td>SHOP072</td>\n",
       "      <td>100.0</td>\n",
       "      <td>2</td>\n",
       "      <td>617.0</td>\n",
       "      <td>High</td>\n",
       "    </tr>\n",
       "    <tr>\n",
       "      <th>432107</th>\n",
       "      <td>FIT O ORANGE 200ML</td>\n",
       "      <td>2021-12-11T00:00:00.000Z</td>\n",
       "      <td>7030809.0</td>\n",
       "      <td>HXMG</td>\n",
       "      <td>SHOP072</td>\n",
       "      <td>140.0</td>\n",
       "      <td>2</td>\n",
       "      <td>617.0</td>\n",
       "      <td>High</td>\n",
       "    </tr>\n",
       "    <tr>\n",
       "      <th>432108</th>\n",
       "      <td>BOTTLED DRINKING WATER 500ML</td>\n",
       "      <td>2021-12-11T00:00:00.000Z</td>\n",
       "      <td>7030820.0</td>\n",
       "      <td>OUH2</td>\n",
       "      <td>SHOP072</td>\n",
       "      <td>35.0</td>\n",
       "      <td>1</td>\n",
       "      <td>617.0</td>\n",
       "      <td>High</td>\n",
       "    </tr>\n",
       "  </tbody>\n",
       "</table>\n",
       "<p>402301 rows × 9 columns</p>\n",
       "</div>"
      ],
      "text/plain": [
       "                    item_description          transaction_date invoice_id  \\\n",
       "0                 ORANGE BARLEY 1.5L  2021-12-11T00:00:00.000Z      147.0   \n",
       "1                    TONIC PET 500ML  2021-12-13T00:00:00.000Z      484.0   \n",
       "2                      CREAM SODA 1L  2021-12-13T00:00:00.000Z      484.0   \n",
       "3                   GINGER BEER 1.5L  2021-12-10T00:00:00.000Z  1000053.0   \n",
       "4                   GINGER BEER 1.5L  2021-12-10T00:00:00.000Z  1000057.0   \n",
       "...                              ...                       ...        ...   \n",
       "432104               FIT O ORANGE 1L  2021-11-28T00:00:00.000Z  7027965.0   \n",
       "432105                    NECTO 1.5L  2021-12-03T00:00:00.000Z  7029132.0   \n",
       "432106             GINGER BEER 400ML  2021-12-08T00:00:00.000Z  7030122.0   \n",
       "432107            FIT O ORANGE 200ML  2021-12-11T00:00:00.000Z  7030809.0   \n",
       "432108  BOTTLED DRINKING WATER 500ML  2021-12-11T00:00:00.000Z  7030820.0   \n",
       "\n",
       "       customer_id  shop_id  item_price  quantity_sold  shop_area_sq_ft  \\\n",
       "0             BGXA  SHOP008       220.0              2            678.0   \n",
       "1             VN7V  SHOP008       160.0              2            678.0   \n",
       "2             VN7V  SHOP008       150.0              2            678.0   \n",
       "3             VT9C  SHOP008       220.0              1            678.0   \n",
       "4             8QLS  SHOP008       440.0              1            678.0   \n",
       "...            ...      ...         ...            ...              ...   \n",
       "432104        8XOU  SHOP072       290.0              2            617.0   \n",
       "432105        0YBY  SHOP072       440.0              3            617.0   \n",
       "432106        CTB0  SHOP072       100.0              2            617.0   \n",
       "432107        HXMG  SHOP072       140.0              2            617.0   \n",
       "432108        OUH2  SHOP072        35.0              1            617.0   \n",
       "\n",
       "       shop_profile  \n",
       "0          Moderate  \n",
       "1          Moderate  \n",
       "2          Moderate  \n",
       "3          Moderate  \n",
       "4          Moderate  \n",
       "...             ...  \n",
       "432104         High  \n",
       "432105         High  \n",
       "432106         High  \n",
       "432107         High  \n",
       "432108         High  \n",
       "\n",
       "[402301 rows x 9 columns]"
      ]
     },
     "execution_count": 277,
     "metadata": {},
     "output_type": "execute_result"
    }
   ],
   "source": [
    "merged_df = merged_df[~merged_df.duplicated()]\n",
    "merged_df"
   ]
  },
  {
   "cell_type": "markdown",
   "id": "892032ae",
   "metadata": {},
   "source": [
    "##### Impute outliers"
   ]
  },
  {
   "cell_type": "code",
   "execution_count": 165,
   "id": "d5850631",
   "metadata": {},
   "outputs": [
    {
     "data": {
      "text/plain": [
       "Text(0.5, 1.0, 'PDF Curve-Item Price')"
      ]
     },
     "execution_count": 165,
     "metadata": {},
     "output_type": "execute_result"
    },
    {
     "data": {
      "image/png": "[encoded data removed]",
      "text/plain": [
       "<Figure size 640x480 with 1 Axes>"
      ]
     },
     "metadata": {},
     "output_type": "display_data"
    }
   ],
   "source": [
    "# Plotting outliers in 'item price' variable\n",
    "sns.kdeplot(merged_df['item_price'])\n",
    "plt.title(\"PDF Curve-Item Price\")"
   ]
  },
  {
   "cell_type": "markdown",
   "id": "d3c39cea",
   "metadata": {},
   "source": [
    "The probability density curve is right-skewed. There is a possibility of having outliers in the 'item price' variable."
   ]
  },
  {
   "cell_type": "code",
   "execution_count": 278,
   "id": "78612165",
   "metadata": {},
   "outputs": [
    {
     "data": {
      "text/html": [
       "<div>\n",
       "<style scoped>\n",
       "    .dataframe tbody tr th:only-of-type {\n",
       "        vertical-align: middle;\n",
       "    }\n",
       "\n",
       "    .dataframe tbody tr th {\n",
       "        vertical-align: top;\n",
       "    }\n",
       "\n",
       "    .dataframe thead th {\n",
       "        text-align: right;\n",
       "    }\n",
       "</style>\n",
       "<table border=\"1\" class=\"dataframe\">\n",
       "  <thead>\n",
       "    <tr style=\"text-align: right;\">\n",
       "      <th></th>\n",
       "      <th>item_description</th>\n",
       "      <th>transaction_date</th>\n",
       "      <th>invoice_id</th>\n",
       "      <th>customer_id</th>\n",
       "      <th>shop_id</th>\n",
       "      <th>item_price</th>\n",
       "      <th>quantity_sold</th>\n",
       "      <th>shop_area_sq_ft</th>\n",
       "      <th>shop_profile</th>\n",
       "    </tr>\n",
       "  </thead>\n",
       "  <tbody>\n",
       "    <tr>\n",
       "      <th>4</th>\n",
       "      <td>GINGER BEER 1.5L</td>\n",
       "      <td>2021-12-10T00:00:00.000Z</td>\n",
       "      <td>1000057.0</td>\n",
       "      <td>8QLS</td>\n",
       "      <td>SHOP008</td>\n",
       "      <td>440.0</td>\n",
       "      <td>1</td>\n",
       "      <td>678.0</td>\n",
       "      <td>Moderate</td>\n",
       "    </tr>\n",
       "    <tr>\n",
       "      <th>5</th>\n",
       "      <td>CREAM SODA APPLE POP 1L</td>\n",
       "      <td>2021-12-10T00:00:00.000Z</td>\n",
       "      <td>2000106.0</td>\n",
       "      <td>QPBO</td>\n",
       "      <td>SHOP008</td>\n",
       "      <td>450.0</td>\n",
       "      <td>4</td>\n",
       "      <td>678.0</td>\n",
       "      <td>Moderate</td>\n",
       "    </tr>\n",
       "    <tr>\n",
       "      <th>9</th>\n",
       "      <td>CREAM SODA 1.5L</td>\n",
       "      <td>2021-12-12T00:00:00.000Z</td>\n",
       "      <td>1000356.0</td>\n",
       "      <td>0ADP</td>\n",
       "      <td>SHOP008</td>\n",
       "      <td>440.0</td>\n",
       "      <td>3</td>\n",
       "      <td>678.0</td>\n",
       "      <td>Moderate</td>\n",
       "    </tr>\n",
       "    <tr>\n",
       "      <th>14</th>\n",
       "      <td>SODA PET 1.5L</td>\n",
       "      <td>2021-12-13T00:00:00.000Z</td>\n",
       "      <td>4000383.0</td>\n",
       "      <td>N0MP</td>\n",
       "      <td>SHOP008</td>\n",
       "      <td>480.0</td>\n",
       "      <td>3</td>\n",
       "      <td>678.0</td>\n",
       "      <td>Moderate</td>\n",
       "    </tr>\n",
       "    <tr>\n",
       "      <th>22</th>\n",
       "      <td>GINGER BEER 1.5L</td>\n",
       "      <td>2021-12-11T00:00:00.000Z</td>\n",
       "      <td>1000136.0</td>\n",
       "      <td>VX3B</td>\n",
       "      <td>SHOP008</td>\n",
       "      <td>880.0</td>\n",
       "      <td>5</td>\n",
       "      <td>678.0</td>\n",
       "      <td>Moderate</td>\n",
       "    </tr>\n",
       "    <tr>\n",
       "      <th>...</th>\n",
       "      <td>...</td>\n",
       "      <td>...</td>\n",
       "      <td>...</td>\n",
       "      <td>...</td>\n",
       "      <td>...</td>\n",
       "      <td>...</td>\n",
       "      <td>...</td>\n",
       "      <td>...</td>\n",
       "      <td>...</td>\n",
       "    </tr>\n",
       "    <tr>\n",
       "      <th>432065</th>\n",
       "      <td>STRAWBERRY MILK 180ML</td>\n",
       "      <td>2021-11-13T00:00:00.000Z</td>\n",
       "      <td>3397947.0</td>\n",
       "      <td>3QP3</td>\n",
       "      <td>SHOP072</td>\n",
       "      <td>700.0</td>\n",
       "      <td>10</td>\n",
       "      <td>617.0</td>\n",
       "      <td>High</td>\n",
       "    </tr>\n",
       "    <tr>\n",
       "      <th>432073</th>\n",
       "      <td>CREAM SODA 1.5L</td>\n",
       "      <td>2021-12-01T00:00:00.000Z</td>\n",
       "      <td>3401525.0</td>\n",
       "      <td>N4C3</td>\n",
       "      <td>SHOP072</td>\n",
       "      <td>440.0</td>\n",
       "      <td>3</td>\n",
       "      <td>617.0</td>\n",
       "      <td>High</td>\n",
       "    </tr>\n",
       "    <tr>\n",
       "      <th>432078</th>\n",
       "      <td>SODA PET 1.5L</td>\n",
       "      <td>2021-12-14T00:00:00.000Z</td>\n",
       "      <td>3403531.0</td>\n",
       "      <td>E518</td>\n",
       "      <td>SHOP072</td>\n",
       "      <td>480.0</td>\n",
       "      <td>4</td>\n",
       "      <td>617.0</td>\n",
       "      <td>High</td>\n",
       "    </tr>\n",
       "    <tr>\n",
       "      <th>432091</th>\n",
       "      <td>CREAM SODA 1.5L</td>\n",
       "      <td>2021-10-19T00:00:00.000Z</td>\n",
       "      <td>7019966.0</td>\n",
       "      <td>HZ7A</td>\n",
       "      <td>SHOP072</td>\n",
       "      <td>440.0</td>\n",
       "      <td>1</td>\n",
       "      <td>617.0</td>\n",
       "      <td>High</td>\n",
       "    </tr>\n",
       "    <tr>\n",
       "      <th>432105</th>\n",
       "      <td>NECTO 1.5L</td>\n",
       "      <td>2021-12-03T00:00:00.000Z</td>\n",
       "      <td>7029132.0</td>\n",
       "      <td>0YBY</td>\n",
       "      <td>SHOP072</td>\n",
       "      <td>440.0</td>\n",
       "      <td>3</td>\n",
       "      <td>617.0</td>\n",
       "      <td>High</td>\n",
       "    </tr>\n",
       "  </tbody>\n",
       "</table>\n",
       "<p>39581 rows × 9 columns</p>\n",
       "</div>"
      ],
      "text/plain": [
       "               item_description          transaction_date invoice_id  \\\n",
       "4              GINGER BEER 1.5L  2021-12-10T00:00:00.000Z  1000057.0   \n",
       "5       CREAM SODA APPLE POP 1L  2021-12-10T00:00:00.000Z  2000106.0   \n",
       "9               CREAM SODA 1.5L  2021-12-12T00:00:00.000Z  1000356.0   \n",
       "14                SODA PET 1.5L  2021-12-13T00:00:00.000Z  4000383.0   \n",
       "22             GINGER BEER 1.5L  2021-12-11T00:00:00.000Z  1000136.0   \n",
       "...                         ...                       ...        ...   \n",
       "432065    STRAWBERRY MILK 180ML  2021-11-13T00:00:00.000Z  3397947.0   \n",
       "432073          CREAM SODA 1.5L  2021-12-01T00:00:00.000Z  3401525.0   \n",
       "432078            SODA PET 1.5L  2021-12-14T00:00:00.000Z  3403531.0   \n",
       "432091          CREAM SODA 1.5L  2021-10-19T00:00:00.000Z  7019966.0   \n",
       "432105               NECTO 1.5L  2021-12-03T00:00:00.000Z  7029132.0   \n",
       "\n",
       "       customer_id  shop_id  item_price  quantity_sold  shop_area_sq_ft  \\\n",
       "4             8QLS  SHOP008       440.0              1            678.0   \n",
       "5             QPBO  SHOP008       450.0              4            678.0   \n",
       "9             0ADP  SHOP008       440.0              3            678.0   \n",
       "14            N0MP  SHOP008       480.0              3            678.0   \n",
       "22            VX3B  SHOP008       880.0              5            678.0   \n",
       "...            ...      ...         ...            ...              ...   \n",
       "432065        3QP3  SHOP072       700.0             10            617.0   \n",
       "432073        N4C3  SHOP072       440.0              3            617.0   \n",
       "432078        E518  SHOP072       480.0              4            617.0   \n",
       "432091        HZ7A  SHOP072       440.0              1            617.0   \n",
       "432105        0YBY  SHOP072       440.0              3            617.0   \n",
       "\n",
       "       shop_profile  \n",
       "4          Moderate  \n",
       "5          Moderate  \n",
       "9          Moderate  \n",
       "14         Moderate  \n",
       "22         Moderate  \n",
       "...             ...  \n",
       "432065         High  \n",
       "432073         High  \n",
       "432078         High  \n",
       "432091         High  \n",
       "432105         High  \n",
       "\n",
       "[39581 rows x 9 columns]"
      ]
     },
     "execution_count": 278,
     "metadata": {},
     "output_type": "execute_result"
    }
   ],
   "source": [
    "# Identify outliers in 'item price' variable\n",
    "\n",
    "# Calculate Interquartile range \n",
    "q3 = merged_df['item_price'].quantile(0.75)\n",
    "q1 = merged_df['item_price'].quantile(0.25)\n",
    "iqr = q3 - q1\n",
    "\n",
    "# Since the probability density curve is right-skewed, outliers lie above the 3rd quartile+1.5*IQR\n",
    "upper_limit = q3 + 1.5*iqr\n",
    "\n",
    "merged_df.loc[merged_df['item_price'] > upper_limit]"
   ]
  },
  {
   "cell_type": "code",
   "execution_count": 279,
   "id": "47e3f989",
   "metadata": {},
   "outputs": [],
   "source": [
    "# Impute outliers in 'item price' variable with the median of 'item price'\n",
    "merged_df.loc[merged_df['item_price'] > upper_limit, 'item_price'] = np.median(merged_df['item_price'])"
   ]
  },
  {
   "cell_type": "code",
   "execution_count": 280,
   "id": "3929fca0",
   "metadata": {},
   "outputs": [
    {
     "data": {
      "text/html": [
       "<div>\n",
       "<style scoped>\n",
       "    .dataframe tbody tr th:only-of-type {\n",
       "        vertical-align: middle;\n",
       "    }\n",
       "\n",
       "    .dataframe tbody tr th {\n",
       "        vertical-align: top;\n",
       "    }\n",
       "\n",
       "    .dataframe thead th {\n",
       "        text-align: right;\n",
       "    }\n",
       "</style>\n",
       "<table border=\"1\" class=\"dataframe\">\n",
       "  <thead>\n",
       "    <tr style=\"text-align: right;\">\n",
       "      <th></th>\n",
       "      <th>item_description</th>\n",
       "      <th>transaction_date</th>\n",
       "      <th>invoice_id</th>\n",
       "      <th>customer_id</th>\n",
       "      <th>shop_id</th>\n",
       "      <th>item_price</th>\n",
       "      <th>quantity_sold</th>\n",
       "      <th>shop_area_sq_ft</th>\n",
       "      <th>shop_profile</th>\n",
       "    </tr>\n",
       "  </thead>\n",
       "  <tbody>\n",
       "    <tr>\n",
       "      <th>432065</th>\n",
       "      <td>STRAWBERRY MILK 180ML</td>\n",
       "      <td>2021-11-13T00:00:00.000Z</td>\n",
       "      <td>3397947.0</td>\n",
       "      <td>3QP3</td>\n",
       "      <td>SHOP072</td>\n",
       "      <td>220.0</td>\n",
       "      <td>10</td>\n",
       "      <td>617.0</td>\n",
       "      <td>High</td>\n",
       "    </tr>\n",
       "    <tr>\n",
       "      <th>432066</th>\n",
       "      <td>SODA 1L</td>\n",
       "      <td>2021-11-20T00:00:00.000Z</td>\n",
       "      <td>3399415.0</td>\n",
       "      <td>NQN0</td>\n",
       "      <td>SHOP072</td>\n",
       "      <td>110.0</td>\n",
       "      <td>2</td>\n",
       "      <td>617.0</td>\n",
       "      <td>High</td>\n",
       "    </tr>\n",
       "    <tr>\n",
       "      <th>432067</th>\n",
       "      <td>LEMONADE 500ML</td>\n",
       "      <td>2021-11-20T00:00:00.000Z</td>\n",
       "      <td>3399415.0</td>\n",
       "      <td>NQN0</td>\n",
       "      <td>SHOP072</td>\n",
       "      <td>200.0</td>\n",
       "      <td>3</td>\n",
       "      <td>617.0</td>\n",
       "      <td>High</td>\n",
       "    </tr>\n",
       "    <tr>\n",
       "      <th>432068</th>\n",
       "      <td>BOTTLED DRINKING WATER 500ML</td>\n",
       "      <td>2021-11-23T00:00:00.000Z</td>\n",
       "      <td>3400006.0</td>\n",
       "      <td>6J93</td>\n",
       "      <td>SHOP072</td>\n",
       "      <td>35.0</td>\n",
       "      <td>2</td>\n",
       "      <td>617.0</td>\n",
       "      <td>High</td>\n",
       "    </tr>\n",
       "    <tr>\n",
       "      <th>432069</th>\n",
       "      <td>BOTTLED DRINKING WATER 500ML</td>\n",
       "      <td>2021-11-24T00:00:00.000Z</td>\n",
       "      <td>3400134.0</td>\n",
       "      <td>F8VP</td>\n",
       "      <td>SHOP072</td>\n",
       "      <td>35.0</td>\n",
       "      <td>1</td>\n",
       "      <td>617.0</td>\n",
       "      <td>High</td>\n",
       "    </tr>\n",
       "    <tr>\n",
       "      <th>432070</th>\n",
       "      <td>CREAM SODA 1.5L</td>\n",
       "      <td>2021-11-25T00:00:00.000Z</td>\n",
       "      <td>3400417.0</td>\n",
       "      <td>YR68</td>\n",
       "      <td>SHOP072</td>\n",
       "      <td>220.0</td>\n",
       "      <td>2</td>\n",
       "      <td>617.0</td>\n",
       "      <td>High</td>\n",
       "    </tr>\n",
       "    <tr>\n",
       "      <th>432071</th>\n",
       "      <td>FIT O ORANGE 1L</td>\n",
       "      <td>2021-11-30T00:00:00.000Z</td>\n",
       "      <td>3401471.0</td>\n",
       "      <td>AT8X</td>\n",
       "      <td>SHOP072</td>\n",
       "      <td>290.0</td>\n",
       "      <td>1</td>\n",
       "      <td>617.0</td>\n",
       "      <td>High</td>\n",
       "    </tr>\n",
       "    <tr>\n",
       "      <th>432072</th>\n",
       "      <td>CREAM SODA APPLE POP 1L</td>\n",
       "      <td>2021-11-30T00:00:00.000Z</td>\n",
       "      <td>3401471.0</td>\n",
       "      <td>AT8X</td>\n",
       "      <td>SHOP072</td>\n",
       "      <td>150.0</td>\n",
       "      <td>1</td>\n",
       "      <td>617.0</td>\n",
       "      <td>High</td>\n",
       "    </tr>\n",
       "    <tr>\n",
       "      <th>432073</th>\n",
       "      <td>CREAM SODA 1.5L</td>\n",
       "      <td>2021-12-01T00:00:00.000Z</td>\n",
       "      <td>3401525.0</td>\n",
       "      <td>N4C3</td>\n",
       "      <td>SHOP072</td>\n",
       "      <td>220.0</td>\n",
       "      <td>3</td>\n",
       "      <td>617.0</td>\n",
       "      <td>High</td>\n",
       "    </tr>\n",
       "  </tbody>\n",
       "</table>\n",
       "</div>"
      ],
      "text/plain": [
       "                    item_description          transaction_date invoice_id  \\\n",
       "432065         STRAWBERRY MILK 180ML  2021-11-13T00:00:00.000Z  3397947.0   \n",
       "432066                       SODA 1L  2021-11-20T00:00:00.000Z  3399415.0   \n",
       "432067                LEMONADE 500ML  2021-11-20T00:00:00.000Z  3399415.0   \n",
       "432068  BOTTLED DRINKING WATER 500ML  2021-11-23T00:00:00.000Z  3400006.0   \n",
       "432069  BOTTLED DRINKING WATER 500ML  2021-11-24T00:00:00.000Z  3400134.0   \n",
       "432070               CREAM SODA 1.5L  2021-11-25T00:00:00.000Z  3400417.0   \n",
       "432071               FIT O ORANGE 1L  2021-11-30T00:00:00.000Z  3401471.0   \n",
       "432072       CREAM SODA APPLE POP 1L  2021-11-30T00:00:00.000Z  3401471.0   \n",
       "432073               CREAM SODA 1.5L  2021-12-01T00:00:00.000Z  3401525.0   \n",
       "\n",
       "       customer_id  shop_id  item_price  quantity_sold  shop_area_sq_ft  \\\n",
       "432065        3QP3  SHOP072       220.0             10            617.0   \n",
       "432066        NQN0  SHOP072       110.0              2            617.0   \n",
       "432067        NQN0  SHOP072       200.0              3            617.0   \n",
       "432068        6J93  SHOP072        35.0              2            617.0   \n",
       "432069        F8VP  SHOP072        35.0              1            617.0   \n",
       "432070        YR68  SHOP072       220.0              2            617.0   \n",
       "432071        AT8X  SHOP072       290.0              1            617.0   \n",
       "432072        AT8X  SHOP072       150.0              1            617.0   \n",
       "432073        N4C3  SHOP072       220.0              3            617.0   \n",
       "\n",
       "       shop_profile  \n",
       "432065         High  \n",
       "432066         High  \n",
       "432067         High  \n",
       "432068         High  \n",
       "432069         High  \n",
       "432070         High  \n",
       "432071         High  \n",
       "432072         High  \n",
       "432073         High  "
      ]
     },
     "execution_count": 280,
     "metadata": {},
     "output_type": "execute_result"
    }
   ],
   "source": [
    "merged_df.loc[432065:432073]"
   ]
  },
  {
   "cell_type": "code",
   "execution_count": 166,
   "id": "096f435b",
   "metadata": {},
   "outputs": [
    {
     "data": {
      "text/plain": [
       "Text(0.5, 1.0, 'PDF Curve-Quantity Sold')"
      ]
     },
     "execution_count": 166,
     "metadata": {},
     "output_type": "execute_result"
    },
    {
     "data": {
      "image/png": "[encoded data removed]",
      "text/plain": [
       "<Figure size 640x480 with 1 Axes>"
      ]
     },
     "metadata": {},
     "output_type": "display_data"
    }
   ],
   "source": [
    "# Plotting outliers in 'quantity sold' variable\n",
    "sns.kdeplot(merged_df['quantity_sold'])\n",
    "plt.title(\"PDF Curve-Quantity Sold\")"
   ]
  },
  {
   "cell_type": "markdown",
   "id": "a68b984d",
   "metadata": {},
   "source": [
    "The probability density curve is right-skewed. There is a possibility of having outliers in the 'quantity sold' variable."
   ]
  },
  {
   "cell_type": "code",
   "execution_count": 281,
   "id": "fb21ef48",
   "metadata": {},
   "outputs": [
    {
     "data": {
      "text/html": [
       "<div>\n",
       "<style scoped>\n",
       "    .dataframe tbody tr th:only-of-type {\n",
       "        vertical-align: middle;\n",
       "    }\n",
       "\n",
       "    .dataframe tbody tr th {\n",
       "        vertical-align: top;\n",
       "    }\n",
       "\n",
       "    .dataframe thead th {\n",
       "        text-align: right;\n",
       "    }\n",
       "</style>\n",
       "<table border=\"1\" class=\"dataframe\">\n",
       "  <thead>\n",
       "    <tr style=\"text-align: right;\">\n",
       "      <th></th>\n",
       "      <th>item_description</th>\n",
       "      <th>transaction_date</th>\n",
       "      <th>invoice_id</th>\n",
       "      <th>customer_id</th>\n",
       "      <th>shop_id</th>\n",
       "      <th>item_price</th>\n",
       "      <th>quantity_sold</th>\n",
       "      <th>shop_area_sq_ft</th>\n",
       "      <th>shop_profile</th>\n",
       "    </tr>\n",
       "  </thead>\n",
       "  <tbody>\n",
       "    <tr>\n",
       "      <th>5</th>\n",
       "      <td>CREAM SODA APPLE POP 1L</td>\n",
       "      <td>2021-12-10T00:00:00.000Z</td>\n",
       "      <td>2000106.0</td>\n",
       "      <td>QPBO</td>\n",
       "      <td>SHOP008</td>\n",
       "      <td>220.0</td>\n",
       "      <td>4</td>\n",
       "      <td>678.0</td>\n",
       "      <td>Moderate</td>\n",
       "    </tr>\n",
       "    <tr>\n",
       "      <th>16</th>\n",
       "      <td>FIT O MIXED FRUIT 200ML</td>\n",
       "      <td>2021-12-11T00:00:00.000Z</td>\n",
       "      <td>1000133.0</td>\n",
       "      <td>WM9P</td>\n",
       "      <td>SHOP008</td>\n",
       "      <td>210.0</td>\n",
       "      <td>4</td>\n",
       "      <td>678.0</td>\n",
       "      <td>Moderate</td>\n",
       "    </tr>\n",
       "    <tr>\n",
       "      <th>22</th>\n",
       "      <td>GINGER BEER 1.5L</td>\n",
       "      <td>2021-12-11T00:00:00.000Z</td>\n",
       "      <td>1000136.0</td>\n",
       "      <td>VX3B</td>\n",
       "      <td>SHOP008</td>\n",
       "      <td>220.0</td>\n",
       "      <td>5</td>\n",
       "      <td>678.0</td>\n",
       "      <td>Moderate</td>\n",
       "    </tr>\n",
       "    <tr>\n",
       "      <th>77</th>\n",
       "      <td>GINGER BEER 1.5L</td>\n",
       "      <td>2021-12-11T00:00:00.000Z</td>\n",
       "      <td>2000296.0</td>\n",
       "      <td>GMH1</td>\n",
       "      <td>SHOP008</td>\n",
       "      <td>220.0</td>\n",
       "      <td>4</td>\n",
       "      <td>678.0</td>\n",
       "      <td>Moderate</td>\n",
       "    </tr>\n",
       "    <tr>\n",
       "      <th>83</th>\n",
       "      <td>SODA 500ML</td>\n",
       "      <td>2021-12-14T00:00:00.000Z</td>\n",
       "      <td>2000644.0</td>\n",
       "      <td>GA2U</td>\n",
       "      <td>SHOP008</td>\n",
       "      <td>210.0</td>\n",
       "      <td>4</td>\n",
       "      <td>678.0</td>\n",
       "      <td>Moderate</td>\n",
       "    </tr>\n",
       "    <tr>\n",
       "      <th>...</th>\n",
       "      <td>...</td>\n",
       "      <td>...</td>\n",
       "      <td>...</td>\n",
       "      <td>...</td>\n",
       "      <td>...</td>\n",
       "      <td>...</td>\n",
       "      <td>...</td>\n",
       "      <td>...</td>\n",
       "      <td>...</td>\n",
       "    </tr>\n",
       "    <tr>\n",
       "      <th>431938</th>\n",
       "      <td>SODA PET 1.5L</td>\n",
       "      <td>2021-10-29T00:00:00.000Z</td>\n",
       "      <td>2455730.0</td>\n",
       "      <td>41YE</td>\n",
       "      <td>SHOP072</td>\n",
       "      <td>220.0</td>\n",
       "      <td>4</td>\n",
       "      <td>617.0</td>\n",
       "      <td>High</td>\n",
       "    </tr>\n",
       "    <tr>\n",
       "      <th>431953</th>\n",
       "      <td>BOTTLED DRINKING WATER 500ML</td>\n",
       "      <td>2021-12-05T00:00:00.000Z</td>\n",
       "      <td>2462979.0</td>\n",
       "      <td>UB3P</td>\n",
       "      <td>SHOP072</td>\n",
       "      <td>175.0</td>\n",
       "      <td>6</td>\n",
       "      <td>617.0</td>\n",
       "      <td>High</td>\n",
       "    </tr>\n",
       "    <tr>\n",
       "      <th>432027</th>\n",
       "      <td>TONIC PET 500ML</td>\n",
       "      <td>2021-11-13T00:00:00.000Z</td>\n",
       "      <td>1476988.0</td>\n",
       "      <td>920R</td>\n",
       "      <td>SHOP072</td>\n",
       "      <td>220.0</td>\n",
       "      <td>8</td>\n",
       "      <td>617.0</td>\n",
       "      <td>High</td>\n",
       "    </tr>\n",
       "    <tr>\n",
       "      <th>432065</th>\n",
       "      <td>STRAWBERRY MILK 180ML</td>\n",
       "      <td>2021-11-13T00:00:00.000Z</td>\n",
       "      <td>3397947.0</td>\n",
       "      <td>3QP3</td>\n",
       "      <td>SHOP072</td>\n",
       "      <td>220.0</td>\n",
       "      <td>10</td>\n",
       "      <td>617.0</td>\n",
       "      <td>High</td>\n",
       "    </tr>\n",
       "    <tr>\n",
       "      <th>432078</th>\n",
       "      <td>SODA PET 1.5L</td>\n",
       "      <td>2021-12-14T00:00:00.000Z</td>\n",
       "      <td>3403531.0</td>\n",
       "      <td>E518</td>\n",
       "      <td>SHOP072</td>\n",
       "      <td>220.0</td>\n",
       "      <td>4</td>\n",
       "      <td>617.0</td>\n",
       "      <td>High</td>\n",
       "    </tr>\n",
       "  </tbody>\n",
       "</table>\n",
       "<p>21379 rows × 9 columns</p>\n",
       "</div>"
      ],
      "text/plain": [
       "                    item_description          transaction_date invoice_id  \\\n",
       "5            CREAM SODA APPLE POP 1L  2021-12-10T00:00:00.000Z  2000106.0   \n",
       "16           FIT O MIXED FRUIT 200ML  2021-12-11T00:00:00.000Z  1000133.0   \n",
       "22                  GINGER BEER 1.5L  2021-12-11T00:00:00.000Z  1000136.0   \n",
       "77                  GINGER BEER 1.5L  2021-12-11T00:00:00.000Z  2000296.0   \n",
       "83                        SODA 500ML  2021-12-14T00:00:00.000Z  2000644.0   \n",
       "...                              ...                       ...        ...   \n",
       "431938                 SODA PET 1.5L  2021-10-29T00:00:00.000Z  2455730.0   \n",
       "431953  BOTTLED DRINKING WATER 500ML  2021-12-05T00:00:00.000Z  2462979.0   \n",
       "432027               TONIC PET 500ML  2021-11-13T00:00:00.000Z  1476988.0   \n",
       "432065         STRAWBERRY MILK 180ML  2021-11-13T00:00:00.000Z  3397947.0   \n",
       "432078                 SODA PET 1.5L  2021-12-14T00:00:00.000Z  3403531.0   \n",
       "\n",
       "       customer_id  shop_id  item_price  quantity_sold  shop_area_sq_ft  \\\n",
       "5             QPBO  SHOP008       220.0              4            678.0   \n",
       "16            WM9P  SHOP008       210.0              4            678.0   \n",
       "22            VX3B  SHOP008       220.0              5            678.0   \n",
       "77            GMH1  SHOP008       220.0              4            678.0   \n",
       "83            GA2U  SHOP008       210.0              4            678.0   \n",
       "...            ...      ...         ...            ...              ...   \n",
       "431938        41YE  SHOP072       220.0              4            617.0   \n",
       "431953        UB3P  SHOP072       175.0              6            617.0   \n",
       "432027        920R  SHOP072       220.0              8            617.0   \n",
       "432065        3QP3  SHOP072       220.0             10            617.0   \n",
       "432078        E518  SHOP072       220.0              4            617.0   \n",
       "\n",
       "       shop_profile  \n",
       "5          Moderate  \n",
       "16         Moderate  \n",
       "22         Moderate  \n",
       "77         Moderate  \n",
       "83         Moderate  \n",
       "...             ...  \n",
       "431938         High  \n",
       "431953         High  \n",
       "432027         High  \n",
       "432065         High  \n",
       "432078         High  \n",
       "\n",
       "[21379 rows x 9 columns]"
      ]
     },
     "execution_count": 281,
     "metadata": {},
     "output_type": "execute_result"
    }
   ],
   "source": [
    "# Identify outliers in 'quantity sold' variable\n",
    "\n",
    "# Calculate Interquartile range \n",
    "q3 = merged_df['quantity_sold'].quantile(0.75)\n",
    "q1 = merged_df['quantity_sold'].quantile(0.25)\n",
    "iqr = q3 - q1\n",
    "\n",
    "# Since the probability density curve is right-skewed, outliers lie above the 3rd quartile+1.5*IQR\n",
    "upper_limit = q3 + 1.5*iqr\n",
    "\n",
    "merged_df.loc[merged_df['quantity_sold'] > upper_limit]"
   ]
  },
  {
   "cell_type": "markdown",
   "id": "26c2a94a",
   "metadata": {},
   "source": [
    "It is obvious that the variable 'quantity sold' has outliers in the merged data frame. However, tit would not be appropriate to impute these outliers with mean or median since the aim of the project is analyzing stores based on theire performances. 'Quantity sold' is a key measurement of performance. Thus, it would not be meaningful to impute these outliers. If these outliers are replaced, then we would not get insights on high performing stores. "
   ]
  },
  {
   "cell_type": "code",
   "execution_count": 169,
   "id": "6589d229",
   "metadata": {},
   "outputs": [
    {
     "data": {
      "text/plain": [
       "Text(0.5, 1.0, 'Boxplot-Shop Area')"
      ]
     },
     "execution_count": 169,
     "metadata": {},
     "output_type": "execute_result"
    },
    {
     "data": {
      "image/png": "[encoded data removed]",
      "text/plain": [
       "<Figure size 640x480 with 1 Axes>"
      ]
     },
     "metadata": {},
     "output_type": "display_data"
    }
   ],
   "source": [
    "# Plotting outliers in 'shop area' variable\n",
    "sns.boxplot(merged_df['shop_area_sq_ft'])\n",
    "plt.title(\"Boxplot-Shop Area\")"
   ]
  },
  {
   "cell_type": "markdown",
   "id": "60d7e2c6",
   "metadata": {},
   "source": [
    "There are observations that lie above and below the whiskers. There is a possibility of having outliers in the 'shop_area_sq_ft' variable."
   ]
  },
  {
   "cell_type": "code",
   "execution_count": 282,
   "id": "dbacf2f1",
   "metadata": {},
   "outputs": [
    {
     "data": {
      "text/html": [
       "<div>\n",
       "<style scoped>\n",
       "    .dataframe tbody tr th:only-of-type {\n",
       "        vertical-align: middle;\n",
       "    }\n",
       "\n",
       "    .dataframe tbody tr th {\n",
       "        vertical-align: top;\n",
       "    }\n",
       "\n",
       "    .dataframe thead th {\n",
       "        text-align: right;\n",
       "    }\n",
       "</style>\n",
       "<table border=\"1\" class=\"dataframe\">\n",
       "  <thead>\n",
       "    <tr style=\"text-align: right;\">\n",
       "      <th></th>\n",
       "      <th>item_description</th>\n",
       "      <th>transaction_date</th>\n",
       "      <th>invoice_id</th>\n",
       "      <th>customer_id</th>\n",
       "      <th>shop_id</th>\n",
       "      <th>item_price</th>\n",
       "      <th>quantity_sold</th>\n",
       "      <th>shop_area_sq_ft</th>\n",
       "      <th>shop_profile</th>\n",
       "    </tr>\n",
       "  </thead>\n",
       "  <tbody>\n",
       "  </tbody>\n",
       "</table>\n",
       "</div>"
      ],
      "text/plain": [
       "Empty DataFrame\n",
       "Columns: [item_description, transaction_date, invoice_id, customer_id, shop_id, item_price, quantity_sold, shop_area_sq_ft, shop_profile]\n",
       "Index: []"
      ]
     },
     "execution_count": 282,
     "metadata": {},
     "output_type": "execute_result"
    }
   ],
   "source": [
    "# Identify outliers in 'shop area' variable\n",
    "\n",
    "# Calculate Interquartile range \n",
    "q3 = merged_df['shop_area_sq_ft'].quantile(0.75)\n",
    "q1 = merged_df['shop_area_sq_ft'].quantile(0.25)\n",
    "iqr = q3 - q1\n",
    "\n",
    "# Outliers lie above and below the whiskers\n",
    "upper_limit = q3 + 1.5*iqr\n",
    "lower_limit = q1 - 1.5*iqr\n",
    "\n",
    "merged_df.loc[(merged_df['quantity_sold'] > upper_limit) & (merged_df['quantity_sold'] < lower_limit)]"
   ]
  },
  {
   "cell_type": "code",
   "execution_count": 283,
   "id": "8b5aebe6",
   "metadata": {},
   "outputs": [],
   "source": [
    "# Impute outliers in 'shop area' variable with the median of 'shop area'\n",
    "merged_df.loc[merged_df['shop_area_sq_ft'] > upper_limit, 'shop_area_sq_ft'] = np.median(merged_df['shop_area_sq_ft'])"
   ]
  },
  {
   "cell_type": "code",
   "execution_count": 284,
   "id": "4d6b4c98",
   "metadata": {},
   "outputs": [
    {
     "data": {
      "text/html": [
       "<div>\n",
       "<style scoped>\n",
       "    .dataframe tbody tr th:only-of-type {\n",
       "        vertical-align: middle;\n",
       "    }\n",
       "\n",
       "    .dataframe tbody tr th {\n",
       "        vertical-align: top;\n",
       "    }\n",
       "\n",
       "    .dataframe thead th {\n",
       "        text-align: right;\n",
       "    }\n",
       "</style>\n",
       "<table border=\"1\" class=\"dataframe\">\n",
       "  <thead>\n",
       "    <tr style=\"text-align: right;\">\n",
       "      <th></th>\n",
       "      <th>item_description</th>\n",
       "      <th>transaction_date</th>\n",
       "      <th>invoice_id</th>\n",
       "      <th>customer_id</th>\n",
       "      <th>shop_id</th>\n",
       "      <th>item_price</th>\n",
       "      <th>quantity_sold</th>\n",
       "      <th>shop_area_sq_ft</th>\n",
       "      <th>shop_profile</th>\n",
       "    </tr>\n",
       "  </thead>\n",
       "  <tbody>\n",
       "    <tr>\n",
       "      <th>0</th>\n",
       "      <td>ORANGE BARLEY 1.5L</td>\n",
       "      <td>2021-12-11T00:00:00.000Z</td>\n",
       "      <td>147.0</td>\n",
       "      <td>BGXA</td>\n",
       "      <td>SHOP008</td>\n",
       "      <td>220.0</td>\n",
       "      <td>2</td>\n",
       "      <td>678.0</td>\n",
       "      <td>Moderate</td>\n",
       "    </tr>\n",
       "    <tr>\n",
       "      <th>1</th>\n",
       "      <td>TONIC PET 500ML</td>\n",
       "      <td>2021-12-13T00:00:00.000Z</td>\n",
       "      <td>484.0</td>\n",
       "      <td>VN7V</td>\n",
       "      <td>SHOP008</td>\n",
       "      <td>160.0</td>\n",
       "      <td>2</td>\n",
       "      <td>678.0</td>\n",
       "      <td>Moderate</td>\n",
       "    </tr>\n",
       "    <tr>\n",
       "      <th>2</th>\n",
       "      <td>CREAM SODA 1L</td>\n",
       "      <td>2021-12-13T00:00:00.000Z</td>\n",
       "      <td>484.0</td>\n",
       "      <td>VN7V</td>\n",
       "      <td>SHOP008</td>\n",
       "      <td>150.0</td>\n",
       "      <td>2</td>\n",
       "      <td>678.0</td>\n",
       "      <td>Moderate</td>\n",
       "    </tr>\n",
       "    <tr>\n",
       "      <th>3</th>\n",
       "      <td>GINGER BEER 1.5L</td>\n",
       "      <td>2021-12-10T00:00:00.000Z</td>\n",
       "      <td>1000053.0</td>\n",
       "      <td>VT9C</td>\n",
       "      <td>SHOP008</td>\n",
       "      <td>220.0</td>\n",
       "      <td>1</td>\n",
       "      <td>678.0</td>\n",
       "      <td>Moderate</td>\n",
       "    </tr>\n",
       "    <tr>\n",
       "      <th>4</th>\n",
       "      <td>GINGER BEER 1.5L</td>\n",
       "      <td>2021-12-10T00:00:00.000Z</td>\n",
       "      <td>1000057.0</td>\n",
       "      <td>8QLS</td>\n",
       "      <td>SHOP008</td>\n",
       "      <td>220.0</td>\n",
       "      <td>1</td>\n",
       "      <td>678.0</td>\n",
       "      <td>Moderate</td>\n",
       "    </tr>\n",
       "  </tbody>\n",
       "</table>\n",
       "</div>"
      ],
      "text/plain": [
       "     item_description          transaction_date invoice_id customer_id  \\\n",
       "0  ORANGE BARLEY 1.5L  2021-12-11T00:00:00.000Z      147.0        BGXA   \n",
       "1     TONIC PET 500ML  2021-12-13T00:00:00.000Z      484.0        VN7V   \n",
       "2       CREAM SODA 1L  2021-12-13T00:00:00.000Z      484.0        VN7V   \n",
       "3    GINGER BEER 1.5L  2021-12-10T00:00:00.000Z  1000053.0        VT9C   \n",
       "4    GINGER BEER 1.5L  2021-12-10T00:00:00.000Z  1000057.0        8QLS   \n",
       "\n",
       "   shop_id  item_price  quantity_sold  shop_area_sq_ft shop_profile  \n",
       "0  SHOP008       220.0              2            678.0     Moderate  \n",
       "1  SHOP008       160.0              2            678.0     Moderate  \n",
       "2  SHOP008       150.0              2            678.0     Moderate  \n",
       "3  SHOP008       220.0              1            678.0     Moderate  \n",
       "4  SHOP008       220.0              1            678.0     Moderate  "
      ]
     },
     "execution_count": 284,
     "metadata": {},
     "output_type": "execute_result"
    }
   ],
   "source": [
    "merged_df.head()"
   ]
  },
  {
   "cell_type": "markdown",
   "id": "b79f9b3a",
   "metadata": {},
   "source": [
    "### Data Standardization"
   ]
  },
  {
   "cell_type": "markdown",
   "id": "ca413a82",
   "metadata": {},
   "source": [
    "The process of transforming data into a standard format is known as data standardization. It allows easy compariosn between data. It also assists organizations in avoiding judgments based on incorrect or insufficient data.\n",
    "\n",
    "In this meregd data set, the shop area is measured in square foot. Considering that the international standard for area measurement is square meters, the variable 'shop_area_sq_ft' is transformed to square meters by mathematical operation. This would enable the corporation to make data-driven decisons on resource allocation based on the standard scales. "
   ]
  },
  {
   "cell_type": "code",
   "execution_count": 285,
   "id": "3c536d57",
   "metadata": {},
   "outputs": [
    {
     "name": "stderr",
     "output_type": "stream",
     "text": [
      "C:\\Users\\acer\\AppData\\Local\\Temp\\ipykernel_3260\\728829389.py:2: SettingWithCopyWarning: \n",
      "A value is trying to be set on a copy of a slice from a DataFrame.\n",
      "Try using .loc[row_indexer,col_indexer] = value instead\n",
      "\n",
      "See the caveats in the documentation: https://pandas.pydata.org/pandas-docs/stable/user_guide/indexing.html#returning-a-view-versus-a-copy\n",
      "  merged_df['shop_area_sq_ft'] = 0.092903*merged_df['shop_area_sq_ft']\n"
     ]
    }
   ],
   "source": [
    "# transform square foot to square meter\n",
    "merged_df['shop_area_sq_ft'] = 0.092903*merged_df['shop_area_sq_ft']"
   ]
  },
  {
   "cell_type": "code",
   "execution_count": 286,
   "id": "69720341",
   "metadata": {},
   "outputs": [
    {
     "name": "stderr",
     "output_type": "stream",
     "text": [
      "C:\\Users\\acer\\AppData\\Local\\Temp\\ipykernel_3260\\888058246.py:2: SettingWithCopyWarning: \n",
      "A value is trying to be set on a copy of a slice from a DataFrame\n",
      "\n",
      "See the caveats in the documentation: https://pandas.pydata.org/pandas-docs/stable/user_guide/indexing.html#returning-a-view-versus-a-copy\n",
      "  merged_df.rename(columns = {'shop_area_sq_ft':'shop_area_sq_m'}, inplace = True)\n"
     ]
    },
    {
     "data": {
      "text/html": [
       "<div>\n",
       "<style scoped>\n",
       "    .dataframe tbody tr th:only-of-type {\n",
       "        vertical-align: middle;\n",
       "    }\n",
       "\n",
       "    .dataframe tbody tr th {\n",
       "        vertical-align: top;\n",
       "    }\n",
       "\n",
       "    .dataframe thead th {\n",
       "        text-align: right;\n",
       "    }\n",
       "</style>\n",
       "<table border=\"1\" class=\"dataframe\">\n",
       "  <thead>\n",
       "    <tr style=\"text-align: right;\">\n",
       "      <th></th>\n",
       "      <th>item_description</th>\n",
       "      <th>transaction_date</th>\n",
       "      <th>invoice_id</th>\n",
       "      <th>customer_id</th>\n",
       "      <th>shop_id</th>\n",
       "      <th>item_price</th>\n",
       "      <th>quantity_sold</th>\n",
       "      <th>shop_area_sq_m</th>\n",
       "      <th>shop_profile</th>\n",
       "    </tr>\n",
       "  </thead>\n",
       "  <tbody>\n",
       "    <tr>\n",
       "      <th>0</th>\n",
       "      <td>ORANGE BARLEY 1.5L</td>\n",
       "      <td>2021-12-11T00:00:00.000Z</td>\n",
       "      <td>147.0</td>\n",
       "      <td>BGXA</td>\n",
       "      <td>SHOP008</td>\n",
       "      <td>220.0</td>\n",
       "      <td>2</td>\n",
       "      <td>62.988234</td>\n",
       "      <td>Moderate</td>\n",
       "    </tr>\n",
       "    <tr>\n",
       "      <th>1</th>\n",
       "      <td>TONIC PET 500ML</td>\n",
       "      <td>2021-12-13T00:00:00.000Z</td>\n",
       "      <td>484.0</td>\n",
       "      <td>VN7V</td>\n",
       "      <td>SHOP008</td>\n",
       "      <td>160.0</td>\n",
       "      <td>2</td>\n",
       "      <td>62.988234</td>\n",
       "      <td>Moderate</td>\n",
       "    </tr>\n",
       "    <tr>\n",
       "      <th>2</th>\n",
       "      <td>CREAM SODA 1L</td>\n",
       "      <td>2021-12-13T00:00:00.000Z</td>\n",
       "      <td>484.0</td>\n",
       "      <td>VN7V</td>\n",
       "      <td>SHOP008</td>\n",
       "      <td>150.0</td>\n",
       "      <td>2</td>\n",
       "      <td>62.988234</td>\n",
       "      <td>Moderate</td>\n",
       "    </tr>\n",
       "    <tr>\n",
       "      <th>3</th>\n",
       "      <td>GINGER BEER 1.5L</td>\n",
       "      <td>2021-12-10T00:00:00.000Z</td>\n",
       "      <td>1000053.0</td>\n",
       "      <td>VT9C</td>\n",
       "      <td>SHOP008</td>\n",
       "      <td>220.0</td>\n",
       "      <td>1</td>\n",
       "      <td>62.988234</td>\n",
       "      <td>Moderate</td>\n",
       "    </tr>\n",
       "    <tr>\n",
       "      <th>4</th>\n",
       "      <td>GINGER BEER 1.5L</td>\n",
       "      <td>2021-12-10T00:00:00.000Z</td>\n",
       "      <td>1000057.0</td>\n",
       "      <td>8QLS</td>\n",
       "      <td>SHOP008</td>\n",
       "      <td>220.0</td>\n",
       "      <td>1</td>\n",
       "      <td>62.988234</td>\n",
       "      <td>Moderate</td>\n",
       "    </tr>\n",
       "  </tbody>\n",
       "</table>\n",
       "</div>"
      ],
      "text/plain": [
       "     item_description          transaction_date invoice_id customer_id  \\\n",
       "0  ORANGE BARLEY 1.5L  2021-12-11T00:00:00.000Z      147.0        BGXA   \n",
       "1     TONIC PET 500ML  2021-12-13T00:00:00.000Z      484.0        VN7V   \n",
       "2       CREAM SODA 1L  2021-12-13T00:00:00.000Z      484.0        VN7V   \n",
       "3    GINGER BEER 1.5L  2021-12-10T00:00:00.000Z  1000053.0        VT9C   \n",
       "4    GINGER BEER 1.5L  2021-12-10T00:00:00.000Z  1000057.0        8QLS   \n",
       "\n",
       "   shop_id  item_price  quantity_sold  shop_area_sq_m shop_profile  \n",
       "0  SHOP008       220.0              2       62.988234     Moderate  \n",
       "1  SHOP008       160.0              2       62.988234     Moderate  \n",
       "2  SHOP008       150.0              2       62.988234     Moderate  \n",
       "3  SHOP008       220.0              1       62.988234     Moderate  \n",
       "4  SHOP008       220.0              1       62.988234     Moderate  "
      ]
     },
     "execution_count": 286,
     "metadata": {},
     "output_type": "execute_result"
    }
   ],
   "source": [
    "# Rename column name from 'shop_area_sq_ft' to 'shop_area_sq_m'\n",
    "merged_df.rename(columns = {'shop_area_sq_ft':'shop_area_sq_m'}, inplace = True)\n",
    "\n",
    "# Display the transformed data\n",
    "merged_df.head()"
   ]
  },
  {
   "cell_type": "markdown",
   "id": "bc6375cf",
   "metadata": {},
   "source": [
    "### Data Normalization"
   ]
  },
  {
   "cell_type": "markdown",
   "id": "493b7a7e",
   "metadata": {},
   "source": [
    "The merged data frame has variables having features with different scales or units of measurement (e.g.: item_price, quantity_sold,shop_area_sq_m). By transforming their values to fall within the same range, normalization guarantees that all variables have equal weight in the analysis.  Normalization makes it easier to compare data with different scales by transforming their values to fall within the same range. Moreover, normalization decreases the impact of outliers by scaling the extreme values to fall within the same range as other observations."
   ]
  },
  {
   "cell_type": "code",
   "execution_count": 287,
   "id": "b3470dde",
   "metadata": {},
   "outputs": [
    {
     "name": "stderr",
     "output_type": "stream",
     "text": [
      "C:\\Users\\acer\\AppData\\Local\\Temp\\ipykernel_3260\\1154100898.py:4: SettingWithCopyWarning: \n",
      "A value is trying to be set on a copy of a slice from a DataFrame.\n",
      "Try using .loc[row_indexer,col_indexer] = value instead\n",
      "\n",
      "See the caveats in the documentation: https://pandas.pydata.org/pandas-docs/stable/user_guide/indexing.html#returning-a-view-versus-a-copy\n",
      "  merged_df['item_price'] = merged_df['item_price']/merged_df['item_price'].max()\n",
      "C:\\Users\\acer\\AppData\\Local\\Temp\\ipykernel_3260\\1154100898.py:7: SettingWithCopyWarning: \n",
      "A value is trying to be set on a copy of a slice from a DataFrame.\n",
      "Try using .loc[row_indexer,col_indexer] = value instead\n",
      "\n",
      "See the caveats in the documentation: https://pandas.pydata.org/pandas-docs/stable/user_guide/indexing.html#returning-a-view-versus-a-copy\n",
      "  merged_df['quantity_sold'] = merged_df['quantity_sold']/merged_df['quantity_sold'].max()\n",
      "C:\\Users\\acer\\AppData\\Local\\Temp\\ipykernel_3260\\1154100898.py:10: SettingWithCopyWarning: \n",
      "A value is trying to be set on a copy of a slice from a DataFrame.\n",
      "Try using .loc[row_indexer,col_indexer] = value instead\n",
      "\n",
      "See the caveats in the documentation: https://pandas.pydata.org/pandas-docs/stable/user_guide/indexing.html#returning-a-view-versus-a-copy\n",
      "  merged_df['shop_area_sq_m'] = merged_df['shop_area_sq_m']/merged_df['shop_area_sq_m'].max()\n"
     ]
    },
    {
     "data": {
      "text/html": [
       "<div>\n",
       "<style scoped>\n",
       "    .dataframe tbody tr th:only-of-type {\n",
       "        vertical-align: middle;\n",
       "    }\n",
       "\n",
       "    .dataframe tbody tr th {\n",
       "        vertical-align: top;\n",
       "    }\n",
       "\n",
       "    .dataframe thead th {\n",
       "        text-align: right;\n",
       "    }\n",
       "</style>\n",
       "<table border=\"1\" class=\"dataframe\">\n",
       "  <thead>\n",
       "    <tr style=\"text-align: right;\">\n",
       "      <th></th>\n",
       "      <th>item_description</th>\n",
       "      <th>transaction_date</th>\n",
       "      <th>invoice_id</th>\n",
       "      <th>customer_id</th>\n",
       "      <th>shop_id</th>\n",
       "      <th>item_price</th>\n",
       "      <th>quantity_sold</th>\n",
       "      <th>shop_area_sq_m</th>\n",
       "      <th>shop_profile</th>\n",
       "    </tr>\n",
       "  </thead>\n",
       "  <tbody>\n",
       "    <tr>\n",
       "      <th>0</th>\n",
       "      <td>ORANGE BARLEY 1.5L</td>\n",
       "      <td>2021-12-11T00:00:00.000Z</td>\n",
       "      <td>147.0</td>\n",
       "      <td>BGXA</td>\n",
       "      <td>SHOP008</td>\n",
       "      <td>0.571429</td>\n",
       "      <td>0.019802</td>\n",
       "      <td>0.837037</td>\n",
       "      <td>Moderate</td>\n",
       "    </tr>\n",
       "    <tr>\n",
       "      <th>1</th>\n",
       "      <td>TONIC PET 500ML</td>\n",
       "      <td>2021-12-13T00:00:00.000Z</td>\n",
       "      <td>484.0</td>\n",
       "      <td>VN7V</td>\n",
       "      <td>SHOP008</td>\n",
       "      <td>0.415584</td>\n",
       "      <td>0.019802</td>\n",
       "      <td>0.837037</td>\n",
       "      <td>Moderate</td>\n",
       "    </tr>\n",
       "    <tr>\n",
       "      <th>2</th>\n",
       "      <td>CREAM SODA 1L</td>\n",
       "      <td>2021-12-13T00:00:00.000Z</td>\n",
       "      <td>484.0</td>\n",
       "      <td>VN7V</td>\n",
       "      <td>SHOP008</td>\n",
       "      <td>0.389610</td>\n",
       "      <td>0.019802</td>\n",
       "      <td>0.837037</td>\n",
       "      <td>Moderate</td>\n",
       "    </tr>\n",
       "    <tr>\n",
       "      <th>3</th>\n",
       "      <td>GINGER BEER 1.5L</td>\n",
       "      <td>2021-12-10T00:00:00.000Z</td>\n",
       "      <td>1000053.0</td>\n",
       "      <td>VT9C</td>\n",
       "      <td>SHOP008</td>\n",
       "      <td>0.571429</td>\n",
       "      <td>0.009901</td>\n",
       "      <td>0.837037</td>\n",
       "      <td>Moderate</td>\n",
       "    </tr>\n",
       "    <tr>\n",
       "      <th>4</th>\n",
       "      <td>GINGER BEER 1.5L</td>\n",
       "      <td>2021-12-10T00:00:00.000Z</td>\n",
       "      <td>1000057.0</td>\n",
       "      <td>8QLS</td>\n",
       "      <td>SHOP008</td>\n",
       "      <td>0.571429</td>\n",
       "      <td>0.009901</td>\n",
       "      <td>0.837037</td>\n",
       "      <td>Moderate</td>\n",
       "    </tr>\n",
       "  </tbody>\n",
       "</table>\n",
       "</div>"
      ],
      "text/plain": [
       "     item_description          transaction_date invoice_id customer_id  \\\n",
       "0  ORANGE BARLEY 1.5L  2021-12-11T00:00:00.000Z      147.0        BGXA   \n",
       "1     TONIC PET 500ML  2021-12-13T00:00:00.000Z      484.0        VN7V   \n",
       "2       CREAM SODA 1L  2021-12-13T00:00:00.000Z      484.0        VN7V   \n",
       "3    GINGER BEER 1.5L  2021-12-10T00:00:00.000Z  1000053.0        VT9C   \n",
       "4    GINGER BEER 1.5L  2021-12-10T00:00:00.000Z  1000057.0        8QLS   \n",
       "\n",
       "   shop_id  item_price  quantity_sold  shop_area_sq_m shop_profile  \n",
       "0  SHOP008    0.571429       0.019802        0.837037     Moderate  \n",
       "1  SHOP008    0.415584       0.019802        0.837037     Moderate  \n",
       "2  SHOP008    0.389610       0.019802        0.837037     Moderate  \n",
       "3  SHOP008    0.571429       0.009901        0.837037     Moderate  \n",
       "4  SHOP008    0.571429       0.009901        0.837037     Moderate  "
      ]
     },
     "execution_count": 287,
     "metadata": {},
     "output_type": "execute_result"
    }
   ],
   "source": [
    "# Replace (original value) by (original value)/(maximum value) to normalize the data\n",
    "\n",
    "# Data normalization --- 'item price'\n",
    "merged_df['item_price'] = merged_df['item_price']/merged_df['item_price'].max()\n",
    "\n",
    "# Data normalization --- 'quantity sold'\n",
    "merged_df['quantity_sold'] = merged_df['quantity_sold']/merged_df['quantity_sold'].max()\n",
    "\n",
    "# Data normalization --- 'shop area'\n",
    "merged_df['shop_area_sq_m'] = merged_df['shop_area_sq_m']/merged_df['shop_area_sq_m'].max()\n",
    "\n",
    "merged_df.head()"
   ]
  },
  {
   "cell_type": "markdown",
   "id": "296b0b79",
   "metadata": {},
   "source": [
    "The variables, item_price, quantity_sold, and shop_area_sq_m can not take negative values. Thus, when normalizing the data frame has been restrained to a positive quadrent by dividing the original data value by maximum value. "
   ]
  },
  {
   "cell_type": "markdown",
   "id": "19ee5d05",
   "metadata": {},
   "source": [
    "### Binning"
   ]
  },
  {
   "cell_type": "markdown",
   "id": "9c4f66b3",
   "metadata": {},
   "source": [
    "Upto the recent moment, the Beverages Company XYZ has evaluated existing outlets as High, Moderate, and Lowon based on the salesperson's views. However, these measurements were found to be be inefficient. Therefore, binning technique could be used to improve their decision-making process by providing an analytical solution to identify the profile of given outlets as High, Moderate or Low."
   ]
  },
  {
   "cell_type": "markdown",
   "id": "97ab6309",
   "metadata": {},
   "source": [
    "There would be three bins namely, high, moderate, and low. And it is assumed that store profiling is done based on their performances where the 'quantity sold' is considered to be the performance measurement. "
   ]
  },
  {
   "cell_type": "code",
   "execution_count": 288,
   "id": "6aac8f3f",
   "metadata": {},
   "outputs": [
    {
     "data": {
      "text/plain": [
       "array([-0.00990099,  0.32673267,  0.66336634,  1.        ])"
      ]
     },
     "execution_count": 288,
     "metadata": {},
     "output_type": "execute_result"
    }
   ],
   "source": [
    "bins = np.linspace(min(merged_df['quantity_sold']), max(merged_df['quantity_sold']),4)\n",
    "bins"
   ]
  },
  {
   "cell_type": "code",
   "execution_count": 289,
   "id": "79862260",
   "metadata": {},
   "outputs": [],
   "source": [
    "group_names = ['High','Moderate','Low']"
   ]
  },
  {
   "cell_type": "code",
   "execution_count": 290,
   "id": "a6523d36",
   "metadata": {},
   "outputs": [
    {
     "name": "stderr",
     "output_type": "stream",
     "text": [
      "C:\\Users\\acer\\AppData\\Local\\Temp\\ipykernel_3260\\488197875.py:2: SettingWithCopyWarning: \n",
      "A value is trying to be set on a copy of a slice from a DataFrame.\n",
      "Try using .loc[row_indexer,col_indexer] = value instead\n",
      "\n",
      "See the caveats in the documentation: https://pandas.pydata.org/pandas-docs/stable/user_guide/indexing.html#returning-a-view-versus-a-copy\n",
      "  merged_df['quantity_sold-binned'] = pd.cut(merged_df['quantity_sold'], bins, labels = group_names, include_lowest = True)\n"
     ]
    },
    {
     "data": {
      "text/html": [
       "<div>\n",
       "<style scoped>\n",
       "    .dataframe tbody tr th:only-of-type {\n",
       "        vertical-align: middle;\n",
       "    }\n",
       "\n",
       "    .dataframe tbody tr th {\n",
       "        vertical-align: top;\n",
       "    }\n",
       "\n",
       "    .dataframe thead th {\n",
       "        text-align: right;\n",
       "    }\n",
       "</style>\n",
       "<table border=\"1\" class=\"dataframe\">\n",
       "  <thead>\n",
       "    <tr style=\"text-align: right;\">\n",
       "      <th></th>\n",
       "      <th>quantity_sold</th>\n",
       "      <th>quantity_sold-binned</th>\n",
       "    </tr>\n",
       "  </thead>\n",
       "  <tbody>\n",
       "    <tr>\n",
       "      <th>0</th>\n",
       "      <td>0.019802</td>\n",
       "      <td>High</td>\n",
       "    </tr>\n",
       "    <tr>\n",
       "      <th>1</th>\n",
       "      <td>0.019802</td>\n",
       "      <td>High</td>\n",
       "    </tr>\n",
       "    <tr>\n",
       "      <th>2</th>\n",
       "      <td>0.019802</td>\n",
       "      <td>High</td>\n",
       "    </tr>\n",
       "    <tr>\n",
       "      <th>3</th>\n",
       "      <td>0.009901</td>\n",
       "      <td>High</td>\n",
       "    </tr>\n",
       "    <tr>\n",
       "      <th>4</th>\n",
       "      <td>0.009901</td>\n",
       "      <td>High</td>\n",
       "    </tr>\n",
       "  </tbody>\n",
       "</table>\n",
       "</div>"
      ],
      "text/plain": [
       "   quantity_sold quantity_sold-binned\n",
       "0       0.019802                 High\n",
       "1       0.019802                 High\n",
       "2       0.019802                 High\n",
       "3       0.009901                 High\n",
       "4       0.009901                 High"
      ]
     },
     "execution_count": 290,
     "metadata": {},
     "output_type": "execute_result"
    }
   ],
   "source": [
    "# Converting the values into a class.\n",
    "merged_df['quantity_sold-binned'] = pd.cut(merged_df['quantity_sold'], bins, labels = group_names, include_lowest = True)\n",
    "merged_df[['quantity_sold','quantity_sold-binned']].head()"
   ]
  },
  {
   "cell_type": "code",
   "execution_count": 291,
   "id": "a905fcbf",
   "metadata": {},
   "outputs": [
    {
     "data": {
      "text/plain": [
       "High        402168\n",
       "Moderate       123\n",
       "Low             10\n",
       "Name: quantity_sold-binned, dtype: int64"
      ]
     },
     "execution_count": 291,
     "metadata": {},
     "output_type": "execute_result"
    }
   ],
   "source": [
    "merged_df['quantity_sold-binned'].value_counts()"
   ]
  },
  {
   "cell_type": "code",
   "execution_count": 249,
   "id": "367b6964",
   "metadata": {},
   "outputs": [
    {
     "data": {
      "text/plain": [
       "Text(0.5, 1.0, 'Store Profiling')"
      ]
     },
     "execution_count": 249,
     "metadata": {},
     "output_type": "execute_result"
    },
    {
     "data": {
      "image/png": "[encoded data removed]",
      "text/plain": [
       "<Figure size 640x480 with 1 Axes>"
      ]
     },
     "metadata": {},
     "output_type": "display_data"
    }
   ],
   "source": [
    "%matplotlib inline\n",
    "plt.hist(merged_df['quantity_sold-binned'], bins = 3)\n",
    "\n",
    "# Set x/y labels and plot title\n",
    "plt.xlabel('Store')\n",
    "plt.ylabel('Quantity sold')\n",
    "plt.title(\"Store Profiling\")"
   ]
  },
  {
   "cell_type": "code",
   "execution_count": 292,
   "id": "7f0312c0",
   "metadata": {},
   "outputs": [
    {
     "data": {
      "text/html": [
       "<div>\n",
       "<style scoped>\n",
       "    .dataframe tbody tr th:only-of-type {\n",
       "        vertical-align: middle;\n",
       "    }\n",
       "\n",
       "    .dataframe tbody tr th {\n",
       "        vertical-align: top;\n",
       "    }\n",
       "\n",
       "    .dataframe thead th {\n",
       "        text-align: right;\n",
       "    }\n",
       "</style>\n",
       "<table border=\"1\" class=\"dataframe\">\n",
       "  <thead>\n",
       "    <tr style=\"text-align: right;\">\n",
       "      <th></th>\n",
       "      <th>item_description</th>\n",
       "      <th>transaction_date</th>\n",
       "      <th>invoice_id</th>\n",
       "      <th>customer_id</th>\n",
       "      <th>shop_id</th>\n",
       "      <th>item_price</th>\n",
       "      <th>quantity_sold</th>\n",
       "      <th>shop_area_sq_m</th>\n",
       "      <th>shop_profile</th>\n",
       "      <th>quantity_sold-binned</th>\n",
       "    </tr>\n",
       "  </thead>\n",
       "  <tbody>\n",
       "    <tr>\n",
       "      <th>0</th>\n",
       "      <td>ORANGE BARLEY 1.5L</td>\n",
       "      <td>2021-12-11T00:00:00.000Z</td>\n",
       "      <td>147.0</td>\n",
       "      <td>BGXA</td>\n",
       "      <td>SHOP008</td>\n",
       "      <td>0.571429</td>\n",
       "      <td>0.019802</td>\n",
       "      <td>0.837037</td>\n",
       "      <td>Moderate</td>\n",
       "      <td>High</td>\n",
       "    </tr>\n",
       "    <tr>\n",
       "      <th>1</th>\n",
       "      <td>TONIC PET 500ML</td>\n",
       "      <td>2021-12-13T00:00:00.000Z</td>\n",
       "      <td>484.0</td>\n",
       "      <td>VN7V</td>\n",
       "      <td>SHOP008</td>\n",
       "      <td>0.415584</td>\n",
       "      <td>0.019802</td>\n",
       "      <td>0.837037</td>\n",
       "      <td>Moderate</td>\n",
       "      <td>High</td>\n",
       "    </tr>\n",
       "    <tr>\n",
       "      <th>2</th>\n",
       "      <td>CREAM SODA 1L</td>\n",
       "      <td>2021-12-13T00:00:00.000Z</td>\n",
       "      <td>484.0</td>\n",
       "      <td>VN7V</td>\n",
       "      <td>SHOP008</td>\n",
       "      <td>0.389610</td>\n",
       "      <td>0.019802</td>\n",
       "      <td>0.837037</td>\n",
       "      <td>Moderate</td>\n",
       "      <td>High</td>\n",
       "    </tr>\n",
       "    <tr>\n",
       "      <th>3</th>\n",
       "      <td>GINGER BEER 1.5L</td>\n",
       "      <td>2021-12-10T00:00:00.000Z</td>\n",
       "      <td>1000053.0</td>\n",
       "      <td>VT9C</td>\n",
       "      <td>SHOP008</td>\n",
       "      <td>0.571429</td>\n",
       "      <td>0.009901</td>\n",
       "      <td>0.837037</td>\n",
       "      <td>Moderate</td>\n",
       "      <td>High</td>\n",
       "    </tr>\n",
       "    <tr>\n",
       "      <th>4</th>\n",
       "      <td>GINGER BEER 1.5L</td>\n",
       "      <td>2021-12-10T00:00:00.000Z</td>\n",
       "      <td>1000057.0</td>\n",
       "      <td>8QLS</td>\n",
       "      <td>SHOP008</td>\n",
       "      <td>0.571429</td>\n",
       "      <td>0.009901</td>\n",
       "      <td>0.837037</td>\n",
       "      <td>Moderate</td>\n",
       "      <td>High</td>\n",
       "    </tr>\n",
       "  </tbody>\n",
       "</table>\n",
       "</div>"
      ],
      "text/plain": [
       "     item_description          transaction_date invoice_id customer_id  \\\n",
       "0  ORANGE BARLEY 1.5L  2021-12-11T00:00:00.000Z      147.0        BGXA   \n",
       "1     TONIC PET 500ML  2021-12-13T00:00:00.000Z      484.0        VN7V   \n",
       "2       CREAM SODA 1L  2021-12-13T00:00:00.000Z      484.0        VN7V   \n",
       "3    GINGER BEER 1.5L  2021-12-10T00:00:00.000Z  1000053.0        VT9C   \n",
       "4    GINGER BEER 1.5L  2021-12-10T00:00:00.000Z  1000057.0        8QLS   \n",
       "\n",
       "   shop_id  item_price  quantity_sold  shop_area_sq_m shop_profile  \\\n",
       "0  SHOP008    0.571429       0.019802        0.837037     Moderate   \n",
       "1  SHOP008    0.415584       0.019802        0.837037     Moderate   \n",
       "2  SHOP008    0.389610       0.019802        0.837037     Moderate   \n",
       "3  SHOP008    0.571429       0.009901        0.837037     Moderate   \n",
       "4  SHOP008    0.571429       0.009901        0.837037     Moderate   \n",
       "\n",
       "  quantity_sold-binned  \n",
       "0                 High  \n",
       "1                 High  \n",
       "2                 High  \n",
       "3                 High  \n",
       "4                 High  "
      ]
     },
     "execution_count": 292,
     "metadata": {},
     "output_type": "execute_result"
    }
   ],
   "source": [
    "merged_df.head()"
   ]
  },
  {
   "cell_type": "markdown",
   "id": "4291f17d",
   "metadata": {},
   "source": [
    "#### Updating the 'Testing-data' file with shop prfile values from 'Binning'"
   ]
  },
  {
   "cell_type": "code",
   "execution_count": 252,
   "id": "3460b64d",
   "metadata": {},
   "outputs": [],
   "source": [
    "# Load the csv file\n",
    "df_testing = pd.read_csv(r'C:\\Users\\acer\\OneDrive - University of Moratuwa\\UOM\\Semester 5 - CA\\S5 - Data Wrangling DA3110\\Data Storm - 15.06.2023\\Tables\\Testing-data.csv')"
   ]
  },
  {
   "cell_type": "code",
   "execution_count": 254,
   "id": "d0be33e2",
   "metadata": {},
   "outputs": [
    {
     "data": {
      "text/html": [
       "<div>\n",
       "<style scoped>\n",
       "    .dataframe tbody tr th:only-of-type {\n",
       "        vertical-align: middle;\n",
       "    }\n",
       "\n",
       "    .dataframe tbody tr th {\n",
       "        vertical-align: top;\n",
       "    }\n",
       "\n",
       "    .dataframe thead th {\n",
       "        text-align: right;\n",
       "    }\n",
       "</style>\n",
       "<table border=\"1\" class=\"dataframe\">\n",
       "  <thead>\n",
       "    <tr style=\"text-align: right;\">\n",
       "      <th></th>\n",
       "      <th>shop_id</th>\n",
       "      <th>shop_profile</th>\n",
       "    </tr>\n",
       "  </thead>\n",
       "  <tbody>\n",
       "    <tr>\n",
       "      <th>0</th>\n",
       "      <td>SHOP046</td>\n",
       "      <td>NaN</td>\n",
       "    </tr>\n",
       "    <tr>\n",
       "      <th>1</th>\n",
       "      <td>SHOP024</td>\n",
       "      <td>NaN</td>\n",
       "    </tr>\n",
       "    <tr>\n",
       "      <th>2</th>\n",
       "      <td>SHOP023</td>\n",
       "      <td>NaN</td>\n",
       "    </tr>\n",
       "    <tr>\n",
       "      <th>3</th>\n",
       "      <td>SHOP097</td>\n",
       "      <td>NaN</td>\n",
       "    </tr>\n",
       "    <tr>\n",
       "      <th>4</th>\n",
       "      <td>SHOP044</td>\n",
       "      <td>NaN</td>\n",
       "    </tr>\n",
       "  </tbody>\n",
       "</table>\n",
       "</div>"
      ],
      "text/plain": [
       "   shop_id  shop_profile\n",
       "0  SHOP046           NaN\n",
       "1  SHOP024           NaN\n",
       "2  SHOP023           NaN\n",
       "3  SHOP097           NaN\n",
       "4  SHOP044           NaN"
      ]
     },
     "execution_count": 254,
     "metadata": {},
     "output_type": "execute_result"
    }
   ],
   "source": [
    "df_testing.head()"
   ]
  },
  {
   "cell_type": "code",
   "execution_count": 263,
   "id": "885bff9c",
   "metadata": {},
   "outputs": [],
   "source": [
    "# Make updates to the DataFrame\n",
    "df_testing = df_testing.assign(shop_profile=merged_df['quantity_sold-binned'])\n",
    "df_testing.drop('quantity_sold-binned', axis=1, inplace=True)"
   ]
  },
  {
   "cell_type": "code",
   "execution_count": 264,
   "id": "10814695",
   "metadata": {},
   "outputs": [
    {
     "data": {
      "text/html": [
       "<div>\n",
       "<style scoped>\n",
       "    .dataframe tbody tr th:only-of-type {\n",
       "        vertical-align: middle;\n",
       "    }\n",
       "\n",
       "    .dataframe tbody tr th {\n",
       "        vertical-align: top;\n",
       "    }\n",
       "\n",
       "    .dataframe thead th {\n",
       "        text-align: right;\n",
       "    }\n",
       "</style>\n",
       "<table border=\"1\" class=\"dataframe\">\n",
       "  <thead>\n",
       "    <tr style=\"text-align: right;\">\n",
       "      <th></th>\n",
       "      <th>shop_id</th>\n",
       "      <th>shop_profile</th>\n",
       "    </tr>\n",
       "  </thead>\n",
       "  <tbody>\n",
       "    <tr>\n",
       "      <th>0</th>\n",
       "      <td>SHOP046</td>\n",
       "      <td>High</td>\n",
       "    </tr>\n",
       "    <tr>\n",
       "      <th>1</th>\n",
       "      <td>SHOP024</td>\n",
       "      <td>High</td>\n",
       "    </tr>\n",
       "    <tr>\n",
       "      <th>2</th>\n",
       "      <td>SHOP023</td>\n",
       "      <td>High</td>\n",
       "    </tr>\n",
       "    <tr>\n",
       "      <th>3</th>\n",
       "      <td>SHOP097</td>\n",
       "      <td>High</td>\n",
       "    </tr>\n",
       "    <tr>\n",
       "      <th>4</th>\n",
       "      <td>SHOP044</td>\n",
       "      <td>High</td>\n",
       "    </tr>\n",
       "  </tbody>\n",
       "</table>\n",
       "</div>"
      ],
      "text/plain": [
       "   shop_id shop_profile\n",
       "0  SHOP046         High\n",
       "1  SHOP024         High\n",
       "2  SHOP023         High\n",
       "3  SHOP097         High\n",
       "4  SHOP044         High"
      ]
     },
     "execution_count": 264,
     "metadata": {},
     "output_type": "execute_result"
    }
   ],
   "source": [
    "df_testing.head()"
   ]
  },
  {
   "cell_type": "code",
   "execution_count": 265,
   "id": "443cc46d",
   "metadata": {},
   "outputs": [],
   "source": [
    "# Save the updated data frame to the 'Testing-data' file\n",
    "df_testing.to_csv('Testing-data.csv', index = True)"
   ]
  },
  {
   "cell_type": "markdown",
   "id": "8a49712c",
   "metadata": {},
   "source": [
    "### Dummy Variable/ Indicator Variables"
   ]
  },
  {
   "cell_type": "markdown",
   "id": "ed5956c7",
   "metadata": {},
   "source": [
    "Dummy variables are frequently used in regression analysis to assess changes in the value of the dependent variable in respone to different groups or to investigate nonlinear effects.\n",
    "\n",
    "In this merged data frame we could identify the changes in the preformance of stores in response to 'item price' and 'shop area'. To do the regression analysis with dummy variables, the 'item price' and 'shop area' are converted into classes. Then create two dummies to analyse the changes in the preformance of stores in response to these two variables."
   ]
  },
  {
   "cell_type": "markdown",
   "id": "eacac781",
   "metadata": {},
   "source": [
    "##### Converting 'item price' to a dummy variable"
   ]
  },
  {
   "cell_type": "code",
   "execution_count": 266,
   "id": "30027f8b",
   "metadata": {},
   "outputs": [
    {
     "data": {
      "text/plain": [
       "array([0.09090909, 0.39393939, 0.6969697 , 1.        ])"
      ]
     },
     "execution_count": 266,
     "metadata": {},
     "output_type": "execute_result"
    }
   ],
   "source": [
    "bins = np.linspace(min(merged_df['item_price']), max(merged_df['item_price']),4)\n",
    "bins"
   ]
  },
  {
   "cell_type": "code",
   "execution_count": 267,
   "id": "c32ea253",
   "metadata": {},
   "outputs": [],
   "source": [
    "group_names = ['High','Reasonable','Low']"
   ]
  },
  {
   "cell_type": "code",
   "execution_count": 268,
   "id": "727c8b15",
   "metadata": {},
   "outputs": [
    {
     "name": "stderr",
     "output_type": "stream",
     "text": [
      "C:\\Users\\acer\\AppData\\Local\\Temp\\ipykernel_3260\\561471884.py:2: SettingWithCopyWarning: \n",
      "A value is trying to be set on a copy of a slice from a DataFrame.\n",
      "Try using .loc[row_indexer,col_indexer] = value instead\n",
      "\n",
      "See the caveats in the documentation: https://pandas.pydata.org/pandas-docs/stable/user_guide/indexing.html#returning-a-view-versus-a-copy\n",
      "  merged_df['item_price-binned'] = pd.cut(merged_df['item_price'], bins, labels = group_names, include_lowest = True)\n"
     ]
    },
    {
     "data": {
      "text/html": [
       "<div>\n",
       "<style scoped>\n",
       "    .dataframe tbody tr th:only-of-type {\n",
       "        vertical-align: middle;\n",
       "    }\n",
       "\n",
       "    .dataframe tbody tr th {\n",
       "        vertical-align: top;\n",
       "    }\n",
       "\n",
       "    .dataframe thead th {\n",
       "        text-align: right;\n",
       "    }\n",
       "</style>\n",
       "<table border=\"1\" class=\"dataframe\">\n",
       "  <thead>\n",
       "    <tr style=\"text-align: right;\">\n",
       "      <th></th>\n",
       "      <th>item_price</th>\n",
       "      <th>item_price-binned</th>\n",
       "    </tr>\n",
       "  </thead>\n",
       "  <tbody>\n",
       "    <tr>\n",
       "      <th>0</th>\n",
       "      <td>0.571429</td>\n",
       "      <td>Reasonable</td>\n",
       "    </tr>\n",
       "    <tr>\n",
       "      <th>1</th>\n",
       "      <td>0.415584</td>\n",
       "      <td>Reasonable</td>\n",
       "    </tr>\n",
       "    <tr>\n",
       "      <th>2</th>\n",
       "      <td>0.389610</td>\n",
       "      <td>High</td>\n",
       "    </tr>\n",
       "    <tr>\n",
       "      <th>3</th>\n",
       "      <td>0.571429</td>\n",
       "      <td>Reasonable</td>\n",
       "    </tr>\n",
       "    <tr>\n",
       "      <th>4</th>\n",
       "      <td>0.571429</td>\n",
       "      <td>Reasonable</td>\n",
       "    </tr>\n",
       "  </tbody>\n",
       "</table>\n",
       "</div>"
      ],
      "text/plain": [
       "   item_price item_price-binned\n",
       "0    0.571429        Reasonable\n",
       "1    0.415584        Reasonable\n",
       "2    0.389610              High\n",
       "3    0.571429        Reasonable\n",
       "4    0.571429        Reasonable"
      ]
     },
     "execution_count": 268,
     "metadata": {},
     "output_type": "execute_result"
    }
   ],
   "source": [
    "# Converting the values into a class.\n",
    "merged_df['item_price-binned'] = pd.cut(merged_df['item_price'], bins, labels = group_names, include_lowest = True)\n",
    "merged_df[['item_price','item_price-binned']].head()"
   ]
  },
  {
   "cell_type": "code",
   "execution_count": 270,
   "id": "7dff5938",
   "metadata": {},
   "outputs": [
    {
     "data": {
      "text/html": [
       "<div>\n",
       "<style scoped>\n",
       "    .dataframe tbody tr th:only-of-type {\n",
       "        vertical-align: middle;\n",
       "    }\n",
       "\n",
       "    .dataframe tbody tr th {\n",
       "        vertical-align: top;\n",
       "    }\n",
       "\n",
       "    .dataframe thead th {\n",
       "        text-align: right;\n",
       "    }\n",
       "</style>\n",
       "<table border=\"1\" class=\"dataframe\">\n",
       "  <thead>\n",
       "    <tr style=\"text-align: right;\">\n",
       "      <th></th>\n",
       "      <th>High</th>\n",
       "      <th>Reasonable</th>\n",
       "      <th>Low</th>\n",
       "    </tr>\n",
       "  </thead>\n",
       "  <tbody>\n",
       "    <tr>\n",
       "      <th>0</th>\n",
       "      <td>0</td>\n",
       "      <td>1</td>\n",
       "      <td>0</td>\n",
       "    </tr>\n",
       "    <tr>\n",
       "      <th>1</th>\n",
       "      <td>0</td>\n",
       "      <td>1</td>\n",
       "      <td>0</td>\n",
       "    </tr>\n",
       "    <tr>\n",
       "      <th>2</th>\n",
       "      <td>1</td>\n",
       "      <td>0</td>\n",
       "      <td>0</td>\n",
       "    </tr>\n",
       "    <tr>\n",
       "      <th>3</th>\n",
       "      <td>0</td>\n",
       "      <td>1</td>\n",
       "      <td>0</td>\n",
       "    </tr>\n",
       "    <tr>\n",
       "      <th>4</th>\n",
       "      <td>0</td>\n",
       "      <td>1</td>\n",
       "      <td>0</td>\n",
       "    </tr>\n",
       "  </tbody>\n",
       "</table>\n",
       "</div>"
      ],
      "text/plain": [
       "   High  Reasonable  Low\n",
       "0     0           1    0\n",
       "1     0           1    0\n",
       "2     1           0    0\n",
       "3     0           1    0\n",
       "4     0           1    0"
      ]
     },
     "execution_count": 270,
     "metadata": {},
     "output_type": "execute_result"
    }
   ],
   "source": [
    "dummy_variable_price = pd.get_dummies(merged_df['item_price-binned'])\n",
    "dummy_variable_price.head()"
   ]
  },
  {
   "cell_type": "code",
   "execution_count": 271,
   "id": "c459bd53",
   "metadata": {},
   "outputs": [
    {
     "data": {
      "text/html": [
       "<div>\n",
       "<style scoped>\n",
       "    .dataframe tbody tr th:only-of-type {\n",
       "        vertical-align: middle;\n",
       "    }\n",
       "\n",
       "    .dataframe tbody tr th {\n",
       "        vertical-align: top;\n",
       "    }\n",
       "\n",
       "    .dataframe thead th {\n",
       "        text-align: right;\n",
       "    }\n",
       "</style>\n",
       "<table border=\"1\" class=\"dataframe\">\n",
       "  <thead>\n",
       "    <tr style=\"text-align: right;\">\n",
       "      <th></th>\n",
       "      <th>item_description</th>\n",
       "      <th>transaction_date</th>\n",
       "      <th>invoice_id</th>\n",
       "      <th>customer_id</th>\n",
       "      <th>shop_id</th>\n",
       "      <th>item_price</th>\n",
       "      <th>quantity_sold</th>\n",
       "      <th>shop_area_sq_m</th>\n",
       "      <th>shop_profile</th>\n",
       "      <th>quantity_sold-binned</th>\n",
       "      <th>item_price-binned</th>\n",
       "      <th>High</th>\n",
       "      <th>Reasonable</th>\n",
       "      <th>Low</th>\n",
       "    </tr>\n",
       "  </thead>\n",
       "  <tbody>\n",
       "    <tr>\n",
       "      <th>0</th>\n",
       "      <td>ORANGE BARLEY 1.5L</td>\n",
       "      <td>2021-12-11T00:00:00.000Z</td>\n",
       "      <td>147.0</td>\n",
       "      <td>BGXA</td>\n",
       "      <td>SHOP008</td>\n",
       "      <td>0.571429</td>\n",
       "      <td>0.019802</td>\n",
       "      <td>0.837037</td>\n",
       "      <td>Moderate</td>\n",
       "      <td>High</td>\n",
       "      <td>Reasonable</td>\n",
       "      <td>0</td>\n",
       "      <td>1</td>\n",
       "      <td>0</td>\n",
       "    </tr>\n",
       "    <tr>\n",
       "      <th>1</th>\n",
       "      <td>TONIC PET 500ML</td>\n",
       "      <td>2021-12-13T00:00:00.000Z</td>\n",
       "      <td>484.0</td>\n",
       "      <td>VN7V</td>\n",
       "      <td>SHOP008</td>\n",
       "      <td>0.415584</td>\n",
       "      <td>0.019802</td>\n",
       "      <td>0.837037</td>\n",
       "      <td>Moderate</td>\n",
       "      <td>High</td>\n",
       "      <td>Reasonable</td>\n",
       "      <td>0</td>\n",
       "      <td>1</td>\n",
       "      <td>0</td>\n",
       "    </tr>\n",
       "    <tr>\n",
       "      <th>2</th>\n",
       "      <td>CREAM SODA 1L</td>\n",
       "      <td>2021-12-13T00:00:00.000Z</td>\n",
       "      <td>484.0</td>\n",
       "      <td>VN7V</td>\n",
       "      <td>SHOP008</td>\n",
       "      <td>0.389610</td>\n",
       "      <td>0.019802</td>\n",
       "      <td>0.837037</td>\n",
       "      <td>Moderate</td>\n",
       "      <td>High</td>\n",
       "      <td>High</td>\n",
       "      <td>1</td>\n",
       "      <td>0</td>\n",
       "      <td>0</td>\n",
       "    </tr>\n",
       "    <tr>\n",
       "      <th>3</th>\n",
       "      <td>GINGER BEER 1.5L</td>\n",
       "      <td>2021-12-10T00:00:00.000Z</td>\n",
       "      <td>1000053.0</td>\n",
       "      <td>VT9C</td>\n",
       "      <td>SHOP008</td>\n",
       "      <td>0.571429</td>\n",
       "      <td>0.009901</td>\n",
       "      <td>0.837037</td>\n",
       "      <td>Moderate</td>\n",
       "      <td>High</td>\n",
       "      <td>Reasonable</td>\n",
       "      <td>0</td>\n",
       "      <td>1</td>\n",
       "      <td>0</td>\n",
       "    </tr>\n",
       "    <tr>\n",
       "      <th>4</th>\n",
       "      <td>GINGER BEER 1.5L</td>\n",
       "      <td>2021-12-10T00:00:00.000Z</td>\n",
       "      <td>1000057.0</td>\n",
       "      <td>8QLS</td>\n",
       "      <td>SHOP008</td>\n",
       "      <td>0.571429</td>\n",
       "      <td>0.009901</td>\n",
       "      <td>0.837037</td>\n",
       "      <td>Moderate</td>\n",
       "      <td>High</td>\n",
       "      <td>Reasonable</td>\n",
       "      <td>0</td>\n",
       "      <td>1</td>\n",
       "      <td>0</td>\n",
       "    </tr>\n",
       "  </tbody>\n",
       "</table>\n",
       "</div>"
      ],
      "text/plain": [
       "     item_description          transaction_date invoice_id customer_id  \\\n",
       "0  ORANGE BARLEY 1.5L  2021-12-11T00:00:00.000Z      147.0        BGXA   \n",
       "1     TONIC PET 500ML  2021-12-13T00:00:00.000Z      484.0        VN7V   \n",
       "2       CREAM SODA 1L  2021-12-13T00:00:00.000Z      484.0        VN7V   \n",
       "3    GINGER BEER 1.5L  2021-12-10T00:00:00.000Z  1000053.0        VT9C   \n",
       "4    GINGER BEER 1.5L  2021-12-10T00:00:00.000Z  1000057.0        8QLS   \n",
       "\n",
       "   shop_id  item_price  quantity_sold  shop_area_sq_m shop_profile  \\\n",
       "0  SHOP008    0.571429       0.019802        0.837037     Moderate   \n",
       "1  SHOP008    0.415584       0.019802        0.837037     Moderate   \n",
       "2  SHOP008    0.389610       0.019802        0.837037     Moderate   \n",
       "3  SHOP008    0.571429       0.009901        0.837037     Moderate   \n",
       "4  SHOP008    0.571429       0.009901        0.837037     Moderate   \n",
       "\n",
       "  quantity_sold-binned item_price-binned  High  Reasonable  Low  \n",
       "0                 High        Reasonable     0           1    0  \n",
       "1                 High        Reasonable     0           1    0  \n",
       "2                 High              High     1           0    0  \n",
       "3                 High        Reasonable     0           1    0  \n",
       "4                 High        Reasonable     0           1    0  "
      ]
     },
     "execution_count": 271,
     "metadata": {},
     "output_type": "execute_result"
    }
   ],
   "source": [
    "# Merge data frame \"merged_df\" and \"dummy_variable_price\"\n",
    "merged_df = pd.concat([merged_df, dummy_variable_price], axis = 1)\n",
    "merged_df.head()"
   ]
  },
  {
   "cell_type": "code",
   "execution_count": 273,
   "id": "c0ae4f2d",
   "metadata": {},
   "outputs": [
    {
     "data": {
      "text/html": [
       "<div>\n",
       "<style scoped>\n",
       "    .dataframe tbody tr th:only-of-type {\n",
       "        vertical-align: middle;\n",
       "    }\n",
       "\n",
       "    .dataframe tbody tr th {\n",
       "        vertical-align: top;\n",
       "    }\n",
       "\n",
       "    .dataframe thead th {\n",
       "        text-align: right;\n",
       "    }\n",
       "</style>\n",
       "<table border=\"1\" class=\"dataframe\">\n",
       "  <thead>\n",
       "    <tr style=\"text-align: right;\">\n",
       "      <th></th>\n",
       "      <th>item_description</th>\n",
       "      <th>transaction_date</th>\n",
       "      <th>invoice_id</th>\n",
       "      <th>customer_id</th>\n",
       "      <th>shop_id</th>\n",
       "      <th>item_price</th>\n",
       "      <th>quantity_sold</th>\n",
       "      <th>shop_area_sq_m</th>\n",
       "      <th>shop_profile</th>\n",
       "      <th>quantity_sold-binned</th>\n",
       "      <th>High</th>\n",
       "      <th>Reasonable</th>\n",
       "      <th>Low</th>\n",
       "    </tr>\n",
       "  </thead>\n",
       "  <tbody>\n",
       "    <tr>\n",
       "      <th>0</th>\n",
       "      <td>ORANGE BARLEY 1.5L</td>\n",
       "      <td>2021-12-11T00:00:00.000Z</td>\n",
       "      <td>147.0</td>\n",
       "      <td>BGXA</td>\n",
       "      <td>SHOP008</td>\n",
       "      <td>0.571429</td>\n",
       "      <td>0.019802</td>\n",
       "      <td>0.837037</td>\n",
       "      <td>Moderate</td>\n",
       "      <td>High</td>\n",
       "      <td>0</td>\n",
       "      <td>1</td>\n",
       "      <td>0</td>\n",
       "    </tr>\n",
       "    <tr>\n",
       "      <th>1</th>\n",
       "      <td>TONIC PET 500ML</td>\n",
       "      <td>2021-12-13T00:00:00.000Z</td>\n",
       "      <td>484.0</td>\n",
       "      <td>VN7V</td>\n",
       "      <td>SHOP008</td>\n",
       "      <td>0.415584</td>\n",
       "      <td>0.019802</td>\n",
       "      <td>0.837037</td>\n",
       "      <td>Moderate</td>\n",
       "      <td>High</td>\n",
       "      <td>0</td>\n",
       "      <td>1</td>\n",
       "      <td>0</td>\n",
       "    </tr>\n",
       "    <tr>\n",
       "      <th>2</th>\n",
       "      <td>CREAM SODA 1L</td>\n",
       "      <td>2021-12-13T00:00:00.000Z</td>\n",
       "      <td>484.0</td>\n",
       "      <td>VN7V</td>\n",
       "      <td>SHOP008</td>\n",
       "      <td>0.389610</td>\n",
       "      <td>0.019802</td>\n",
       "      <td>0.837037</td>\n",
       "      <td>Moderate</td>\n",
       "      <td>High</td>\n",
       "      <td>1</td>\n",
       "      <td>0</td>\n",
       "      <td>0</td>\n",
       "    </tr>\n",
       "    <tr>\n",
       "      <th>3</th>\n",
       "      <td>GINGER BEER 1.5L</td>\n",
       "      <td>2021-12-10T00:00:00.000Z</td>\n",
       "      <td>1000053.0</td>\n",
       "      <td>VT9C</td>\n",
       "      <td>SHOP008</td>\n",
       "      <td>0.571429</td>\n",
       "      <td>0.009901</td>\n",
       "      <td>0.837037</td>\n",
       "      <td>Moderate</td>\n",
       "      <td>High</td>\n",
       "      <td>0</td>\n",
       "      <td>1</td>\n",
       "      <td>0</td>\n",
       "    </tr>\n",
       "    <tr>\n",
       "      <th>4</th>\n",
       "      <td>GINGER BEER 1.5L</td>\n",
       "      <td>2021-12-10T00:00:00.000Z</td>\n",
       "      <td>1000057.0</td>\n",
       "      <td>8QLS</td>\n",
       "      <td>SHOP008</td>\n",
       "      <td>0.571429</td>\n",
       "      <td>0.009901</td>\n",
       "      <td>0.837037</td>\n",
       "      <td>Moderate</td>\n",
       "      <td>High</td>\n",
       "      <td>0</td>\n",
       "      <td>1</td>\n",
       "      <td>0</td>\n",
       "    </tr>\n",
       "  </tbody>\n",
       "</table>\n",
       "</div>"
      ],
      "text/plain": [
       "     item_description          transaction_date invoice_id customer_id  \\\n",
       "0  ORANGE BARLEY 1.5L  2021-12-11T00:00:00.000Z      147.0        BGXA   \n",
       "1     TONIC PET 500ML  2021-12-13T00:00:00.000Z      484.0        VN7V   \n",
       "2       CREAM SODA 1L  2021-12-13T00:00:00.000Z      484.0        VN7V   \n",
       "3    GINGER BEER 1.5L  2021-12-10T00:00:00.000Z  1000053.0        VT9C   \n",
       "4    GINGER BEER 1.5L  2021-12-10T00:00:00.000Z  1000057.0        8QLS   \n",
       "\n",
       "   shop_id  item_price  quantity_sold  shop_area_sq_m shop_profile  \\\n",
       "0  SHOP008    0.571429       0.019802        0.837037     Moderate   \n",
       "1  SHOP008    0.415584       0.019802        0.837037     Moderate   \n",
       "2  SHOP008    0.389610       0.019802        0.837037     Moderate   \n",
       "3  SHOP008    0.571429       0.009901        0.837037     Moderate   \n",
       "4  SHOP008    0.571429       0.009901        0.837037     Moderate   \n",
       "\n",
       "  quantity_sold-binned  High  Reasonable  Low  \n",
       "0                 High     0           1    0  \n",
       "1                 High     0           1    0  \n",
       "2                 High     1           0    0  \n",
       "3                 High     0           1    0  \n",
       "4                 High     0           1    0  "
      ]
     },
     "execution_count": 273,
     "metadata": {},
     "output_type": "execute_result"
    }
   ],
   "source": [
    "# Drop original column \"item price\" from \"merged_df\"\n",
    "merged_df.drop('item_price-binned', axis = 1, inplace = True)\n",
    "merged_df.head()  "
   ]
  },
  {
   "cell_type": "code",
   "execution_count": 274,
   "id": "e33e1f17",
   "metadata": {},
   "outputs": [
    {
     "data": {
      "text/html": [
       "<div>\n",
       "<style scoped>\n",
       "    .dataframe tbody tr th:only-of-type {\n",
       "        vertical-align: middle;\n",
       "    }\n",
       "\n",
       "    .dataframe tbody tr th {\n",
       "        vertical-align: top;\n",
       "    }\n",
       "\n",
       "    .dataframe thead th {\n",
       "        text-align: right;\n",
       "    }\n",
       "</style>\n",
       "<table border=\"1\" class=\"dataframe\">\n",
       "  <thead>\n",
       "    <tr style=\"text-align: right;\">\n",
       "      <th></th>\n",
       "      <th>item_price</th>\n",
       "      <th>quantity_sold</th>\n",
       "      <th>shop_area_sq_m</th>\n",
       "      <th>High</th>\n",
       "      <th>Reasonable</th>\n",
       "      <th>Low</th>\n",
       "    </tr>\n",
       "  </thead>\n",
       "  <tbody>\n",
       "    <tr>\n",
       "      <th>count</th>\n",
       "      <td>402301.000000</td>\n",
       "      <td>402301.000000</td>\n",
       "      <td>402301.000000</td>\n",
       "      <td>402301.000000</td>\n",
       "      <td>402301.000000</td>\n",
       "      <td>402301.000000</td>\n",
       "    </tr>\n",
       "    <tr>\n",
       "      <th>mean</th>\n",
       "      <td>0.464439</td>\n",
       "      <td>0.018581</td>\n",
       "      <td>0.752154</td>\n",
       "      <td>0.380474</td>\n",
       "      <td>0.517329</td>\n",
       "      <td>0.102197</td>\n",
       "    </tr>\n",
       "    <tr>\n",
       "      <th>std</th>\n",
       "      <td>0.182959</td>\n",
       "      <td>0.015547</td>\n",
       "      <td>0.121117</td>\n",
       "      <td>0.485504</td>\n",
       "      <td>0.499700</td>\n",
       "      <td>0.302908</td>\n",
       "    </tr>\n",
       "    <tr>\n",
       "      <th>min</th>\n",
       "      <td>0.090909</td>\n",
       "      <td>-0.009901</td>\n",
       "      <td>0.367901</td>\n",
       "      <td>0.000000</td>\n",
       "      <td>0.000000</td>\n",
       "      <td>0.000000</td>\n",
       "    </tr>\n",
       "    <tr>\n",
       "      <th>25%</th>\n",
       "      <td>0.285714</td>\n",
       "      <td>0.009901</td>\n",
       "      <td>0.697531</td>\n",
       "      <td>0.000000</td>\n",
       "      <td>0.000000</td>\n",
       "      <td>0.000000</td>\n",
       "    </tr>\n",
       "    <tr>\n",
       "      <th>50%</th>\n",
       "      <td>0.571429</td>\n",
       "      <td>0.019802</td>\n",
       "      <td>0.761728</td>\n",
       "      <td>0.000000</td>\n",
       "      <td>1.000000</td>\n",
       "      <td>0.000000</td>\n",
       "    </tr>\n",
       "    <tr>\n",
       "      <th>75%</th>\n",
       "      <td>0.571429</td>\n",
       "      <td>0.019802</td>\n",
       "      <td>0.834568</td>\n",
       "      <td>1.000000</td>\n",
       "      <td>1.000000</td>\n",
       "      <td>0.000000</td>\n",
       "    </tr>\n",
       "    <tr>\n",
       "      <th>max</th>\n",
       "      <td>1.000000</td>\n",
       "      <td>1.000000</td>\n",
       "      <td>1.000000</td>\n",
       "      <td>1.000000</td>\n",
       "      <td>1.000000</td>\n",
       "      <td>1.000000</td>\n",
       "    </tr>\n",
       "  </tbody>\n",
       "</table>\n",
       "</div>"
      ],
      "text/plain": [
       "          item_price  quantity_sold  shop_area_sq_m           High  \\\n",
       "count  402301.000000  402301.000000   402301.000000  402301.000000   \n",
       "mean        0.464439       0.018581        0.752154       0.380474   \n",
       "std         0.182959       0.015547        0.121117       0.485504   \n",
       "min         0.090909      -0.009901        0.367901       0.000000   \n",
       "25%         0.285714       0.009901        0.697531       0.000000   \n",
       "50%         0.571429       0.019802        0.761728       0.000000   \n",
       "75%         0.571429       0.019802        0.834568       1.000000   \n",
       "max         1.000000       1.000000        1.000000       1.000000   \n",
       "\n",
       "          Reasonable            Low  \n",
       "count  402301.000000  402301.000000  \n",
       "mean        0.517329       0.102197  \n",
       "std         0.499700       0.302908  \n",
       "min         0.000000       0.000000  \n",
       "25%         0.000000       0.000000  \n",
       "50%         1.000000       0.000000  \n",
       "75%         1.000000       0.000000  \n",
       "max         1.000000       1.000000  "
      ]
     },
     "execution_count": 274,
     "metadata": {},
     "output_type": "execute_result"
    }
   ],
   "source": [
    "merged_df.describe()"
   ]
  },
  {
   "cell_type": "markdown",
   "id": "61bd4426",
   "metadata": {},
   "source": [
    "Based on the above statistical measures with dummy variable: item price, the corporation could make data-driven decisions on pricing, resource allocation, identifying profitable items, optimize item range decisions, etc. "
   ]
  },
  {
   "cell_type": "markdown",
   "id": "08cd6a6a",
   "metadata": {},
   "source": [
    "##### Converting 'shop_area' to a dummy variable"
   ]
  },
  {
   "cell_type": "code",
   "execution_count": 293,
   "id": "25dc4223",
   "metadata": {},
   "outputs": [
    {
     "data": {
      "text/plain": [
       "array([0.36790123, 0.57860082, 0.78930041, 1.        ])"
      ]
     },
     "execution_count": 293,
     "metadata": {},
     "output_type": "execute_result"
    }
   ],
   "source": [
    "bins = np.linspace(min(merged_df['shop_area_sq_m']), max(merged_df['shop_area_sq_m']),4)\n",
    "bins"
   ]
  },
  {
   "cell_type": "code",
   "execution_count": 294,
   "id": "d50688ba",
   "metadata": {},
   "outputs": [],
   "source": [
    "group_names = ['High space','Moderate space','Low space']"
   ]
  },
  {
   "cell_type": "code",
   "execution_count": 295,
   "id": "e9d29647",
   "metadata": {},
   "outputs": [
    {
     "name": "stderr",
     "output_type": "stream",
     "text": [
      "C:\\Users\\acer\\AppData\\Local\\Temp\\ipykernel_3260\\4242138117.py:2: SettingWithCopyWarning: \n",
      "A value is trying to be set on a copy of a slice from a DataFrame.\n",
      "Try using .loc[row_indexer,col_indexer] = value instead\n",
      "\n",
      "See the caveats in the documentation: https://pandas.pydata.org/pandas-docs/stable/user_guide/indexing.html#returning-a-view-versus-a-copy\n",
      "  merged_df['shop_area_sq_m-binned'] = pd.cut(merged_df['shop_area_sq_m'], bins, labels = group_names, include_lowest = True)\n"
     ]
    },
    {
     "data": {
      "text/html": [
       "<div>\n",
       "<style scoped>\n",
       "    .dataframe tbody tr th:only-of-type {\n",
       "        vertical-align: middle;\n",
       "    }\n",
       "\n",
       "    .dataframe tbody tr th {\n",
       "        vertical-align: top;\n",
       "    }\n",
       "\n",
       "    .dataframe thead th {\n",
       "        text-align: right;\n",
       "    }\n",
       "</style>\n",
       "<table border=\"1\" class=\"dataframe\">\n",
       "  <thead>\n",
       "    <tr style=\"text-align: right;\">\n",
       "      <th></th>\n",
       "      <th>shop_area_sq_m</th>\n",
       "      <th>shop_area_sq_m-binned</th>\n",
       "    </tr>\n",
       "  </thead>\n",
       "  <tbody>\n",
       "    <tr>\n",
       "      <th>0</th>\n",
       "      <td>0.837037</td>\n",
       "      <td>Low space</td>\n",
       "    </tr>\n",
       "    <tr>\n",
       "      <th>1</th>\n",
       "      <td>0.837037</td>\n",
       "      <td>Low space</td>\n",
       "    </tr>\n",
       "    <tr>\n",
       "      <th>2</th>\n",
       "      <td>0.837037</td>\n",
       "      <td>Low space</td>\n",
       "    </tr>\n",
       "    <tr>\n",
       "      <th>3</th>\n",
       "      <td>0.837037</td>\n",
       "      <td>Low space</td>\n",
       "    </tr>\n",
       "    <tr>\n",
       "      <th>4</th>\n",
       "      <td>0.837037</td>\n",
       "      <td>Low space</td>\n",
       "    </tr>\n",
       "  </tbody>\n",
       "</table>\n",
       "</div>"
      ],
      "text/plain": [
       "   shop_area_sq_m shop_area_sq_m-binned\n",
       "0        0.837037             Low space\n",
       "1        0.837037             Low space\n",
       "2        0.837037             Low space\n",
       "3        0.837037             Low space\n",
       "4        0.837037             Low space"
      ]
     },
     "execution_count": 295,
     "metadata": {},
     "output_type": "execute_result"
    }
   ],
   "source": [
    "# Converting the values into a class.\n",
    "merged_df['shop_area_sq_m-binned'] = pd.cut(merged_df['shop_area_sq_m'], bins, labels = group_names, include_lowest = True)\n",
    "merged_df[['shop_area_sq_m','shop_area_sq_m-binned']].head()"
   ]
  },
  {
   "cell_type": "code",
   "execution_count": 296,
   "id": "83a4fe1b",
   "metadata": {},
   "outputs": [
    {
     "data": {
      "text/html": [
       "<div>\n",
       "<style scoped>\n",
       "    .dataframe tbody tr th:only-of-type {\n",
       "        vertical-align: middle;\n",
       "    }\n",
       "\n",
       "    .dataframe tbody tr th {\n",
       "        vertical-align: top;\n",
       "    }\n",
       "\n",
       "    .dataframe thead th {\n",
       "        text-align: right;\n",
       "    }\n",
       "</style>\n",
       "<table border=\"1\" class=\"dataframe\">\n",
       "  <thead>\n",
       "    <tr style=\"text-align: right;\">\n",
       "      <th></th>\n",
       "      <th>High space</th>\n",
       "      <th>Moderate space</th>\n",
       "      <th>Low space</th>\n",
       "    </tr>\n",
       "  </thead>\n",
       "  <tbody>\n",
       "    <tr>\n",
       "      <th>0</th>\n",
       "      <td>0</td>\n",
       "      <td>0</td>\n",
       "      <td>1</td>\n",
       "    </tr>\n",
       "    <tr>\n",
       "      <th>1</th>\n",
       "      <td>0</td>\n",
       "      <td>0</td>\n",
       "      <td>1</td>\n",
       "    </tr>\n",
       "    <tr>\n",
       "      <th>2</th>\n",
       "      <td>0</td>\n",
       "      <td>0</td>\n",
       "      <td>1</td>\n",
       "    </tr>\n",
       "    <tr>\n",
       "      <th>3</th>\n",
       "      <td>0</td>\n",
       "      <td>0</td>\n",
       "      <td>1</td>\n",
       "    </tr>\n",
       "    <tr>\n",
       "      <th>4</th>\n",
       "      <td>0</td>\n",
       "      <td>0</td>\n",
       "      <td>1</td>\n",
       "    </tr>\n",
       "  </tbody>\n",
       "</table>\n",
       "</div>"
      ],
      "text/plain": [
       "   High space  Moderate space  Low space\n",
       "0           0               0          1\n",
       "1           0               0          1\n",
       "2           0               0          1\n",
       "3           0               0          1\n",
       "4           0               0          1"
      ]
     },
     "execution_count": 296,
     "metadata": {},
     "output_type": "execute_result"
    }
   ],
   "source": [
    "dummy_variable_area = pd.get_dummies(merged_df['shop_area_sq_m-binned'])\n",
    "dummy_variable_area.head()"
   ]
  },
  {
   "cell_type": "code",
   "execution_count": 297,
   "id": "e3615178",
   "metadata": {},
   "outputs": [
    {
     "data": {
      "text/html": [
       "<div>\n",
       "<style scoped>\n",
       "    .dataframe tbody tr th:only-of-type {\n",
       "        vertical-align: middle;\n",
       "    }\n",
       "\n",
       "    .dataframe tbody tr th {\n",
       "        vertical-align: top;\n",
       "    }\n",
       "\n",
       "    .dataframe thead th {\n",
       "        text-align: right;\n",
       "    }\n",
       "</style>\n",
       "<table border=\"1\" class=\"dataframe\">\n",
       "  <thead>\n",
       "    <tr style=\"text-align: right;\">\n",
       "      <th></th>\n",
       "      <th>item_description</th>\n",
       "      <th>transaction_date</th>\n",
       "      <th>invoice_id</th>\n",
       "      <th>customer_id</th>\n",
       "      <th>shop_id</th>\n",
       "      <th>item_price</th>\n",
       "      <th>quantity_sold</th>\n",
       "      <th>shop_area_sq_m</th>\n",
       "      <th>shop_profile</th>\n",
       "      <th>quantity_sold-binned</th>\n",
       "      <th>shop_area_sq_m-binned</th>\n",
       "      <th>High space</th>\n",
       "      <th>Moderate space</th>\n",
       "      <th>Low space</th>\n",
       "    </tr>\n",
       "  </thead>\n",
       "  <tbody>\n",
       "    <tr>\n",
       "      <th>0</th>\n",
       "      <td>ORANGE BARLEY 1.5L</td>\n",
       "      <td>2021-12-11T00:00:00.000Z</td>\n",
       "      <td>147.0</td>\n",
       "      <td>BGXA</td>\n",
       "      <td>SHOP008</td>\n",
       "      <td>0.571429</td>\n",
       "      <td>0.019802</td>\n",
       "      <td>0.837037</td>\n",
       "      <td>Moderate</td>\n",
       "      <td>High</td>\n",
       "      <td>Low space</td>\n",
       "      <td>0</td>\n",
       "      <td>0</td>\n",
       "      <td>1</td>\n",
       "    </tr>\n",
       "    <tr>\n",
       "      <th>1</th>\n",
       "      <td>TONIC PET 500ML</td>\n",
       "      <td>2021-12-13T00:00:00.000Z</td>\n",
       "      <td>484.0</td>\n",
       "      <td>VN7V</td>\n",
       "      <td>SHOP008</td>\n",
       "      <td>0.415584</td>\n",
       "      <td>0.019802</td>\n",
       "      <td>0.837037</td>\n",
       "      <td>Moderate</td>\n",
       "      <td>High</td>\n",
       "      <td>Low space</td>\n",
       "      <td>0</td>\n",
       "      <td>0</td>\n",
       "      <td>1</td>\n",
       "    </tr>\n",
       "    <tr>\n",
       "      <th>2</th>\n",
       "      <td>CREAM SODA 1L</td>\n",
       "      <td>2021-12-13T00:00:00.000Z</td>\n",
       "      <td>484.0</td>\n",
       "      <td>VN7V</td>\n",
       "      <td>SHOP008</td>\n",
       "      <td>0.389610</td>\n",
       "      <td>0.019802</td>\n",
       "      <td>0.837037</td>\n",
       "      <td>Moderate</td>\n",
       "      <td>High</td>\n",
       "      <td>Low space</td>\n",
       "      <td>0</td>\n",
       "      <td>0</td>\n",
       "      <td>1</td>\n",
       "    </tr>\n",
       "    <tr>\n",
       "      <th>3</th>\n",
       "      <td>GINGER BEER 1.5L</td>\n",
       "      <td>2021-12-10T00:00:00.000Z</td>\n",
       "      <td>1000053.0</td>\n",
       "      <td>VT9C</td>\n",
       "      <td>SHOP008</td>\n",
       "      <td>0.571429</td>\n",
       "      <td>0.009901</td>\n",
       "      <td>0.837037</td>\n",
       "      <td>Moderate</td>\n",
       "      <td>High</td>\n",
       "      <td>Low space</td>\n",
       "      <td>0</td>\n",
       "      <td>0</td>\n",
       "      <td>1</td>\n",
       "    </tr>\n",
       "    <tr>\n",
       "      <th>4</th>\n",
       "      <td>GINGER BEER 1.5L</td>\n",
       "      <td>2021-12-10T00:00:00.000Z</td>\n",
       "      <td>1000057.0</td>\n",
       "      <td>8QLS</td>\n",
       "      <td>SHOP008</td>\n",
       "      <td>0.571429</td>\n",
       "      <td>0.009901</td>\n",
       "      <td>0.837037</td>\n",
       "      <td>Moderate</td>\n",
       "      <td>High</td>\n",
       "      <td>Low space</td>\n",
       "      <td>0</td>\n",
       "      <td>0</td>\n",
       "      <td>1</td>\n",
       "    </tr>\n",
       "  </tbody>\n",
       "</table>\n",
       "</div>"
      ],
      "text/plain": [
       "     item_description          transaction_date invoice_id customer_id  \\\n",
       "0  ORANGE BARLEY 1.5L  2021-12-11T00:00:00.000Z      147.0        BGXA   \n",
       "1     TONIC PET 500ML  2021-12-13T00:00:00.000Z      484.0        VN7V   \n",
       "2       CREAM SODA 1L  2021-12-13T00:00:00.000Z      484.0        VN7V   \n",
       "3    GINGER BEER 1.5L  2021-12-10T00:00:00.000Z  1000053.0        VT9C   \n",
       "4    GINGER BEER 1.5L  2021-12-10T00:00:00.000Z  1000057.0        8QLS   \n",
       "\n",
       "   shop_id  item_price  quantity_sold  shop_area_sq_m shop_profile  \\\n",
       "0  SHOP008    0.571429       0.019802        0.837037     Moderate   \n",
       "1  SHOP008    0.415584       0.019802        0.837037     Moderate   \n",
       "2  SHOP008    0.389610       0.019802        0.837037     Moderate   \n",
       "3  SHOP008    0.571429       0.009901        0.837037     Moderate   \n",
       "4  SHOP008    0.571429       0.009901        0.837037     Moderate   \n",
       "\n",
       "  quantity_sold-binned shop_area_sq_m-binned  High space  Moderate space  \\\n",
       "0                 High             Low space           0               0   \n",
       "1                 High             Low space           0               0   \n",
       "2                 High             Low space           0               0   \n",
       "3                 High             Low space           0               0   \n",
       "4                 High             Low space           0               0   \n",
       "\n",
       "   Low space  \n",
       "0          1  \n",
       "1          1  \n",
       "2          1  \n",
       "3          1  \n",
       "4          1  "
      ]
     },
     "execution_count": 297,
     "metadata": {},
     "output_type": "execute_result"
    }
   ],
   "source": [
    "# Merge data frame \"merged_df\" and \"dummy_variable_area\"\n",
    "merged_df = pd.concat([merged_df, dummy_variable_area], axis = 1)\n",
    "merged_df.head()"
   ]
  },
  {
   "cell_type": "code",
   "execution_count": 298,
   "id": "dc300ad7",
   "metadata": {},
   "outputs": [
    {
     "data": {
      "text/html": [
       "<div>\n",
       "<style scoped>\n",
       "    .dataframe tbody tr th:only-of-type {\n",
       "        vertical-align: middle;\n",
       "    }\n",
       "\n",
       "    .dataframe tbody tr th {\n",
       "        vertical-align: top;\n",
       "    }\n",
       "\n",
       "    .dataframe thead th {\n",
       "        text-align: right;\n",
       "    }\n",
       "</style>\n",
       "<table border=\"1\" class=\"dataframe\">\n",
       "  <thead>\n",
       "    <tr style=\"text-align: right;\">\n",
       "      <th></th>\n",
       "      <th>item_description</th>\n",
       "      <th>transaction_date</th>\n",
       "      <th>invoice_id</th>\n",
       "      <th>customer_id</th>\n",
       "      <th>shop_id</th>\n",
       "      <th>item_price</th>\n",
       "      <th>quantity_sold</th>\n",
       "      <th>shop_area_sq_m</th>\n",
       "      <th>shop_profile</th>\n",
       "      <th>quantity_sold-binned</th>\n",
       "      <th>High space</th>\n",
       "      <th>Moderate space</th>\n",
       "      <th>Low space</th>\n",
       "    </tr>\n",
       "  </thead>\n",
       "  <tbody>\n",
       "    <tr>\n",
       "      <th>0</th>\n",
       "      <td>ORANGE BARLEY 1.5L</td>\n",
       "      <td>2021-12-11T00:00:00.000Z</td>\n",
       "      <td>147.0</td>\n",
       "      <td>BGXA</td>\n",
       "      <td>SHOP008</td>\n",
       "      <td>0.571429</td>\n",
       "      <td>0.019802</td>\n",
       "      <td>0.837037</td>\n",
       "      <td>Moderate</td>\n",
       "      <td>High</td>\n",
       "      <td>0</td>\n",
       "      <td>0</td>\n",
       "      <td>1</td>\n",
       "    </tr>\n",
       "    <tr>\n",
       "      <th>1</th>\n",
       "      <td>TONIC PET 500ML</td>\n",
       "      <td>2021-12-13T00:00:00.000Z</td>\n",
       "      <td>484.0</td>\n",
       "      <td>VN7V</td>\n",
       "      <td>SHOP008</td>\n",
       "      <td>0.415584</td>\n",
       "      <td>0.019802</td>\n",
       "      <td>0.837037</td>\n",
       "      <td>Moderate</td>\n",
       "      <td>High</td>\n",
       "      <td>0</td>\n",
       "      <td>0</td>\n",
       "      <td>1</td>\n",
       "    </tr>\n",
       "    <tr>\n",
       "      <th>2</th>\n",
       "      <td>CREAM SODA 1L</td>\n",
       "      <td>2021-12-13T00:00:00.000Z</td>\n",
       "      <td>484.0</td>\n",
       "      <td>VN7V</td>\n",
       "      <td>SHOP008</td>\n",
       "      <td>0.389610</td>\n",
       "      <td>0.019802</td>\n",
       "      <td>0.837037</td>\n",
       "      <td>Moderate</td>\n",
       "      <td>High</td>\n",
       "      <td>0</td>\n",
       "      <td>0</td>\n",
       "      <td>1</td>\n",
       "    </tr>\n",
       "    <tr>\n",
       "      <th>3</th>\n",
       "      <td>GINGER BEER 1.5L</td>\n",
       "      <td>2021-12-10T00:00:00.000Z</td>\n",
       "      <td>1000053.0</td>\n",
       "      <td>VT9C</td>\n",
       "      <td>SHOP008</td>\n",
       "      <td>0.571429</td>\n",
       "      <td>0.009901</td>\n",
       "      <td>0.837037</td>\n",
       "      <td>Moderate</td>\n",
       "      <td>High</td>\n",
       "      <td>0</td>\n",
       "      <td>0</td>\n",
       "      <td>1</td>\n",
       "    </tr>\n",
       "    <tr>\n",
       "      <th>4</th>\n",
       "      <td>GINGER BEER 1.5L</td>\n",
       "      <td>2021-12-10T00:00:00.000Z</td>\n",
       "      <td>1000057.0</td>\n",
       "      <td>8QLS</td>\n",
       "      <td>SHOP008</td>\n",
       "      <td>0.571429</td>\n",
       "      <td>0.009901</td>\n",
       "      <td>0.837037</td>\n",
       "      <td>Moderate</td>\n",
       "      <td>High</td>\n",
       "      <td>0</td>\n",
       "      <td>0</td>\n",
       "      <td>1</td>\n",
       "    </tr>\n",
       "  </tbody>\n",
       "</table>\n",
       "</div>"
      ],
      "text/plain": [
       "     item_description          transaction_date invoice_id customer_id  \\\n",
       "0  ORANGE BARLEY 1.5L  2021-12-11T00:00:00.000Z      147.0        BGXA   \n",
       "1     TONIC PET 500ML  2021-12-13T00:00:00.000Z      484.0        VN7V   \n",
       "2       CREAM SODA 1L  2021-12-13T00:00:00.000Z      484.0        VN7V   \n",
       "3    GINGER BEER 1.5L  2021-12-10T00:00:00.000Z  1000053.0        VT9C   \n",
       "4    GINGER BEER 1.5L  2021-12-10T00:00:00.000Z  1000057.0        8QLS   \n",
       "\n",
       "   shop_id  item_price  quantity_sold  shop_area_sq_m shop_profile  \\\n",
       "0  SHOP008    0.571429       0.019802        0.837037     Moderate   \n",
       "1  SHOP008    0.415584       0.019802        0.837037     Moderate   \n",
       "2  SHOP008    0.389610       0.019802        0.837037     Moderate   \n",
       "3  SHOP008    0.571429       0.009901        0.837037     Moderate   \n",
       "4  SHOP008    0.571429       0.009901        0.837037     Moderate   \n",
       "\n",
       "  quantity_sold-binned  High space  Moderate space  Low space  \n",
       "0                 High           0               0          1  \n",
       "1                 High           0               0          1  \n",
       "2                 High           0               0          1  \n",
       "3                 High           0               0          1  \n",
       "4                 High           0               0          1  "
      ]
     },
     "execution_count": 298,
     "metadata": {},
     "output_type": "execute_result"
    }
   ],
   "source": [
    "# Drop original column \"shop_area_sq_m\" from \"merged_df\"\n",
    "merged_df.drop('shop_area_sq_m-binned', axis = 1, inplace = True)\n",
    "merged_df.head() "
   ]
  },
  {
   "cell_type": "code",
   "execution_count": 299,
   "id": "5e8c7148",
   "metadata": {},
   "outputs": [
    {
     "data": {
      "text/html": [
       "<div>\n",
       "<style scoped>\n",
       "    .dataframe tbody tr th:only-of-type {\n",
       "        vertical-align: middle;\n",
       "    }\n",
       "\n",
       "    .dataframe tbody tr th {\n",
       "        vertical-align: top;\n",
       "    }\n",
       "\n",
       "    .dataframe thead th {\n",
       "        text-align: right;\n",
       "    }\n",
       "</style>\n",
       "<table border=\"1\" class=\"dataframe\">\n",
       "  <thead>\n",
       "    <tr style=\"text-align: right;\">\n",
       "      <th></th>\n",
       "      <th>item_price</th>\n",
       "      <th>quantity_sold</th>\n",
       "      <th>shop_area_sq_m</th>\n",
       "      <th>High space</th>\n",
       "      <th>Moderate space</th>\n",
       "      <th>Low space</th>\n",
       "    </tr>\n",
       "  </thead>\n",
       "  <tbody>\n",
       "    <tr>\n",
       "      <th>count</th>\n",
       "      <td>402301.000000</td>\n",
       "      <td>402301.000000</td>\n",
       "      <td>402301.000000</td>\n",
       "      <td>402301.000000</td>\n",
       "      <td>402301.000000</td>\n",
       "      <td>402301.000000</td>\n",
       "    </tr>\n",
       "    <tr>\n",
       "      <th>mean</th>\n",
       "      <td>0.464439</td>\n",
       "      <td>0.018581</td>\n",
       "      <td>0.752154</td>\n",
       "      <td>0.107534</td>\n",
       "      <td>0.500377</td>\n",
       "      <td>0.392090</td>\n",
       "    </tr>\n",
       "    <tr>\n",
       "      <th>std</th>\n",
       "      <td>0.182959</td>\n",
       "      <td>0.015547</td>\n",
       "      <td>0.121117</td>\n",
       "      <td>0.309791</td>\n",
       "      <td>0.500000</td>\n",
       "      <td>0.488217</td>\n",
       "    </tr>\n",
       "    <tr>\n",
       "      <th>min</th>\n",
       "      <td>0.090909</td>\n",
       "      <td>-0.009901</td>\n",
       "      <td>0.367901</td>\n",
       "      <td>0.000000</td>\n",
       "      <td>0.000000</td>\n",
       "      <td>0.000000</td>\n",
       "    </tr>\n",
       "    <tr>\n",
       "      <th>25%</th>\n",
       "      <td>0.285714</td>\n",
       "      <td>0.009901</td>\n",
       "      <td>0.697531</td>\n",
       "      <td>0.000000</td>\n",
       "      <td>0.000000</td>\n",
       "      <td>0.000000</td>\n",
       "    </tr>\n",
       "    <tr>\n",
       "      <th>50%</th>\n",
       "      <td>0.571429</td>\n",
       "      <td>0.019802</td>\n",
       "      <td>0.761728</td>\n",
       "      <td>0.000000</td>\n",
       "      <td>1.000000</td>\n",
       "      <td>0.000000</td>\n",
       "    </tr>\n",
       "    <tr>\n",
       "      <th>75%</th>\n",
       "      <td>0.571429</td>\n",
       "      <td>0.019802</td>\n",
       "      <td>0.834568</td>\n",
       "      <td>0.000000</td>\n",
       "      <td>1.000000</td>\n",
       "      <td>1.000000</td>\n",
       "    </tr>\n",
       "    <tr>\n",
       "      <th>max</th>\n",
       "      <td>1.000000</td>\n",
       "      <td>1.000000</td>\n",
       "      <td>1.000000</td>\n",
       "      <td>1.000000</td>\n",
       "      <td>1.000000</td>\n",
       "      <td>1.000000</td>\n",
       "    </tr>\n",
       "  </tbody>\n",
       "</table>\n",
       "</div>"
      ],
      "text/plain": [
       "          item_price  quantity_sold  shop_area_sq_m     High space  \\\n",
       "count  402301.000000  402301.000000   402301.000000  402301.000000   \n",
       "mean        0.464439       0.018581        0.752154       0.107534   \n",
       "std         0.182959       0.015547        0.121117       0.309791   \n",
       "min         0.090909      -0.009901        0.367901       0.000000   \n",
       "25%         0.285714       0.009901        0.697531       0.000000   \n",
       "50%         0.571429       0.019802        0.761728       0.000000   \n",
       "75%         0.571429       0.019802        0.834568       0.000000   \n",
       "max         1.000000       1.000000        1.000000       1.000000   \n",
       "\n",
       "       Moderate space      Low space  \n",
       "count   402301.000000  402301.000000  \n",
       "mean         0.500377       0.392090  \n",
       "std          0.500000       0.488217  \n",
       "min          0.000000       0.000000  \n",
       "25%          0.000000       0.000000  \n",
       "50%          1.000000       0.000000  \n",
       "75%          1.000000       1.000000  \n",
       "max          1.000000       1.000000  "
      ]
     },
     "execution_count": 299,
     "metadata": {},
     "output_type": "execute_result"
    }
   ],
   "source": [
    "merged_df.describe()"
   ]
  },
  {
   "cell_type": "markdown",
   "id": "1cc9af92",
   "metadata": {},
   "source": [
    "Based on the above statistical measures with dummy variable: shop area, the corporation could make data-driven decisions on  resource allocation, identifying profitable stores, optimize item range decisions, etc. "
   ]
  }
 ],
 "metadata": {
  "kernelspec": {
   "display_name": "Python 3 (ipykernel)",
   "language": "python",
   "name": "python3"
  },
  "language_info": {
   "codemirror_mode": {
    "name": "ipython",
    "version": 3
   },
   "file_extension": ".py",
   "mimetype": "text/x-python",
   "name": "python",
   "nbconvert_exporter": "python",
   "pygments_lexer": "ipython3",
   "version": "3.10.9"
  }
 },
 "nbformat": 4,
 "nbformat_minor": 5
}
